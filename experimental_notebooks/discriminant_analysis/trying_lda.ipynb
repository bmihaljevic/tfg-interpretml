{
 "cells": [
  {
   "cell_type": "code",
   "execution_count": 1,
   "metadata": {},
   "outputs": [],
   "source": [
    "import sys\n",
    "import os\n",
    "import pandas as pd\n",
    "import numpy as np\n",
    "\n",
    "# Obtener el directorio actual\n",
    "current_directory = os.getcwd()\n",
    "\n",
    "# Subir dos niveles al directorio raíz, donde se encuentra la carpeta 'interpretml'\n",
    "root_path = os.path.abspath(os.path.join(current_directory, '..', '..', '..'))\n",
    "\n",
    "sys.path.append(root_path)"
   ]
  },
  {
   "cell_type": "markdown",
   "metadata": {},
   "source": [
    "# Iris Dataset"
   ]
  },
  {
   "cell_type": "code",
   "execution_count": 2,
   "metadata": {},
   "outputs": [],
   "source": [
    "iris = pd.read_csv('https://archive.ics.uci.edu/ml/machine-learning-databases/iris/iris.data', header=None)\n",
    "iris.columns = ['sepal_length', 'sepal_width', 'petal_length', 'petal_width', 'species']\n",
    "\n",
    "# Create a binary problem\n",
    "iris['species'] = np.where(iris['species'] == 'Iris-setosa', 1, 0)\n",
    "\n",
    "X = iris.drop('species', axis=1)\n",
    "y = iris['species']\n",
    "\n",
    "# Split\n",
    "from sklearn.model_selection import train_test_split\n",
    "X_train, X_test, y_train, y_test = train_test_split(X, y, test_size=0.2, random_state=42)"
   ]
  },
  {
   "cell_type": "markdown",
   "metadata": {},
   "source": [
    "# LDA"
   ]
  },
  {
   "cell_type": "code",
   "execution_count": 3,
   "metadata": {},
   "outputs": [],
   "source": [
    "import pandas as pd\n",
    "import numpy as np\n",
    "from interpret import show\n",
    "from interpret.glassbox._lineardiscriminantanalysis import LinearDiscriminantAnalysisClassifier"
   ]
  },
  {
   "cell_type": "code",
   "execution_count": 4,
   "metadata": {},
   "outputs": [],
   "source": [
    "lda = LinearDiscriminantAnalysisClassifier()"
   ]
  },
  {
   "cell_type": "code",
   "execution_count": 5,
   "metadata": {},
   "outputs": [
    {
     "data": {
      "text/plain": [
       "<interpret.glassbox._lineardiscriminantanalysis.LinearDiscriminantAnalysisClassifier at 0x259590d4f70>"
      ]
     },
     "execution_count": 5,
     "metadata": {},
     "output_type": "execute_result"
    }
   ],
   "source": [
    "lda.fit(X_train, y_train)"
   ]
  },
  {
   "cell_type": "code",
   "execution_count": 6,
   "metadata": {},
   "outputs": [
    {
     "name": "stdout",
     "output_type": "stream",
     "text": [
      "[6.1 2.8 4.7 1.2]\n",
      "-18.125835332866366\n",
      "[13.835606006162982 36.7887274888782 -49.83205057654085 -4.073418368762643]\n",
      "\n",
      "[5.7 3.8 1.7 0.3]\n",
      "-18.125835332866366\n",
      "[12.928353153299836 49.927558734906135 -18.024358719174348\n",
      " -1.0183545921906607]\n",
      "\n",
      "[7.7 2.6 6.9 2.3]\n",
      "-18.125835332866366\n",
      "[17.464617417615568 34.160961239672616 -73.15769127194295\n",
      " -7.8073852067950655]\n",
      "\n"
     ]
    },
    {
     "data": {
      "text/html": [
       "<!-- http://127.0.0.1:7001/2582769738560/ -->\n",
       "<iframe src=\"http://127.0.0.1:7001/2582769738560/\" width=100% height=800 frameBorder=\"0\"></iframe>"
      ]
     },
     "metadata": {},
     "output_type": "display_data"
    }
   ],
   "source": [
    "lda_local = lda.explain_local(X_test[:3], y_test[:3])\n",
    "show(lda_local)"
   ]
  }
 ],
 "metadata": {
  "kernelspec": {
   "display_name": "Python 3",
   "language": "python",
   "name": "python3"
  },
  "language_info": {
   "codemirror_mode": {
    "name": "ipython",
    "version": 3
   },
   "file_extension": ".py",
   "mimetype": "text/x-python",
   "name": "python",
   "nbconvert_exporter": "python",
   "pygments_lexer": "ipython3",
   "version": "3.9.6"
  }
 },
 "nbformat": 4,
 "nbformat_minor": 2
}
