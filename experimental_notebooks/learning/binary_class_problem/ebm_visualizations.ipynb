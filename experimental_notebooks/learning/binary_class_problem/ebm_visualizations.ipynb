{
 "cells": [
  {
   "cell_type": "code",
   "execution_count": 1,
   "metadata": {},
   "outputs": [],
   "source": [
    "import sys\n",
    "import os\n",
    "\n",
    "# Obtener el directorio actual\n",
    "current_directory = os.getcwd()\n",
    "\n",
    "# Subir dos niveles al directorio raíz, donde se encuentra la carpeta 'interpretml'\n",
    "root_path = os.path.abspath(os.path.join(current_directory, '..', '..', '..'))\n",
    "\n",
    "sys.path.append(root_path)"
   ]
  },
  {
   "cell_type": "code",
   "execution_count": 2,
   "metadata": {},
   "outputs": [],
   "source": [
    "import pandas as pd\n",
    "import numpy as np\n",
    "import interpret"
   ]
  },
  {
   "cell_type": "markdown",
   "metadata": {},
   "source": [
    "Read the data"
   ]
  },
  {
   "cell_type": "code",
   "execution_count": 3,
   "metadata": {},
   "outputs": [],
   "source": [
    "X_train = pd.read_csv('data/X_train.csv')\n",
    "y_train = pd.read_csv('data/y_train.csv').to_numpy().ravel()\n",
    "\n",
    "X_test = pd.read_csv('data/X_test.csv')\n",
    "y_test = pd.read_csv('data/y_test.csv').to_numpy().ravel()"
   ]
  },
  {
   "cell_type": "code",
   "execution_count": 4,
   "metadata": {},
   "outputs": [
    {
     "data": {
      "text/html": [
       "<style>#sk-container-id-1 {color: black;}#sk-container-id-1 pre{padding: 0;}#sk-container-id-1 div.sk-toggleable {background-color: white;}#sk-container-id-1 label.sk-toggleable__label {cursor: pointer;display: block;width: 100%;margin-bottom: 0;padding: 0.3em;box-sizing: border-box;text-align: center;}#sk-container-id-1 label.sk-toggleable__label-arrow:before {content: \"▸\";float: left;margin-right: 0.25em;color: #696969;}#sk-container-id-1 label.sk-toggleable__label-arrow:hover:before {color: black;}#sk-container-id-1 div.sk-estimator:hover label.sk-toggleable__label-arrow:before {color: black;}#sk-container-id-1 div.sk-toggleable__content {max-height: 0;max-width: 0;overflow: hidden;text-align: left;background-color: #f0f8ff;}#sk-container-id-1 div.sk-toggleable__content pre {margin: 0.2em;color: black;border-radius: 0.25em;background-color: #f0f8ff;}#sk-container-id-1 input.sk-toggleable__control:checked~div.sk-toggleable__content {max-height: 200px;max-width: 100%;overflow: auto;}#sk-container-id-1 input.sk-toggleable__control:checked~label.sk-toggleable__label-arrow:before {content: \"▾\";}#sk-container-id-1 div.sk-estimator input.sk-toggleable__control:checked~label.sk-toggleable__label {background-color: #d4ebff;}#sk-container-id-1 div.sk-label input.sk-toggleable__control:checked~label.sk-toggleable__label {background-color: #d4ebff;}#sk-container-id-1 input.sk-hidden--visually {border: 0;clip: rect(1px 1px 1px 1px);clip: rect(1px, 1px, 1px, 1px);height: 1px;margin: -1px;overflow: hidden;padding: 0;position: absolute;width: 1px;}#sk-container-id-1 div.sk-estimator {font-family: monospace;background-color: #f0f8ff;border: 1px dotted black;border-radius: 0.25em;box-sizing: border-box;margin-bottom: 0.5em;}#sk-container-id-1 div.sk-estimator:hover {background-color: #d4ebff;}#sk-container-id-1 div.sk-parallel-item::after {content: \"\";width: 100%;border-bottom: 1px solid gray;flex-grow: 1;}#sk-container-id-1 div.sk-label:hover label.sk-toggleable__label {background-color: #d4ebff;}#sk-container-id-1 div.sk-serial::before {content: \"\";position: absolute;border-left: 1px solid gray;box-sizing: border-box;top: 0;bottom: 0;left: 50%;z-index: 0;}#sk-container-id-1 div.sk-serial {display: flex;flex-direction: column;align-items: center;background-color: white;padding-right: 0.2em;padding-left: 0.2em;position: relative;}#sk-container-id-1 div.sk-item {position: relative;z-index: 1;}#sk-container-id-1 div.sk-parallel {display: flex;align-items: stretch;justify-content: center;background-color: white;position: relative;}#sk-container-id-1 div.sk-item::before, #sk-container-id-1 div.sk-parallel-item::before {content: \"\";position: absolute;border-left: 1px solid gray;box-sizing: border-box;top: 0;bottom: 0;left: 50%;z-index: -1;}#sk-container-id-1 div.sk-parallel-item {display: flex;flex-direction: column;z-index: 1;position: relative;background-color: white;}#sk-container-id-1 div.sk-parallel-item:first-child::after {align-self: flex-end;width: 50%;}#sk-container-id-1 div.sk-parallel-item:last-child::after {align-self: flex-start;width: 50%;}#sk-container-id-1 div.sk-parallel-item:only-child::after {width: 0;}#sk-container-id-1 div.sk-dashed-wrapped {border: 1px dashed gray;margin: 0 0.4em 0.5em 0.4em;box-sizing: border-box;padding-bottom: 0.4em;background-color: white;}#sk-container-id-1 div.sk-label label {font-family: monospace;font-weight: bold;display: inline-block;line-height: 1.2em;}#sk-container-id-1 div.sk-label-container {text-align: center;}#sk-container-id-1 div.sk-container {/* jupyter's `normalize.less` sets `[hidden] { display: none; }` but bootstrap.min.css set `[hidden] { display: none !important; }` so we also need the `!important` here to be able to override the default hidden behavior on the sphinx rendered scikit-learn.org. See: https://github.com/scikit-learn/scikit-learn/issues/21755 */display: inline-block !important;position: relative;}#sk-container-id-1 div.sk-text-repr-fallback {display: none;}</style><div id=\"sk-container-id-1\" class=\"sk-top-container\"><div class=\"sk-text-repr-fallback\"><pre>ExplainableBoostingClassifier(interactions=2)</pre><b>In a Jupyter environment, please rerun this cell to show the HTML representation or trust the notebook. <br />On GitHub, the HTML representation is unable to render, please try loading this page with nbviewer.org.</b></div><div class=\"sk-container\" hidden><div class=\"sk-item\"><div class=\"sk-estimator sk-toggleable\"><input class=\"sk-toggleable__control sk-hidden--visually\" id=\"sk-estimator-id-1\" type=\"checkbox\" checked><label for=\"sk-estimator-id-1\" class=\"sk-toggleable__label sk-toggleable__label-arrow\">ExplainableBoostingClassifier</label><div class=\"sk-toggleable__content\"><pre>ExplainableBoostingClassifier(interactions=2)</pre></div></div></div></div></div>"
      ],
      "text/plain": [
       "ExplainableBoostingClassifier(interactions=2)"
      ]
     },
     "execution_count": 4,
     "metadata": {},
     "output_type": "execute_result"
    }
   ],
   "source": [
    "from interpret.glassbox import ExplainableBoostingClassifier\n",
    "from interpret import show\n",
    "\n",
    "ebm = ExplainableBoostingClassifier(interactions=2)\n",
    "ebm.fit(X_train, y_train)"
   ]
  },
  {
   "cell_type": "markdown",
   "metadata": {},
   "source": [
    "## Global explanations"
   ]
  },
  {
   "cell_type": "code",
   "execution_count": 5,
   "metadata": {},
   "outputs": [
    {
     "name": "stdout",
     "output_type": "stream",
     "text": [
      "Utilizando librería modificada de interpret\n",
      "(0, 7)\n",
      "[0.0, 0.5, 1.5, 2.5, 3.5, 4.5, 5.5, 6.5, 7.5, 8.5, 9.5, 10.5, 11.5, 12.5, 13.5, 17.0]\n",
      "[21.0, 21.5, 22.5, 23.5, 24.5, 25.5, 26.5, 27.5, 28.5, 29.5, 30.5, 31.5, 32.5, 33.5, 34.5, 35.5, 36.5, 37.5, 38.5, 39.5, 40.5, 41.5, 42.5, 43.5, 44.5, 45.5, 46.5, 47.5, 48.5, 49.5, 50.5, 51.5, 52.5, 53.5, 54.5, 55.5, 56.5, 57.5, 58.5, 59.5, 60.5, 62.5, 63.5, 64.5, 65.5, 66.5, 67.5, 69.5, 81.0]\n",
      "(1, 4)\n",
      "[0.0, 69.5, 74.5, 78.5, 80.5, 83.5, 84.5, 87.5, 88.5, 89.5, 90.5, 91.5, 92.5, 94.5, 95.5, 98.5, 99.5, 100.5, 101.5, 102.5, 104.5, 105.5, 106.5, 108.5, 109.5, 111.5, 112.5, 114.5, 116.5, 117.5, 119.5, 121.5, 122.5, 123.5, 124.5, 125.5, 127.5, 128.5, 129.5, 131.5, 134.5, 137.5, 139.5, 141.5, 143.5, 145.5, 146.5, 148.5, 151.5, 154.5, 157.5, 158.5, 161.5, 162.5, 164.5, 167.5, 172.0, 174.5, 179.5, 182.0, 187.5, 192.5, 198.0]\n",
      "[0.0, 7.0, 24.0, 36.5, 43.5, 47.0, 49.5, 53.5, 55.5, 56.5, 58.5, 63.5, 65.5, 66.5, 70.5, 73.5, 75.5, 76.5, 82.0, 87.5, 89.5, 93.0, 94.5, 99.5, 102.5, 105.5, 109.0, 111.0, 114.5, 119.5, 121.0, 125.5, 129.5, 131.0, 137.5, 141.0, 145.5, 149.0, 153.5, 155.5, 159.5, 162.5, 167.5, 172.5, 179.0, 181.0, 184.5, 191.0, 195.0, 202.5, 212.5, 222.5, 230.5, 244.5, 256.5, 272.0, 288.0, 319.5, 329.0, 389.5, 479.0, 525.0, 846.0]\n"
     ]
    },
    {
     "data": {
      "text/html": [
       "<!-- http://127.0.0.1:7001/1446966548704/ -->\n",
       "<iframe src=\"http://127.0.0.1:7001/1446966548704/\" width=100% height=800 frameBorder=\"0\"></iframe>"
      ]
     },
     "metadata": {},
     "output_type": "display_data"
    }
   ],
   "source": [
    "ebm_global = ebm.explain_global()\n",
    "show(ebm_global)"
   ]
  },
  {
   "cell_type": "markdown",
   "metadata": {},
   "source": [
    "EBM class use 'ebm.term_scores' to create the graph. Each term has a list of scores, each one representing a bin of the variable (or term). In the case of glucose, a low (0-120) value would mean a negative score, suggesting no-diabetes prediction; a high score (120-180) would likely mean that the person has diabetes."
   ]
  },
  {
   "cell_type": "markdown",
   "metadata": {},
   "source": [
    "The number of scores in the list is determined by the bins of the variable. And the number of bins depend on the distribution of the variable and the discretization algorithm used. For example, in the case of glucose would be the following bins:"
   ]
  },
  {
   "cell_type": "code",
   "execution_count": 6,
   "metadata": {},
   "outputs": [
    {
     "name": "stdout",
     "output_type": "stream",
     "text": [
      "Number of bins in glucose:  127\n"
     ]
    },
    {
     "data": {
      "text/plain": [
       "array([ 22. ,  50. ,  56.5,  62. ,  67.5,  69.5,  72. ,  73.5,  74.5,\n",
       "        75.5,  76.5,  77.5,  78.5,  79.5,  80.5,  81.5,  82.5,  83.5,\n",
       "        84.5,  85.5,  86.5,  87.5,  88.5,  89.5,  90.5,  91.5,  92.5,\n",
       "        93.5,  94.5,  95.5,  96.5,  97.5,  98.5,  99.5, 100.5, 101.5,\n",
       "       102.5, 103.5, 104.5, 105.5, 106.5, 107.5, 108.5, 109.5, 110.5,\n",
       "       111.5, 112.5, 113.5, 114.5, 115.5, 116.5, 117.5, 118.5, 119.5,\n",
       "       120.5, 121.5, 122.5, 123.5, 124.5, 125.5, 126.5, 127.5, 128.5,\n",
       "       129.5, 130.5, 131.5, 132.5, 133.5, 134.5, 135.5, 136.5, 137.5,\n",
       "       138.5, 139.5, 140.5, 141.5, 142.5, 143.5, 144.5, 145.5, 146.5,\n",
       "       147.5, 148.5, 149.5, 150.5, 151.5, 152.5, 153.5, 154.5, 155.5,\n",
       "       156.5, 157.5, 158.5, 159.5, 160.5, 161.5, 162.5, 163.5, 164.5,\n",
       "       165.5, 166.5, 167.5, 168.5, 169.5, 170.5, 172. , 173.5, 174.5,\n",
       "       175.5, 176.5, 177.5, 178.5, 179.5, 180.5, 182. , 183.5, 185. ,\n",
       "       186.5, 187.5, 188.5, 189.5, 190.5, 192.5, 194.5, 195.5, 196.5,\n",
       "       197.5])"
      ]
     },
     "execution_count": 6,
     "metadata": {},
     "output_type": "execute_result"
    }
   ],
   "source": [
    "print(\"Number of bins in glucose: \", len(ebm.bins_[1][0]))\n",
    "ebm.bins_[1][0]"
   ]
  },
  {
   "cell_type": "markdown",
   "metadata": {},
   "source": [
    "And the constant value associated to each bin:"
   ]
  },
  {
   "cell_type": "code",
   "execution_count": 7,
   "metadata": {},
   "outputs": [
    {
     "data": {
      "text/plain": [
       "array([ 0.        , -0.63099025, -0.96340995, -1.07419818, -1.08696046,\n",
       "       -1.09622566, -1.10274483, -1.10289811, -1.10208151, -1.09683749,\n",
       "       -1.0895702 , -1.08023566, -1.06673348, -1.05791202, -1.05088763,\n",
       "       -1.04238371, -1.03588866, -1.02504243, -1.01327663, -1.00053769,\n",
       "       -0.99254221, -0.9866094 , -0.97700863, -0.96352772, -0.95094951,\n",
       "       -0.87290783, -0.85902529, -0.82093015, -0.80191835, -0.79039522,\n",
       "       -0.73511625, -0.74355387, -0.72844433, -0.72850191, -0.70666284,\n",
       "       -0.58605972, -0.55097082, -0.48845591, -0.47596127, -0.43548435,\n",
       "       -0.44000901, -0.42161198, -0.27850545, -0.26367686, -0.25517668,\n",
       "       -0.24383747, -0.22785207, -0.2121048 , -0.20165836, -0.19118097,\n",
       "       -0.17604766, -0.16344234, -0.15081739, -0.1416803 , -0.12985512,\n",
       "       -0.120627  , -0.09882757, -0.08985672, -0.09918228,  0.11258764,\n",
       "        0.11835203,  0.09493013,  0.10516306,  0.12794073,  0.14430878,\n",
       "        0.34647529,  0.36365193,  0.37696104,  0.39750485,  0.40918935,\n",
       "        0.36639142,  0.3695101 ,  0.35497404,  0.36766847,  0.38454378,\n",
       "        0.40583168,  0.39790888,  0.41164422,  0.42950206,  0.4850671 ,\n",
       "        0.51191812,  0.53054222,  0.55507049,  0.58788654,  0.61084542,\n",
       "        0.62389358,  0.65396191,  0.6649446 ,  0.57910355,  0.60274203,\n",
       "        0.91570305,  0.93100563,  0.95209007,  0.99120582,  1.00413101,\n",
       "        1.07662981,  1.10683388,  1.11938212,  1.13597697,  1.14399051,\n",
       "        0.83491397,  0.89090888,  1.50037134,  1.53702914,  1.56461679,\n",
       "        1.59935356,  1.61319557,  1.62610777,  1.65118089,  1.66602863,\n",
       "        1.67729222,  1.6944703 ,  1.70618903,  1.71356362,  1.73216808,\n",
       "        1.75044451,  1.76203993,  1.77807668,  1.78874493,  1.79651381,\n",
       "        1.80513375,  1.77923557,  1.78326104,  1.78250753,  1.78985924,\n",
       "        1.8050682 ,  1.81054641,  1.80695989,  1.82287881,  0.        ])"
      ]
     },
     "execution_count": 7,
     "metadata": {},
     "output_type": "execute_result"
    }
   ],
   "source": [
    "ebm.term_scores_[1]"
   ]
  },
  {
   "cell_type": "markdown",
   "metadata": {},
   "source": [
    "So this means that we can modify the value on each bin to visualize, for example, the weights of another model:"
   ]
  },
  {
   "cell_type": "markdown",
   "metadata": {},
   "source": [
    "#### 1. Constant score"
   ]
  },
  {
   "cell_type": "code",
   "execution_count": 8,
   "metadata": {},
   "outputs": [],
   "source": [
    "ebm.term_scores_[1] = np.ones(ebm.term_scores_[1].shape)"
   ]
  },
  {
   "cell_type": "code",
   "execution_count": 9,
   "metadata": {},
   "outputs": [
    {
     "data": {
      "text/plain": [
       "array([1., 1., 1., 1., 1., 1., 1., 1., 1., 1., 1., 1., 1., 1., 1., 1., 1.,\n",
       "       1., 1., 1., 1., 1., 1., 1., 1., 1., 1., 1., 1., 1., 1., 1., 1., 1.,\n",
       "       1., 1., 1., 1., 1., 1., 1., 1., 1., 1., 1., 1., 1., 1., 1., 1., 1.,\n",
       "       1., 1., 1., 1., 1., 1., 1., 1., 1., 1., 1., 1., 1., 1., 1., 1., 1.,\n",
       "       1., 1., 1., 1., 1., 1., 1., 1., 1., 1., 1., 1., 1., 1., 1., 1., 1.,\n",
       "       1., 1., 1., 1., 1., 1., 1., 1., 1., 1., 1., 1., 1., 1., 1., 1., 1.,\n",
       "       1., 1., 1., 1., 1., 1., 1., 1., 1., 1., 1., 1., 1., 1., 1., 1., 1.,\n",
       "       1., 1., 1., 1., 1., 1., 1., 1., 1., 1., 1.])"
      ]
     },
     "execution_count": 9,
     "metadata": {},
     "output_type": "execute_result"
    }
   ],
   "source": [
    "ebm.term_scores_[1]"
   ]
  },
  {
   "cell_type": "code",
   "execution_count": 10,
   "metadata": {},
   "outputs": [
    {
     "name": "stdout",
     "output_type": "stream",
     "text": [
      "Utilizando librería modificada de interpret\n",
      "(0, 7)\n",
      "[0.0, 0.5, 1.5, 2.5, 3.5, 4.5, 5.5, 6.5, 7.5, 8.5, 9.5, 10.5, 11.5, 12.5, 13.5, 17.0]\n",
      "[21.0, 21.5, 22.5, 23.5, 24.5, 25.5, 26.5, 27.5, 28.5, 29.5, 30.5, 31.5, 32.5, 33.5, 34.5, 35.5, 36.5, 37.5, 38.5, 39.5, 40.5, 41.5, 42.5, 43.5, 44.5, 45.5, 46.5, 47.5, 48.5, 49.5, 50.5, 51.5, 52.5, 53.5, 54.5, 55.5, 56.5, 57.5, 58.5, 59.5, 60.5, 62.5, 63.5, 64.5, 65.5, 66.5, 67.5, 69.5, 81.0]\n",
      "(1, 4)\n",
      "[0.0, 69.5, 74.5, 78.5, 80.5, 83.5, 84.5, 87.5, 88.5, 89.5, 90.5, 91.5, 92.5, 94.5, 95.5, 98.5, 99.5, 100.5, 101.5, 102.5, 104.5, 105.5, 106.5, 108.5, 109.5, 111.5, 112.5, 114.5, 116.5, 117.5, 119.5, 121.5, 122.5, 123.5, 124.5, 125.5, 127.5, 128.5, 129.5, 131.5, 134.5, 137.5, 139.5, 141.5, 143.5, 145.5, 146.5, 148.5, 151.5, 154.5, 157.5, 158.5, 161.5, 162.5, 164.5, 167.5, 172.0, 174.5, 179.5, 182.0, 187.5, 192.5, 198.0]\n",
      "[0.0, 7.0, 24.0, 36.5, 43.5, 47.0, 49.5, 53.5, 55.5, 56.5, 58.5, 63.5, 65.5, 66.5, 70.5, 73.5, 75.5, 76.5, 82.0, 87.5, 89.5, 93.0, 94.5, 99.5, 102.5, 105.5, 109.0, 111.0, 114.5, 119.5, 121.0, 125.5, 129.5, 131.0, 137.5, 141.0, 145.5, 149.0, 153.5, 155.5, 159.5, 162.5, 167.5, 172.5, 179.0, 181.0, 184.5, 191.0, 195.0, 202.5, 212.5, 222.5, 230.5, 244.5, 256.5, 272.0, 288.0, 319.5, 329.0, 389.5, 479.0, 525.0, 846.0]\n"
     ]
    },
    {
     "data": {
      "text/html": [
       "<!-- http://127.0.0.1:7001/1447271544336/ -->\n",
       "<iframe src=\"http://127.0.0.1:7001/1447271544336/\" width=100% height=800 frameBorder=\"0\"></iframe>"
      ]
     },
     "metadata": {},
     "output_type": "display_data"
    }
   ],
   "source": [
    "ebm_global = ebm.explain_global()\n",
    "show(ebm_global)"
   ]
  },
  {
   "cell_type": "markdown",
   "metadata": {},
   "source": [
    "#### 2. Random scores"
   ]
  },
  {
   "cell_type": "code",
   "execution_count": 11,
   "metadata": {},
   "outputs": [],
   "source": [
    "ebm.term_scores_[1] = np.random.rand(ebm.term_scores_[1].shape[0])"
   ]
  },
  {
   "cell_type": "code",
   "execution_count": 12,
   "metadata": {},
   "outputs": [
    {
     "data": {
      "text/plain": [
       "array([0.51387227, 0.69557619, 0.23871572, 0.53841628, 0.64323544,\n",
       "       0.22507502, 0.29991239, 0.4169889 , 0.79436062, 0.86031461,\n",
       "       0.65159743, 0.33740225, 0.26309045, 0.67191239, 0.80864161,\n",
       "       0.33289637, 0.04189553, 0.50704678, 0.42873708, 0.30091766,\n",
       "       0.47352329, 0.74296242, 0.01745356, 0.7520779 , 0.83547282,\n",
       "       0.21280395, 0.70671087, 0.29420222, 0.67253608, 0.50716736,\n",
       "       0.37262996, 0.65071482, 0.95805503, 0.49437837, 0.88511414,\n",
       "       0.42772462, 0.64786803, 0.0912802 , 0.03724324, 0.36641439,\n",
       "       0.6813123 , 0.2405457 , 0.24214237, 0.74095761, 0.51642197,\n",
       "       0.82367055, 0.54959528, 0.97366664, 0.22387067, 0.97006598,\n",
       "       0.01594415, 0.36192437, 0.30067808, 0.63809879, 0.18836922,\n",
       "       0.46712668, 0.85164264, 0.51245509, 0.58981193, 0.61918913,\n",
       "       0.77533268, 0.04040979, 0.55057723, 0.288693  , 0.53805535,\n",
       "       0.02070841, 0.34052542, 0.62345539, 0.927176  , 0.73429626,\n",
       "       0.45309576, 0.36814027, 0.55794529, 0.01170468, 0.86737569,\n",
       "       0.53471516, 0.69099748, 0.13120887, 0.06345544, 0.45826341,\n",
       "       0.05406794, 0.11227469, 0.84665938, 0.17098734, 0.12344887,\n",
       "       0.13495266, 0.07290006, 0.67330624, 0.16425925, 0.59295664,\n",
       "       0.75647756, 0.85032727, 0.07125903, 0.83697591, 0.65943039,\n",
       "       0.5782327 , 0.40646769, 0.30256755, 0.82118247, 0.24321594,\n",
       "       0.44707504, 0.94360384, 0.4834599 , 0.43115093, 0.91461391,\n",
       "       0.47958656, 0.44045244, 0.97163369, 0.77120857, 0.41053174,\n",
       "       0.11985073, 0.82623184, 0.39064248, 0.86762997, 0.28946325,\n",
       "       0.68895762, 0.05808374, 0.44790321, 0.52623266, 0.62294292,\n",
       "       0.23393975, 0.19821204, 0.73389076, 0.4454255 , 0.50695445,\n",
       "       0.49677229, 0.98580151, 0.38673034, 0.14060408, 0.95281335])"
      ]
     },
     "execution_count": 12,
     "metadata": {},
     "output_type": "execute_result"
    }
   ],
   "source": [
    "ebm.term_scores_[1]"
   ]
  },
  {
   "cell_type": "code",
   "execution_count": 13,
   "metadata": {},
   "outputs": [
    {
     "name": "stdout",
     "output_type": "stream",
     "text": [
      "Utilizando librería modificada de interpret\n",
      "(0, 7)\n",
      "[0.0, 0.5, 1.5, 2.5, 3.5, 4.5, 5.5, 6.5, 7.5, 8.5, 9.5, 10.5, 11.5, 12.5, 13.5, 17.0]\n",
      "[21.0, 21.5, 22.5, 23.5, 24.5, 25.5, 26.5, 27.5, 28.5, 29.5, 30.5, 31.5, 32.5, 33.5, 34.5, 35.5, 36.5, 37.5, 38.5, 39.5, 40.5, 41.5, 42.5, 43.5, 44.5, 45.5, 46.5, 47.5, 48.5, 49.5, 50.5, 51.5, 52.5, 53.5, 54.5, 55.5, 56.5, 57.5, 58.5, 59.5, 60.5, 62.5, 63.5, 64.5, 65.5, 66.5, 67.5, 69.5, 81.0]\n",
      "(1, 4)\n",
      "[0.0, 69.5, 74.5, 78.5, 80.5, 83.5, 84.5, 87.5, 88.5, 89.5, 90.5, 91.5, 92.5, 94.5, 95.5, 98.5, 99.5, 100.5, 101.5, 102.5, 104.5, 105.5, 106.5, 108.5, 109.5, 111.5, 112.5, 114.5, 116.5, 117.5, 119.5, 121.5, 122.5, 123.5, 124.5, 125.5, 127.5, 128.5, 129.5, 131.5, 134.5, 137.5, 139.5, 141.5, 143.5, 145.5, 146.5, 148.5, 151.5, 154.5, 157.5, 158.5, 161.5, 162.5, 164.5, 167.5, 172.0, 174.5, 179.5, 182.0, 187.5, 192.5, 198.0]\n",
      "[0.0, 7.0, 24.0, 36.5, 43.5, 47.0, 49.5, 53.5, 55.5, 56.5, 58.5, 63.5, 65.5, 66.5, 70.5, 73.5, 75.5, 76.5, 82.0, 87.5, 89.5, 93.0, 94.5, 99.5, 102.5, 105.5, 109.0, 111.0, 114.5, 119.5, 121.0, 125.5, 129.5, 131.0, 137.5, 141.0, 145.5, 149.0, 153.5, 155.5, 159.5, 162.5, 167.5, 172.5, 179.0, 181.0, 184.5, 191.0, 195.0, 202.5, 212.5, 222.5, 230.5, 244.5, 256.5, 272.0, 288.0, 319.5, 329.0, 389.5, 479.0, 525.0, 846.0]\n"
     ]
    },
    {
     "data": {
      "text/html": [
       "<!-- http://127.0.0.1:7001/1447270725136/ -->\n",
       "<iframe src=\"http://127.0.0.1:7001/1447270725136/\" width=100% height=800 frameBorder=\"0\"></iframe>"
      ]
     },
     "metadata": {},
     "output_type": "display_data"
    }
   ],
   "source": [
    "ebm_global = ebm.explain_global()\n",
    "show(ebm_global)"
   ]
  },
  {
   "cell_type": "markdown",
   "metadata": {},
   "source": [
    "So in this way we can use the same visualization for models like Naive Bayes."
   ]
  },
  {
   "cell_type": "markdown",
   "metadata": {},
   "source": [
    "We could also modify the histogram values using 'ebm.histogram_edges_' and 'ebm.histogram_weights_'."
   ]
  },
  {
   "cell_type": "code",
   "execution_count": 14,
   "metadata": {},
   "outputs": [
    {
     "data": {
      "text/plain": [
       "array([  0. ,  16.5,  33. ,  49.5,  66. ,  82.5,  99. , 115.5, 132. ,\n",
       "       148.5, 165. , 181.5, 198. ])"
      ]
     },
     "execution_count": 14,
     "metadata": {},
     "output_type": "execute_result"
    }
   ],
   "source": [
    "ebm.histogram_edges_[1]"
   ]
  },
  {
   "cell_type": "code",
   "execution_count": 15,
   "metadata": {},
   "outputs": [
    {
     "data": {
      "text/plain": [
       "array([  0.,   4.,   0.,   1.,   3.,  36., 103., 145., 125.,  83.,  49.,\n",
       "        38.,  27.,   0.])"
      ]
     },
     "execution_count": 15,
     "metadata": {},
     "output_type": "execute_result"
    }
   ],
   "source": [
    "ebm.histogram_weights_[1]"
   ]
  },
  {
   "cell_type": "markdown",
   "metadata": {},
   "source": [
    "## Local explanations"
   ]
  },
  {
   "cell_type": "code",
   "execution_count": 16,
   "metadata": {},
   "outputs": [
    {
     "data": {
      "text/html": [
       "<!-- http://127.0.0.1:7001/1447270765856/ -->\n",
       "<iframe src=\"http://127.0.0.1:7001/1447270765856/\" width=100% height=800 frameBorder=\"0\"></iframe>"
      ]
     },
     "metadata": {},
     "output_type": "display_data"
    }
   ],
   "source": [
    "ebm_local = ebm.explain_local(X_test, y_test)\n",
    "show(ebm_local)"
   ]
  },
  {
   "cell_type": "code",
   "execution_count": 17,
   "metadata": {},
   "outputs": [
    {
     "data": {
      "text/plain": [
       "{'label_names': [0, 1]}"
      ]
     },
     "execution_count": 17,
     "metadata": {},
     "output_type": "execute_result"
    }
   ],
   "source": [
    "ebm_local._internal_obj['specific'][0]['meta']"
   ]
  },
  {
   "cell_type": "code",
   "execution_count": 18,
   "metadata": {},
   "outputs": [
    {
     "data": {
      "text/plain": [
       "(19,)"
      ]
     },
     "execution_count": 18,
     "metadata": {},
     "output_type": "execute_result"
    }
   ],
   "source": [
    "ebm.term_scores_[0].shape"
   ]
  },
  {
   "cell_type": "code",
   "execution_count": 19,
   "metadata": {},
   "outputs": [
    {
     "data": {
      "text/plain": [
       "pregnancies      1.000\n",
       "glucose        199.000\n",
       "diastolic       76.000\n",
       "triceps         43.000\n",
       "insulin          0.000\n",
       "bmi             42.900\n",
       "dpf              1.394\n",
       "age             22.000\n",
       "Name: 0, dtype: float64"
      ]
     },
     "execution_count": 19,
     "metadata": {},
     "output_type": "execute_result"
    }
   ],
   "source": [
    "X_test.iloc[0]"
   ]
  },
  {
   "cell_type": "code",
   "execution_count": 20,
   "metadata": {},
   "outputs": [
    {
     "data": {
      "text/plain": [
       "array([[0.49089266, 0.50910734],\n",
       "       [0.81316633, 0.18683367],\n",
       "       [0.74418489, 0.25581511],\n",
       "       [0.40793982, 0.59206018],\n",
       "       [0.56320325, 0.43679675],\n",
       "       [0.92490385, 0.07509615],\n",
       "       [0.14440811, 0.85559189],\n",
       "       [0.15508264, 0.84491736],\n",
       "       [0.6951339 , 0.3048661 ],\n",
       "       [0.44578222, 0.55421778],\n",
       "       [0.38563423, 0.61436577],\n",
       "       [0.09346007, 0.90653993],\n",
       "       [0.50589061, 0.49410939],\n",
       "       [0.65466813, 0.34533187],\n",
       "       [0.42072044, 0.57927956],\n",
       "       [0.30318502, 0.69681498],\n",
       "       [0.18320589, 0.81679411],\n",
       "       [0.93044429, 0.06955571],\n",
       "       [0.32325793, 0.67674207],\n",
       "       [0.54153865, 0.45846135],\n",
       "       [0.40681343, 0.59318657],\n",
       "       [0.68327664, 0.31672336],\n",
       "       [0.69201208, 0.30798792],\n",
       "       [0.41145881, 0.58854119],\n",
       "       [0.90804547, 0.09195453],\n",
       "       [0.71771638, 0.28228362],\n",
       "       [0.82543472, 0.17456528],\n",
       "       [0.11664939, 0.88335061],\n",
       "       [0.78989496, 0.21010504],\n",
       "       [0.70717424, 0.29282576],\n",
       "       [0.59530762, 0.40469238],\n",
       "       [0.77592466, 0.22407534],\n",
       "       [0.76147829, 0.23852171],\n",
       "       [0.41392483, 0.58607517],\n",
       "       [0.96423745, 0.03576255],\n",
       "       [0.41078572, 0.58921428],\n",
       "       [0.32519138, 0.67480862],\n",
       "       [0.96382813, 0.03617187],\n",
       "       [0.74366428, 0.25633572],\n",
       "       [0.56868081, 0.43131919],\n",
       "       [0.76120102, 0.23879898],\n",
       "       [0.81757065, 0.18242935],\n",
       "       [0.56058891, 0.43941109],\n",
       "       [0.4463211 , 0.5536789 ],\n",
       "       [0.52144925, 0.47855075],\n",
       "       [0.92022182, 0.07977818],\n",
       "       [0.93363916, 0.06636084],\n",
       "       [0.8048711 , 0.1951289 ],\n",
       "       [0.62422548, 0.37577452],\n",
       "       [0.490248  , 0.509752  ],\n",
       "       [0.49715526, 0.50284474],\n",
       "       [0.75029149, 0.24970851],\n",
       "       [0.34468778, 0.65531222],\n",
       "       [0.29599722, 0.70400278],\n",
       "       [0.30216187, 0.69783813],\n",
       "       [0.93119388, 0.06880612],\n",
       "       [0.55076578, 0.44923422],\n",
       "       [0.55104884, 0.44895116],\n",
       "       [0.62299209, 0.37700791],\n",
       "       [0.77677794, 0.22322206],\n",
       "       [0.27888809, 0.72111191],\n",
       "       [0.3554069 , 0.6445931 ],\n",
       "       [0.84742432, 0.15257568],\n",
       "       [0.49365836, 0.50634164],\n",
       "       [0.52403876, 0.47596124],\n",
       "       [0.30805713, 0.69194287],\n",
       "       [0.26901544, 0.73098456],\n",
       "       [0.72219292, 0.27780708],\n",
       "       [0.32177929, 0.67822071],\n",
       "       [0.41294363, 0.58705637],\n",
       "       [0.81493377, 0.18506623],\n",
       "       [0.72088688, 0.27911312],\n",
       "       [0.57037511, 0.42962489],\n",
       "       [0.31456781, 0.68543219],\n",
       "       [0.46935913, 0.53064087],\n",
       "       [0.48151653, 0.51848347],\n",
       "       [0.52075891, 0.47924109],\n",
       "       [0.31496539, 0.68503461],\n",
       "       [0.65019609, 0.34980391],\n",
       "       [0.39590154, 0.60409846],\n",
       "       [0.43200381, 0.56799619],\n",
       "       [0.65086138, 0.34913862],\n",
       "       [0.57587494, 0.42412506],\n",
       "       [0.95648736, 0.04351264],\n",
       "       [0.68496527, 0.31503473],\n",
       "       [0.61047411, 0.38952589],\n",
       "       [0.86065379, 0.13934621],\n",
       "       [0.55814535, 0.44185465],\n",
       "       [0.16691341, 0.83308659],\n",
       "       [0.69458294, 0.30541706],\n",
       "       [0.529321  , 0.470679  ],\n",
       "       [0.61749188, 0.38250812],\n",
       "       [0.71206288, 0.28793712],\n",
       "       [0.97407496, 0.02592504],\n",
       "       [0.24206555, 0.75793445],\n",
       "       [0.79077209, 0.20922791],\n",
       "       [0.20109184, 0.79890816],\n",
       "       [0.42500093, 0.57499907],\n",
       "       [0.21378296, 0.78621704],\n",
       "       [0.53651725, 0.46348275],\n",
       "       [0.34387844, 0.65612156],\n",
       "       [0.91741689, 0.08258311],\n",
       "       [0.46250472, 0.53749528],\n",
       "       [0.91854791, 0.08145209],\n",
       "       [0.55264964, 0.44735036],\n",
       "       [0.18658745, 0.81341255],\n",
       "       [0.80194575, 0.19805425],\n",
       "       [0.68899713, 0.31100287],\n",
       "       [0.85600103, 0.14399897],\n",
       "       [0.47837149, 0.52162851],\n",
       "       [0.80728027, 0.19271973],\n",
       "       [0.30266161, 0.69733839],\n",
       "       [0.45485727, 0.54514273],\n",
       "       [0.24107738, 0.75892262],\n",
       "       [0.61100898, 0.38899102],\n",
       "       [0.38483771, 0.61516229],\n",
       "       [0.8170446 , 0.1829554 ],\n",
       "       [0.78967074, 0.21032926],\n",
       "       [0.78160346, 0.21839654],\n",
       "       [0.23236893, 0.76763107],\n",
       "       [0.2966503 , 0.7033497 ],\n",
       "       [0.7806508 , 0.2193492 ],\n",
       "       [0.76685146, 0.23314854],\n",
       "       [0.65897035, 0.34102965],\n",
       "       [0.96017136, 0.03982864],\n",
       "       [0.92358024, 0.07641976],\n",
       "       [0.55675145, 0.44324855],\n",
       "       [0.42427791, 0.57572209],\n",
       "       [0.3363398 , 0.6636602 ],\n",
       "       [0.88598201, 0.11401799],\n",
       "       [0.49245777, 0.50754223],\n",
       "       [0.70240158, 0.29759842],\n",
       "       [0.85040387, 0.14959613],\n",
       "       [0.43277433, 0.56722567],\n",
       "       [0.49216849, 0.50783151],\n",
       "       [0.32793411, 0.67206589],\n",
       "       [0.66741128, 0.33258872],\n",
       "       [0.32520254, 0.67479746],\n",
       "       [0.39416076, 0.60583924],\n",
       "       [0.62920454, 0.37079546],\n",
       "       [0.91345919, 0.08654081],\n",
       "       [0.39273219, 0.60726781],\n",
       "       [0.9385536 , 0.0614464 ],\n",
       "       [0.47068696, 0.52931304],\n",
       "       [0.25265473, 0.74734527],\n",
       "       [0.89676032, 0.10323968],\n",
       "       [0.79126075, 0.20873925],\n",
       "       [0.79174935, 0.20825065],\n",
       "       [0.71251878, 0.28748122],\n",
       "       [0.50776816, 0.49223184],\n",
       "       [0.85448411, 0.14551589],\n",
       "       [0.71247093, 0.28752907],\n",
       "       [0.94797948, 0.05202052],\n",
       "       [0.77863254, 0.22136746]])"
      ]
     },
     "execution_count": 20,
     "metadata": {},
     "output_type": "execute_result"
    }
   ],
   "source": [
    "ebm.predict_proba(X_test)"
   ]
  },
  {
   "cell_type": "code",
   "execution_count": 21,
   "metadata": {},
   "outputs": [
    {
     "data": {
      "text/plain": [
       "array([ 0.0364334 , -1.47071692, -1.06783456,  0.37248863, -0.25417259,\n",
       "       -2.51092055,  1.77915013,  1.69528068, -0.82423182,  0.21772716,\n",
       "        0.46570113,  2.27210075, -0.02356351, -0.63962254,  0.31981662,\n",
       "        0.83217669,  1.49477645, -2.59353417,  0.73883967, -0.16653843,\n",
       "        0.37715428, -0.76887111, -0.80954283,  0.35793801, -2.29000023,\n",
       "       -0.93316216, -1.55361143,  2.02454942, -1.32429241, -0.88169931,\n",
       "       -0.38595106, -1.24207306, -1.16080132,  0.34776368, -3.29443645,\n",
       "        0.36071822,  0.73001524, -3.2826312 , -1.06510172, -0.27647092,\n",
       "       -1.15927535, -1.49997433, -0.24355246,  0.21554628, -0.08584968,\n",
       "       -2.44536473, -2.64398296, -1.41702175, -0.50752235,  0.03901295,\n",
       "        0.01137909, -1.10016748,  0.64247278,  0.86643225,  0.83702432,\n",
       "       -2.60517476, -0.20376522, -0.20490933, -0.50226766, -1.24698748,\n",
       "        0.94998374,  0.59535594, -1.71454081,  0.0253679 , -0.09622922,\n",
       "        0.80921813,  0.99962358, -0.95536541,  0.7456069 ,  0.35180973,\n",
       "       -1.48239309, -0.94886509, -0.28338176,  0.77884989,  0.12271725,\n",
       "        0.0739676 , -0.0830834 ,  0.7770066 , -0.61990124,  0.42257165,\n",
       "        0.27368031, -0.62282766, -0.30586214, -3.0902161 , -0.77668524,\n",
       "       -0.44930553, -1.82073077, -0.23363845,  1.6076624 , -0.82163334,\n",
       "       -0.11741872, -0.47891602, -0.90542412, -3.62627889,  1.14138835,\n",
       "       -1.32958565,  1.37948425,  0.30227707,  1.30227158, -0.14632953,\n",
       "        0.64605786, -2.40775678,  0.15026323, -2.42277903, -0.21138214,\n",
       "        1.47233841, -1.39849998, -0.79543497, -1.78246541,  0.08656806,\n",
       "       -1.43243396,  0.83465539,  0.18106399,  1.14678188, -0.4515554 ,\n",
       "        0.46906439, -1.49645129, -1.32294188, -1.2750351 ,  1.19498291,\n",
       "        0.86330018, -1.26946293, -1.19061736, -0.65870912, -3.18252541,\n",
       "       -2.49201633, -0.22798823,  0.30523638,  0.6796483 , -2.05034044,\n",
       "        0.03017122, -0.85876032, -1.73777218,  0.27054082,  0.0313286 ,\n",
       "        0.7175437 , -0.6964998 ,  0.7299644 ,  0.42985582, -0.52880581,\n",
       "       -2.35662258,  0.43584195, -2.72617477,  0.11738676,  1.08450343,\n",
       "       -2.16173536, -1.33254172, -1.33550244, -0.90764874, -0.03107514,\n",
       "       -1.77021262, -0.90741516, -2.9026947 , -1.25771518])"
      ]
     },
     "execution_count": 21,
     "metadata": {},
     "output_type": "execute_result"
    }
   ],
   "source": [
    "scores = ebm._predict_score(X_test)\n",
    "scores"
   ]
  },
  {
   "cell_type": "code",
   "execution_count": 22,
   "metadata": {},
   "outputs": [
    {
     "data": {
      "text/plain": [
       "{'type': 'univariate',\n",
       " 'names': ['pregnancies',\n",
       "  'glucose',\n",
       "  'diastolic',\n",
       "  'triceps',\n",
       "  'insulin',\n",
       "  'bmi',\n",
       "  'dpf',\n",
       "  'age',\n",
       "  'pregnancies & age',\n",
       "  'glucose & insulin'],\n",
       " 'scores': [-0.04484705147183339,\n",
       "  0.33740224976053845,\n",
       "  -0.01568311965900504,\n",
       "  -0.030176061300163523,\n",
       "  0.009020029244850623,\n",
       "  0.260328294298641,\n",
       "  0.03824722953561576,\n",
       "  -0.15562985228560677,\n",
       "  -0.13939043869948706,\n",
       "  -0.4173923536111542],\n",
       " 'values': [4.0, 76.0, 62.0, 0.0, 0.0, 34.0, 0.391, 25.0, '', ''],\n",
       " 'extra': {'names': ['Intercept'],\n",
       "  'scores': [-0.9097134870884667],\n",
       "  'values': [1]},\n",
       " 'perf': {'is_classification': True,\n",
       "  'actual': 0,\n",
       "  'predicted': 0,\n",
       "  'actual_score': 0.7441848911874169,\n",
       "  'predicted_score': 0.7441848911874169},\n",
       " 'meta': {'label_names': [0, 1]}}"
      ]
     },
     "execution_count": 22,
     "metadata": {},
     "output_type": "execute_result"
    }
   ],
   "source": [
    "ebm_local.data(2)"
   ]
  }
 ],
 "metadata": {
  "kernelspec": {
   "display_name": "Python 3",
   "language": "python",
   "name": "python3"
  },
  "language_info": {
   "codemirror_mode": {
    "name": "ipython",
    "version": 3
   },
   "file_extension": ".py",
   "mimetype": "text/x-python",
   "name": "python",
   "nbconvert_exporter": "python",
   "pygments_lexer": "ipython3",
   "version": "3.9.6"
  }
 },
 "nbformat": 4,
 "nbformat_minor": 2
}
