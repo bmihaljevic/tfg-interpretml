{
 "cells": [
  {
   "cell_type": "code",
   "execution_count": 1,
   "metadata": {},
   "outputs": [],
   "source": [
    "import pandas as pd\n",
    "import numpy as np\n",
    "import interpret"
   ]
  },
  {
   "cell_type": "markdown",
   "metadata": {},
   "source": [
    "Read the data"
   ]
  },
  {
   "cell_type": "code",
   "execution_count": 2,
   "metadata": {},
   "outputs": [],
   "source": [
    "X_train = pd.read_csv('data/X_train.csv')\n",
    "y_train = pd.read_csv('data/y_train.csv').to_numpy().ravel()\n",
    "\n",
    "X_test = pd.read_csv('data/X_test.csv')\n",
    "y_test = pd.read_csv('data/y_test.csv').to_numpy().ravel()"
   ]
  },
  {
   "cell_type": "code",
   "execution_count": 3,
   "metadata": {},
   "outputs": [
    {
     "data": {
      "text/html": [
       "<style>#sk-container-id-1 {color: black;}#sk-container-id-1 pre{padding: 0;}#sk-container-id-1 div.sk-toggleable {background-color: white;}#sk-container-id-1 label.sk-toggleable__label {cursor: pointer;display: block;width: 100%;margin-bottom: 0;padding: 0.3em;box-sizing: border-box;text-align: center;}#sk-container-id-1 label.sk-toggleable__label-arrow:before {content: \"▸\";float: left;margin-right: 0.25em;color: #696969;}#sk-container-id-1 label.sk-toggleable__label-arrow:hover:before {color: black;}#sk-container-id-1 div.sk-estimator:hover label.sk-toggleable__label-arrow:before {color: black;}#sk-container-id-1 div.sk-toggleable__content {max-height: 0;max-width: 0;overflow: hidden;text-align: left;background-color: #f0f8ff;}#sk-container-id-1 div.sk-toggleable__content pre {margin: 0.2em;color: black;border-radius: 0.25em;background-color: #f0f8ff;}#sk-container-id-1 input.sk-toggleable__control:checked~div.sk-toggleable__content {max-height: 200px;max-width: 100%;overflow: auto;}#sk-container-id-1 input.sk-toggleable__control:checked~label.sk-toggleable__label-arrow:before {content: \"▾\";}#sk-container-id-1 div.sk-estimator input.sk-toggleable__control:checked~label.sk-toggleable__label {background-color: #d4ebff;}#sk-container-id-1 div.sk-label input.sk-toggleable__control:checked~label.sk-toggleable__label {background-color: #d4ebff;}#sk-container-id-1 input.sk-hidden--visually {border: 0;clip: rect(1px 1px 1px 1px);clip: rect(1px, 1px, 1px, 1px);height: 1px;margin: -1px;overflow: hidden;padding: 0;position: absolute;width: 1px;}#sk-container-id-1 div.sk-estimator {font-family: monospace;background-color: #f0f8ff;border: 1px dotted black;border-radius: 0.25em;box-sizing: border-box;margin-bottom: 0.5em;}#sk-container-id-1 div.sk-estimator:hover {background-color: #d4ebff;}#sk-container-id-1 div.sk-parallel-item::after {content: \"\";width: 100%;border-bottom: 1px solid gray;flex-grow: 1;}#sk-container-id-1 div.sk-label:hover label.sk-toggleable__label {background-color: #d4ebff;}#sk-container-id-1 div.sk-serial::before {content: \"\";position: absolute;border-left: 1px solid gray;box-sizing: border-box;top: 0;bottom: 0;left: 50%;z-index: 0;}#sk-container-id-1 div.sk-serial {display: flex;flex-direction: column;align-items: center;background-color: white;padding-right: 0.2em;padding-left: 0.2em;position: relative;}#sk-container-id-1 div.sk-item {position: relative;z-index: 1;}#sk-container-id-1 div.sk-parallel {display: flex;align-items: stretch;justify-content: center;background-color: white;position: relative;}#sk-container-id-1 div.sk-item::before, #sk-container-id-1 div.sk-parallel-item::before {content: \"\";position: absolute;border-left: 1px solid gray;box-sizing: border-box;top: 0;bottom: 0;left: 50%;z-index: -1;}#sk-container-id-1 div.sk-parallel-item {display: flex;flex-direction: column;z-index: 1;position: relative;background-color: white;}#sk-container-id-1 div.sk-parallel-item:first-child::after {align-self: flex-end;width: 50%;}#sk-container-id-1 div.sk-parallel-item:last-child::after {align-self: flex-start;width: 50%;}#sk-container-id-1 div.sk-parallel-item:only-child::after {width: 0;}#sk-container-id-1 div.sk-dashed-wrapped {border: 1px dashed gray;margin: 0 0.4em 0.5em 0.4em;box-sizing: border-box;padding-bottom: 0.4em;background-color: white;}#sk-container-id-1 div.sk-label label {font-family: monospace;font-weight: bold;display: inline-block;line-height: 1.2em;}#sk-container-id-1 div.sk-label-container {text-align: center;}#sk-container-id-1 div.sk-container {/* jupyter's `normalize.less` sets `[hidden] { display: none; }` but bootstrap.min.css set `[hidden] { display: none !important; }` so we also need the `!important` here to be able to override the default hidden behavior on the sphinx rendered scikit-learn.org. See: https://github.com/scikit-learn/scikit-learn/issues/21755 */display: inline-block !important;position: relative;}#sk-container-id-1 div.sk-text-repr-fallback {display: none;}</style><div id=\"sk-container-id-1\" class=\"sk-top-container\"><div class=\"sk-text-repr-fallback\"><pre>ExplainableBoostingClassifier(interactions=0)</pre><b>In a Jupyter environment, please rerun this cell to show the HTML representation or trust the notebook. <br />On GitHub, the HTML representation is unable to render, please try loading this page with nbviewer.org.</b></div><div class=\"sk-container\" hidden><div class=\"sk-item\"><div class=\"sk-estimator sk-toggleable\"><input class=\"sk-toggleable__control sk-hidden--visually\" id=\"sk-estimator-id-1\" type=\"checkbox\" checked><label for=\"sk-estimator-id-1\" class=\"sk-toggleable__label sk-toggleable__label-arrow\">ExplainableBoostingClassifier</label><div class=\"sk-toggleable__content\"><pre>ExplainableBoostingClassifier(interactions=0)</pre></div></div></div></div></div>"
      ],
      "text/plain": [
       "ExplainableBoostingClassifier(interactions=0)"
      ]
     },
     "execution_count": 3,
     "metadata": {},
     "output_type": "execute_result"
    }
   ],
   "source": [
    "from interpret.glassbox import ExplainableBoostingClassifier\n",
    "from interpret import show\n",
    "\n",
    "ebm = ExplainableBoostingClassifier(interactions=0)\n",
    "ebm.fit(X_train, y_train)"
   ]
  },
  {
   "cell_type": "markdown",
   "metadata": {},
   "source": [
    "## Global explanations"
   ]
  },
  {
   "cell_type": "code",
   "execution_count": 4,
   "metadata": {},
   "outputs": [
    {
     "data": {
      "text/html": [
       "<!-- http://127.0.0.1:7001/2102708269984/ -->\n",
       "<iframe src=\"http://127.0.0.1:7001/2102708269984/\" width=100% height=800 frameBorder=\"0\"></iframe>"
      ]
     },
     "metadata": {},
     "output_type": "display_data"
    }
   ],
   "source": [
    "ebm_global = ebm.explain_global()\n",
    "show(ebm_global)"
   ]
  },
  {
   "cell_type": "markdown",
   "metadata": {},
   "source": [
    "EBM class use 'ebm.term_scores' to create the graph. Each term has a list of scores, each one representing a bin of the variable (or term). In the case of glucose, a low (0-120) value would mean a negative score, suggesting no-diabetes prediction; a high score (120-180) would likely mean that the person has diabetes."
   ]
  },
  {
   "cell_type": "markdown",
   "metadata": {},
   "source": [
    "The number of scores in the list is determined by the bins of the variable. And the number of bins depend on the distribution of the variable and the discretization algorithm used. For example, in the case of glucose would be the following bins:"
   ]
  },
  {
   "cell_type": "code",
   "execution_count": 5,
   "metadata": {},
   "outputs": [
    {
     "name": "stdout",
     "output_type": "stream",
     "text": [
      "Number of bins in glucose:  127\n"
     ]
    },
    {
     "data": {
      "text/plain": [
       "array([ 22. ,  50. ,  56.5,  62. ,  67.5,  69.5,  72. ,  73.5,  74.5,\n",
       "        75.5,  76.5,  77.5,  78.5,  79.5,  80.5,  81.5,  82.5,  83.5,\n",
       "        84.5,  85.5,  86.5,  87.5,  88.5,  89.5,  90.5,  91.5,  92.5,\n",
       "        93.5,  94.5,  95.5,  96.5,  97.5,  98.5,  99.5, 100.5, 101.5,\n",
       "       102.5, 103.5, 104.5, 105.5, 106.5, 107.5, 108.5, 109.5, 110.5,\n",
       "       111.5, 112.5, 113.5, 114.5, 115.5, 116.5, 117.5, 118.5, 119.5,\n",
       "       120.5, 121.5, 122.5, 123.5, 124.5, 125.5, 126.5, 127.5, 128.5,\n",
       "       129.5, 130.5, 131.5, 132.5, 133.5, 134.5, 135.5, 136.5, 137.5,\n",
       "       138.5, 139.5, 140.5, 141.5, 142.5, 143.5, 144.5, 145.5, 146.5,\n",
       "       147.5, 148.5, 149.5, 150.5, 151.5, 152.5, 153.5, 154.5, 155.5,\n",
       "       156.5, 157.5, 158.5, 159.5, 160.5, 161.5, 162.5, 163.5, 164.5,\n",
       "       165.5, 166.5, 167.5, 168.5, 169.5, 170.5, 172. , 173.5, 174.5,\n",
       "       175.5, 176.5, 177.5, 178.5, 179.5, 180.5, 182. , 183.5, 185. ,\n",
       "       186.5, 187.5, 188.5, 189.5, 190.5, 192.5, 194.5, 195.5, 196.5,\n",
       "       197.5])"
      ]
     },
     "execution_count": 5,
     "metadata": {},
     "output_type": "execute_result"
    }
   ],
   "source": [
    "print(\"Number of bins in glucose: \", len(ebm.bins_[1][0]))\n",
    "ebm.bins_[1][0]"
   ]
  },
  {
   "cell_type": "markdown",
   "metadata": {},
   "source": [
    "And the constant value associated to each bin:"
   ]
  },
  {
   "cell_type": "code",
   "execution_count": 6,
   "metadata": {},
   "outputs": [
    {
     "data": {
      "text/plain": [
       "array([ 0.        , -0.63099025, -0.96340995, -1.07419818, -1.08696046,\n",
       "       -1.09622566, -1.10274483, -1.10289811, -1.10208151, -1.09683749,\n",
       "       -1.0895702 , -1.08023566, -1.06673348, -1.05791202, -1.05088763,\n",
       "       -1.04238371, -1.03588866, -1.02504243, -1.01327663, -1.00053769,\n",
       "       -0.99254221, -0.9866094 , -0.97700863, -0.96352772, -0.95094951,\n",
       "       -0.87290783, -0.85902529, -0.82093015, -0.80191835, -0.79039522,\n",
       "       -0.73511625, -0.74355387, -0.72844433, -0.72850191, -0.70666284,\n",
       "       -0.58605972, -0.55097082, -0.48845591, -0.47596127, -0.43548435,\n",
       "       -0.44000901, -0.42161198, -0.27850545, -0.26367686, -0.25517668,\n",
       "       -0.24383747, -0.22785207, -0.2121048 , -0.20165836, -0.19118097,\n",
       "       -0.17604766, -0.16344234, -0.15081739, -0.1416803 , -0.12985512,\n",
       "       -0.120627  , -0.09882757, -0.08985672, -0.09918228,  0.11258764,\n",
       "        0.11835203,  0.09493013,  0.10516306,  0.12794073,  0.14430878,\n",
       "        0.34647529,  0.36365193,  0.37696104,  0.39750485,  0.40918935,\n",
       "        0.36639142,  0.3695101 ,  0.35497404,  0.36766847,  0.38454378,\n",
       "        0.40583168,  0.39790888,  0.41164422,  0.42950206,  0.4850671 ,\n",
       "        0.51191812,  0.53054222,  0.55507049,  0.58788654,  0.61084542,\n",
       "        0.62389358,  0.65396191,  0.6649446 ,  0.57910355,  0.60274203,\n",
       "        0.91570305,  0.93100563,  0.95209007,  0.99120582,  1.00413101,\n",
       "        1.07662981,  1.10683388,  1.11938212,  1.13597697,  1.14399051,\n",
       "        0.83491397,  0.89090888,  1.50037134,  1.53702914,  1.56461679,\n",
       "        1.59935356,  1.61319557,  1.62610777,  1.65118089,  1.66602863,\n",
       "        1.67729222,  1.6944703 ,  1.70618903,  1.71356362,  1.73216808,\n",
       "        1.75044451,  1.76203993,  1.77807668,  1.78874493,  1.79651381,\n",
       "        1.80513375,  1.77923557,  1.78326104,  1.78250753,  1.78985924,\n",
       "        1.8050682 ,  1.81054641,  1.80695989,  1.82287881,  0.        ])"
      ]
     },
     "execution_count": 6,
     "metadata": {},
     "output_type": "execute_result"
    }
   ],
   "source": [
    "ebm.term_scores_[1]"
   ]
  },
  {
   "cell_type": "markdown",
   "metadata": {},
   "source": [
    "So this means that we can modify the value on each bin to visualize, for example, the weights of another model:"
   ]
  },
  {
   "cell_type": "markdown",
   "metadata": {},
   "source": [
    "#### 1. Constant score"
   ]
  },
  {
   "cell_type": "code",
   "execution_count": 7,
   "metadata": {},
   "outputs": [],
   "source": [
    "ebm.term_scores_[1] = np.ones(ebm.term_scores_[1].shape)"
   ]
  },
  {
   "cell_type": "code",
   "execution_count": 8,
   "metadata": {},
   "outputs": [
    {
     "data": {
      "text/plain": [
       "array([1., 1., 1., 1., 1., 1., 1., 1., 1., 1., 1., 1., 1., 1., 1., 1., 1.,\n",
       "       1., 1., 1., 1., 1., 1., 1., 1., 1., 1., 1., 1., 1., 1., 1., 1., 1.,\n",
       "       1., 1., 1., 1., 1., 1., 1., 1., 1., 1., 1., 1., 1., 1., 1., 1., 1.,\n",
       "       1., 1., 1., 1., 1., 1., 1., 1., 1., 1., 1., 1., 1., 1., 1., 1., 1.,\n",
       "       1., 1., 1., 1., 1., 1., 1., 1., 1., 1., 1., 1., 1., 1., 1., 1., 1.,\n",
       "       1., 1., 1., 1., 1., 1., 1., 1., 1., 1., 1., 1., 1., 1., 1., 1., 1.,\n",
       "       1., 1., 1., 1., 1., 1., 1., 1., 1., 1., 1., 1., 1., 1., 1., 1., 1.,\n",
       "       1., 1., 1., 1., 1., 1., 1., 1., 1., 1., 1.])"
      ]
     },
     "execution_count": 8,
     "metadata": {},
     "output_type": "execute_result"
    }
   ],
   "source": [
    "ebm.term_scores_[1]"
   ]
  },
  {
   "cell_type": "code",
   "execution_count": 9,
   "metadata": {},
   "outputs": [
    {
     "data": {
      "text/html": [
       "<!-- http://127.0.0.1:7001/2102724026224/ -->\n",
       "<iframe src=\"http://127.0.0.1:7001/2102724026224/\" width=100% height=800 frameBorder=\"0\"></iframe>"
      ]
     },
     "metadata": {},
     "output_type": "display_data"
    }
   ],
   "source": [
    "ebm_global = ebm.explain_global()\n",
    "show(ebm_global)"
   ]
  },
  {
   "cell_type": "markdown",
   "metadata": {},
   "source": [
    "#### 2. Random scores"
   ]
  },
  {
   "cell_type": "code",
   "execution_count": 10,
   "metadata": {},
   "outputs": [],
   "source": [
    "ebm.term_scores_[1] = np.random.rand(ebm.term_scores_[1].shape[0])"
   ]
  },
  {
   "cell_type": "code",
   "execution_count": 11,
   "metadata": {},
   "outputs": [
    {
     "data": {
      "text/plain": [
       "array([0.32945942, 0.19822004, 0.91834254, 0.69405101, 0.20894785,\n",
       "       0.02676285, 0.46578821, 0.2406097 , 0.81135015, 0.41349392,\n",
       "       0.17127437, 0.02653299, 0.54998409, 0.94757229, 0.96843773,\n",
       "       0.55209663, 0.98994525, 0.01454573, 0.87618282, 0.00528523,\n",
       "       0.43399965, 0.09414435, 0.49781743, 0.44968538, 0.64825392,\n",
       "       0.14172872, 0.07882555, 0.74355874, 0.97923665, 0.79793907,\n",
       "       0.12419762, 0.75090446, 0.71514931, 0.30316547, 0.31287698,\n",
       "       0.72697778, 0.63110125, 0.89801847, 0.97398271, 0.23815341,\n",
       "       0.50320027, 0.97714761, 0.40610443, 0.31799809, 0.56824383,\n",
       "       0.54562989, 0.31893053, 0.47816694, 0.38037704, 0.22437345,\n",
       "       0.94230177, 0.20523137, 0.41879767, 0.55765316, 0.32905589,\n",
       "       0.41379498, 0.21243011, 0.61956027, 0.69548157, 0.0022363 ,\n",
       "       0.13704147, 0.36037851, 0.34673215, 0.20913086, 0.53320389,\n",
       "       0.22188143, 0.15215483, 0.44383881, 0.0795381 , 0.62196683,\n",
       "       0.34093459, 0.78280613, 0.29418967, 0.26399004, 0.78510698,\n",
       "       0.40511329, 0.77248452, 0.72376701, 0.72011665, 0.88537378,\n",
       "       0.98219958, 0.54889042, 0.77136958, 0.75138976, 0.9802487 ,\n",
       "       0.04420454, 0.93892271, 0.28143251, 0.20323711, 0.90470684,\n",
       "       0.00972303, 0.2466984 , 0.84611259, 0.72823927, 0.00253312,\n",
       "       0.18931518, 0.71618392, 0.19027047, 0.48787539, 0.27423783,\n",
       "       0.19734988, 0.30037895, 0.10233521, 0.61836391, 0.68411871,\n",
       "       0.60133757, 0.25642517, 0.93119782, 0.9708438 , 0.27104467,\n",
       "       0.54599051, 0.9881161 , 0.16665769, 0.80882674, 0.49167885,\n",
       "       0.65705092, 0.22776152, 0.83431064, 0.95388689, 0.40852386,\n",
       "       0.19389973, 0.70439789, 0.73691369, 0.05102716, 0.48663028,\n",
       "       0.99662916, 0.00168146, 0.91081758, 0.26584144, 0.88929162])"
      ]
     },
     "execution_count": 11,
     "metadata": {},
     "output_type": "execute_result"
    }
   ],
   "source": [
    "ebm.term_scores_[1]"
   ]
  },
  {
   "cell_type": "code",
   "execution_count": 12,
   "metadata": {},
   "outputs": [
    {
     "data": {
      "text/html": [
       "<!-- http://127.0.0.1:7001/2102723696288/ -->\n",
       "<iframe src=\"http://127.0.0.1:7001/2102723696288/\" width=100% height=800 frameBorder=\"0\"></iframe>"
      ]
     },
     "metadata": {},
     "output_type": "display_data"
    }
   ],
   "source": [
    "ebm_global = ebm.explain_global()\n",
    "show(ebm_global)"
   ]
  },
  {
   "cell_type": "markdown",
   "metadata": {},
   "source": [
    "So in this way we can use the same visualization for models like Naive Bayes."
   ]
  },
  {
   "cell_type": "markdown",
   "metadata": {},
   "source": [
    "We could also modify the histogram values using 'ebm.histogram_edges_' and 'ebm.histogram_weights_'."
   ]
  },
  {
   "cell_type": "code",
   "execution_count": 13,
   "metadata": {},
   "outputs": [
    {
     "data": {
      "text/plain": [
       "array([  0. ,  16.5,  33. ,  49.5,  66. ,  82.5,  99. , 115.5, 132. ,\n",
       "       148.5, 165. , 181.5, 198. ])"
      ]
     },
     "execution_count": 13,
     "metadata": {},
     "output_type": "execute_result"
    }
   ],
   "source": [
    "ebm.histogram_edges_[1]"
   ]
  },
  {
   "cell_type": "code",
   "execution_count": 14,
   "metadata": {},
   "outputs": [
    {
     "data": {
      "text/plain": [
       "array([  0.,   4.,   0.,   1.,   3.,  36., 103., 145., 125.,  83.,  49.,\n",
       "        38.,  27.,   0.])"
      ]
     },
     "execution_count": 14,
     "metadata": {},
     "output_type": "execute_result"
    }
   ],
   "source": [
    "ebm.histogram_weights_[1]"
   ]
  },
  {
   "cell_type": "markdown",
   "metadata": {},
   "source": [
    "## Local explanations"
   ]
  },
  {
   "cell_type": "code",
   "execution_count": 17,
   "metadata": {},
   "outputs": [
    {
     "data": {
      "text/html": [
       "<!-- http://127.0.0.1:7001/2102725347696/ -->\n",
       "<iframe src=\"http://127.0.0.1:7001/2102725347696/\" width=100% height=800 frameBorder=\"0\"></iframe>"
      ]
     },
     "metadata": {},
     "output_type": "display_data"
    }
   ],
   "source": [
    "ebm_local = ebm.explain_local(X_test, y_test)\n",
    "show(ebm_local)"
   ]
  },
  {
   "cell_type": "code",
   "execution_count": 21,
   "metadata": {},
   "outputs": [
    {
     "data": {
      "text/plain": [
       "(19,)"
      ]
     },
     "execution_count": 21,
     "metadata": {},
     "output_type": "execute_result"
    }
   ],
   "source": [
    "ebm.term_scores_[0].shape"
   ]
  },
  {
   "cell_type": "code",
   "execution_count": 23,
   "metadata": {},
   "outputs": [
    {
     "data": {
      "text/plain": [
       "pregnancies      1.000\n",
       "glucose        199.000\n",
       "diastolic       76.000\n",
       "triceps         43.000\n",
       "insulin          0.000\n",
       "bmi             42.900\n",
       "dpf              1.394\n",
       "age             22.000\n",
       "Name: 0, dtype: float64"
      ]
     },
     "execution_count": 23,
     "metadata": {},
     "output_type": "execute_result"
    }
   ],
   "source": [
    "X_test.iloc[0]"
   ]
  },
  {
   "cell_type": "code",
   "execution_count": null,
   "metadata": {},
   "outputs": [
    {
     "data": {
      "text/plain": [
       "array([[0.47119788, 0.52880212],\n",
       "       [0.69414209, 0.30585791],\n",
       "       [0.67232878, 0.32767122],\n",
       "       [0.69127507, 0.30872493],\n",
       "       [0.74476916, 0.25523084],\n",
       "       [0.665252  , 0.334748  ],\n",
       "       [0.32075227, 0.67924773],\n",
       "       [0.2763434 , 0.7236566 ],\n",
       "       [0.67028323, 0.32971677],\n",
       "       [0.26125171, 0.73874829],\n",
       "       [0.36475703, 0.63524297],\n",
       "       [0.27014388, 0.72985612],\n",
       "       [0.74711343, 0.25288657],\n",
       "       [0.72524709, 0.27475291],\n",
       "       [0.466206  , 0.533794  ],\n",
       "       [0.54955411, 0.45044589],\n",
       "       [0.29184082, 0.70815918],\n",
       "       [0.82717754, 0.17282246],\n",
       "       [0.60779561, 0.39220439],\n",
       "       [0.57066667, 0.42933333],\n",
       "       [0.30447125, 0.69552875],\n",
       "       [0.57897122, 0.42102878],\n",
       "       [0.49955528, 0.50044472],\n",
       "       [0.49871718, 0.50128282],\n",
       "       [0.84457116, 0.15542884],\n",
       "       [0.76289935, 0.23710065],\n",
       "       [0.86891981, 0.13108019],\n",
       "       [0.16659272, 0.83340728],\n",
       "       [0.85774571, 0.14225429],\n",
       "       [0.76367909, 0.23632091],\n",
       "       [0.52734103, 0.47265897],\n",
       "       [0.53935886, 0.46064114],\n",
       "       [0.53461785, 0.46538215],\n",
       "       [0.34544449, 0.65455551],\n",
       "       [0.94266451, 0.05733549],\n",
       "       [0.47397503, 0.52602497],\n",
       "       [0.29922769, 0.70077231],\n",
       "       [0.90154496, 0.09845504],\n",
       "       [0.65289156, 0.34710844],\n",
       "       [0.63239443, 0.36760557],\n",
       "       [0.679407  , 0.320593  ],\n",
       "       [0.68516041, 0.31483959],\n",
       "       [0.62535752, 0.37464248],\n",
       "       [0.59644396, 0.40355604],\n",
       "       [0.4002778 , 0.5997222 ],\n",
       "       [0.83905806, 0.16094194],\n",
       "       [0.91445425, 0.08554575],\n",
       "       [0.81106648, 0.18893352],\n",
       "       [0.46892475, 0.53107525],\n",
       "       [0.62201102, 0.37798898],\n",
       "       [0.56610319, 0.43389681],\n",
       "       [0.72064129, 0.27935871],\n",
       "       [0.1478956 , 0.8521044 ],\n",
       "       [0.38362438, 0.61637562],\n",
       "       [0.60893316, 0.39106684],\n",
       "       [0.91800231, 0.08199769],\n",
       "       [0.55370121, 0.44629879],\n",
       "       [0.30163559, 0.69836441],\n",
       "       [0.66008279, 0.33991721],\n",
       "       [0.59599226, 0.40400774],\n",
       "       [0.40945182, 0.59054818],\n",
       "       [0.36243261, 0.63756739],\n",
       "       [0.92546109, 0.07453891],\n",
       "       [0.48502362, 0.51497638],\n",
       "       [0.58951364, 0.41048636],\n",
       "       [0.34474854, 0.65525146],\n",
       "       [0.43355936, 0.56644064],\n",
       "       [0.71742471, 0.28257529],\n",
       "       [0.2113114 , 0.7886886 ],\n",
       "       [0.3246243 , 0.6753757 ],\n",
       "       [0.79080845, 0.20919155],\n",
       "       [0.70979749, 0.29020251],\n",
       "       [0.68349077, 0.31650923],\n",
       "       [0.39698312, 0.60301688],\n",
       "       [0.5631273 , 0.4368727 ],\n",
       "       [0.55516098, 0.44483902],\n",
       "       [0.39663104, 0.60336896],\n",
       "       [0.26188332, 0.73811668],\n",
       "       [0.41358258, 0.58641742],\n",
       "       [0.49701186, 0.50298814],\n",
       "       [0.38027104, 0.61972896],\n",
       "       [0.47987831, 0.52012169],\n",
       "       [0.56479001, 0.43520999],\n",
       "       [0.91489419, 0.08510581],\n",
       "       [0.66471658, 0.33528342],\n",
       "       [0.41367597, 0.58632403],\n",
       "       [0.83023542, 0.16976458],\n",
       "       [0.35238865, 0.64761135],\n",
       "       [0.28947325, 0.71052675],\n",
       "       [0.55185713, 0.44814287],\n",
       "       [0.76343063, 0.23656937],\n",
       "       [0.64287531, 0.35712469],\n",
       "       [0.61638791, 0.38361209],\n",
       "       [0.86958173, 0.13041827],\n",
       "       [0.49632082, 0.50367918],\n",
       "       [0.77212795, 0.22787205],\n",
       "       [0.30078767, 0.69921233],\n",
       "       [0.50511065, 0.49488935],\n",
       "       [0.25474767, 0.74525233],\n",
       "       [0.35119491, 0.64880509],\n",
       "       [0.57938375, 0.42061625],\n",
       "       [0.87729284, 0.12270716],\n",
       "       [0.5315433 , 0.4684567 ],\n",
       "       [0.91758772, 0.08241228],\n",
       "       [0.5643297 , 0.4356703 ],\n",
       "       [0.39864033, 0.60135967],\n",
       "       [0.72697086, 0.27302914],\n",
       "       [0.76279849, 0.23720151],\n",
       "       [0.88846262, 0.11153738],\n",
       "       [0.71614126, 0.28385874],\n",
       "       [0.70176457, 0.29823543],\n",
       "       [0.34345242, 0.65654758],\n",
       "       [0.35119294, 0.64880706],\n",
       "       [0.34078838, 0.65921162],\n",
       "       [0.49899106, 0.50100894],\n",
       "       [0.41068742, 0.58931258],\n",
       "       [0.8247738 , 0.1752262 ],\n",
       "       [0.78538082, 0.21461918],\n",
       "       [0.78437261, 0.21562739],\n",
       "       [0.21566504, 0.78433496],\n",
       "       [0.4174605 , 0.5825395 ],\n",
       "       [0.38535081, 0.61464919],\n",
       "       [0.47719012, 0.52280988],\n",
       "       [0.60049649, 0.39950351],\n",
       "       [0.88489745, 0.11510255],\n",
       "       [0.90883062, 0.09116938],\n",
       "       [0.5250124 , 0.4749876 ],\n",
       "       [0.48358998, 0.51641002],\n",
       "       [0.62060769, 0.37939231],\n",
       "       [0.88657243, 0.11342757],\n",
       "       [0.4818087 , 0.5181913 ],\n",
       "       [0.82108059, 0.17891941],\n",
       "       [0.5815149 , 0.4184851 ],\n",
       "       [0.3699036 , 0.6300964 ],\n",
       "       [0.30025704, 0.69974296],\n",
       "       [0.20702737, 0.79297263],\n",
       "       [0.64244382, 0.35755618],\n",
       "       [0.28518107, 0.71481893],\n",
       "       [0.38257147, 0.61742853],\n",
       "       [0.65714531, 0.34285469],\n",
       "       [0.77289908, 0.22710092],\n",
       "       [0.34982321, 0.65017679],\n",
       "       [0.91495084, 0.08504916],\n",
       "       [0.49128105, 0.50871895],\n",
       "       [0.46254582, 0.53745418],\n",
       "       [0.89017578, 0.10982422],\n",
       "       [0.76274176, 0.23725824],\n",
       "       [0.66763866, 0.33236134],\n",
       "       [0.63027599, 0.36972401],\n",
       "       [0.46413113, 0.53586887],\n",
       "       [0.73281045, 0.26718955],\n",
       "       [0.49319423, 0.50680577],\n",
       "       [0.92776316, 0.07223684],\n",
       "       [0.64440032, 0.35559968]])"
      ]
     },
     "execution_count": 28,
     "metadata": {},
     "output_type": "execute_result"
    }
   ],
   "source": [
    "ebm.predict_proba(X_test)"
   ]
  },
  {
   "cell_type": "code",
   "execution_count": 33,
   "metadata": {},
   "outputs": [
    {
     "data": {
      "text/plain": [
       "array([ 1.15336167e-01, -8.19556041e-01, -7.18736733e-01, -8.06087142e-01,\n",
       "       -1.07090595e+00, -6.86787902e-01,  7.50316846e-01,  9.62672683e-01,\n",
       "       -7.09466352e-01,  1.03947293e+00,  5.54776082e-01,  9.93892701e-01,\n",
       "       -1.08327596e+00, -9.70640209e-01,  1.35382409e-01, -1.98869270e-01,\n",
       "        8.86460388e-01, -1.56575452e+00, -4.38055558e-01, -2.84571649e-01,\n",
       "        8.26095686e-01, -3.18551573e-01,  1.77889025e-03,  5.13128623e-03,\n",
       "       -1.69264098e+00, -1.16864135e+00, -1.89144158e+00,  1.60997045e+00,\n",
       "       -1.79669146e+00, -1.17295698e+00, -1.09473323e-01, -1.57761832e-01,\n",
       "       -1.38693303e-01,  6.39124447e-01, -2.79979071e+00,  1.04194055e-01,\n",
       "        8.50978240e-01, -2.21450991e+00, -6.31773815e-01, -5.42502745e-01,\n",
       "       -7.51047947e-01, -7.77589720e-01, -5.12351353e-01, -3.90669913e-01,\n",
       "        4.04307763e-01, -1.65123623e+00, -2.36927609e+00, -1.45695483e+00,\n",
       "        1.24461416e-01, -4.98092785e-01, -2.65969626e-01, -9.47644831e-01,\n",
       "        1.75120245e+00,  4.74192657e-01, -4.42830018e-01, -2.41550888e+00,\n",
       "       -2.15636566e-01,  8.39521419e-01, -6.63663171e-01, -3.88793642e-01,\n",
       "        3.66231995e-01,  5.64821438e-01, -2.51897081e+00,  5.99234328e-02,\n",
       "       -3.61955170e-01,  6.42203803e-01,  2.67343572e-01, -9.31722972e-01,\n",
       "        1.31703872e+00,  7.32600626e-01, -1.32980544e+00, -8.94400701e-01,\n",
       "       -7.69860747e-01,  4.18051417e-01, -2.53863861e-01, -2.21545659e-01,\n",
       "        4.19522399e-01,  1.03620287e+00,  3.49174669e-01,  1.19526879e-02,\n",
       "        4.88397968e-01,  8.05302555e-02, -2.60625368e-01, -2.37491310e+00,\n",
       "       -6.84384532e-01,  3.48789615e-01, -1.58729661e+00,  6.08556083e-01,\n",
       "        8.97943700e-01, -2.08177120e-01, -1.17158075e+00, -5.87865796e-01,\n",
       "       -4.74244631e-01, -1.89726555e+00,  1.47169793e-02, -1.22036600e+00,\n",
       "        8.43549877e-01, -2.04432996e-02,  1.07344931e+00,  6.13790966e-01,\n",
       "       -3.20244155e-01, -1.96704013e+00, -1.26340998e-01, -2.41001368e+00,\n",
       "       -2.58752882e-01,  4.11133634e-01, -9.79307879e-01, -1.16808388e+00,\n",
       "       -2.07513276e+00, -9.25400704e-01, -8.55714776e-01,  6.47946558e-01,\n",
       "        6.13799623e-01,  6.59782927e-01,  4.03576036e-03,  3.61124363e-01,\n",
       "       -1.54903143e+00, -1.29730352e+00, -1.29133231e+00,  1.29110972e+00,\n",
       "        3.33207077e-01,  4.66897583e-01,  9.13029101e-02, -4.07534246e-01,\n",
       "       -2.03964831e+00, -2.29943965e+00, -1.00133190e-01,  6.56636706e-02,\n",
       "       -4.92128366e-01, -2.05619830e+00,  7.27973128e-02, -1.52368581e+00,\n",
       "       -3.28995308e-01,  5.32630398e-01,  8.46074168e-01,  1.34293767e+00,\n",
       "       -5.85986866e-01,  9.18904969e-01,  4.78647856e-01, -6.50598469e-01,\n",
       "       -1.22475398e+00,  6.19816383e-01, -2.37564087e+00,  3.48793335e-02,\n",
       "        1.50097904e-01, -2.09253786e+00, -1.16777037e+00, -6.97524359e-01,\n",
       "       -5.33400976e-01,  1.43722353e-01, -1.00892872e+00,  2.72247812e-02,\n",
       "       -2.55282637e+00, -5.94514547e-01])"
      ]
     },
     "execution_count": 33,
     "metadata": {},
     "output_type": "execute_result"
    }
   ],
   "source": [
    "scores = ebm._predict_score(X_test)\n",
    "scores"
   ]
  },
  {
   "cell_type": "code",
   "execution_count": 41,
   "metadata": {},
   "outputs": [
    {
     "data": {
      "text/plain": [
       "{'type': 'univariate',\n",
       " 'names': ['pregnancies',\n",
       "  'glucose',\n",
       "  'diastolic',\n",
       "  'triceps',\n",
       "  'insulin',\n",
       "  'bmi',\n",
       "  'dpf',\n",
       "  'age'],\n",
       " 'scores': [-0.04484705147183339,\n",
       "  0.02653298682312555,\n",
       "  -0.01568311965900504,\n",
       "  -0.030176061300163523,\n",
       "  0.009020029244850623,\n",
       "  0.260328294298641,\n",
       "  0.03824722953561576,\n",
       "  -0.15562985228560677],\n",
       " 'values': [4.0, 76.0, 62.0, 0.0, 0.0, 34.0, 0.391, 25.0],\n",
       " 'extra': {'names': ['Intercept'],\n",
       "  'scores': [-0.8065291885261778],\n",
       "  'values': [1]},\n",
       " 'perf': {'is_classification': True,\n",
       "  'actual': nan,\n",
       "  'predicted': 0,\n",
       "  'actual_score': nan,\n",
       "  'predicted_score': 0.672328776503841},\n",
       " 'meta': {'label_names': [0, 1]}}"
      ]
     },
     "execution_count": 41,
     "metadata": {},
     "output_type": "execute_result"
    }
   ],
   "source": [
    "ebm_local.data(2)"
   ]
  }
 ],
 "metadata": {
  "kernelspec": {
   "display_name": "Python 3",
   "language": "python",
   "name": "python3"
  },
  "language_info": {
   "codemirror_mode": {
    "name": "ipython",
    "version": 3
   },
   "file_extension": ".py",
   "mimetype": "text/x-python",
   "name": "python",
   "nbconvert_exporter": "python",
   "pygments_lexer": "ipython3",
   "version": "3.9.6"
  }
 },
 "nbformat": 4,
 "nbformat_minor": 2
}
