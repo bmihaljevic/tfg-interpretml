{
 "cells": [
  {
   "cell_type": "code",
   "execution_count": 24,
   "metadata": {},
   "outputs": [],
   "source": [
    "import sys\n",
    "import os\n",
    "\n",
    "# Obtener el directorio actual\n",
    "current_directory = os.getcwd()\n",
    "\n",
    "# Subir dos niveles al directorio raíz, donde se encuentra la carpeta 'interpretml'\n",
    "root_path = os.path.abspath(os.path.join(current_directory, '..', '..', '..'))\n",
    "\n",
    "sys.path.append(root_path)"
   ]
  },
  {
   "cell_type": "code",
   "execution_count": 25,
   "metadata": {},
   "outputs": [],
   "source": [
    "import pandas as pd\n",
    "import numpy as np\n",
    "import interpret"
   ]
  },
  {
   "cell_type": "markdown",
   "metadata": {},
   "source": [
    "Read the data"
   ]
  },
  {
   "cell_type": "code",
   "execution_count": 26,
   "metadata": {},
   "outputs": [],
   "source": [
    "X_train = pd.read_csv('data/X_train.csv')\n",
    "y_train = pd.read_csv('data/y_train.csv').to_numpy().ravel()\n",
    "\n",
    "X_test = pd.read_csv('data/X_test.csv')\n",
    "y_test = pd.read_csv('data/y_test.csv').to_numpy().ravel()"
   ]
  },
  {
   "cell_type": "code",
   "execution_count": 27,
   "metadata": {},
   "outputs": [
    {
     "data": {
      "text/html": [
       "<style>#sk-container-id-2 {color: black;}#sk-container-id-2 pre{padding: 0;}#sk-container-id-2 div.sk-toggleable {background-color: white;}#sk-container-id-2 label.sk-toggleable__label {cursor: pointer;display: block;width: 100%;margin-bottom: 0;padding: 0.3em;box-sizing: border-box;text-align: center;}#sk-container-id-2 label.sk-toggleable__label-arrow:before {content: \"▸\";float: left;margin-right: 0.25em;color: #696969;}#sk-container-id-2 label.sk-toggleable__label-arrow:hover:before {color: black;}#sk-container-id-2 div.sk-estimator:hover label.sk-toggleable__label-arrow:before {color: black;}#sk-container-id-2 div.sk-toggleable__content {max-height: 0;max-width: 0;overflow: hidden;text-align: left;background-color: #f0f8ff;}#sk-container-id-2 div.sk-toggleable__content pre {margin: 0.2em;color: black;border-radius: 0.25em;background-color: #f0f8ff;}#sk-container-id-2 input.sk-toggleable__control:checked~div.sk-toggleable__content {max-height: 200px;max-width: 100%;overflow: auto;}#sk-container-id-2 input.sk-toggleable__control:checked~label.sk-toggleable__label-arrow:before {content: \"▾\";}#sk-container-id-2 div.sk-estimator input.sk-toggleable__control:checked~label.sk-toggleable__label {background-color: #d4ebff;}#sk-container-id-2 div.sk-label input.sk-toggleable__control:checked~label.sk-toggleable__label {background-color: #d4ebff;}#sk-container-id-2 input.sk-hidden--visually {border: 0;clip: rect(1px 1px 1px 1px);clip: rect(1px, 1px, 1px, 1px);height: 1px;margin: -1px;overflow: hidden;padding: 0;position: absolute;width: 1px;}#sk-container-id-2 div.sk-estimator {font-family: monospace;background-color: #f0f8ff;border: 1px dotted black;border-radius: 0.25em;box-sizing: border-box;margin-bottom: 0.5em;}#sk-container-id-2 div.sk-estimator:hover {background-color: #d4ebff;}#sk-container-id-2 div.sk-parallel-item::after {content: \"\";width: 100%;border-bottom: 1px solid gray;flex-grow: 1;}#sk-container-id-2 div.sk-label:hover label.sk-toggleable__label {background-color: #d4ebff;}#sk-container-id-2 div.sk-serial::before {content: \"\";position: absolute;border-left: 1px solid gray;box-sizing: border-box;top: 0;bottom: 0;left: 50%;z-index: 0;}#sk-container-id-2 div.sk-serial {display: flex;flex-direction: column;align-items: center;background-color: white;padding-right: 0.2em;padding-left: 0.2em;position: relative;}#sk-container-id-2 div.sk-item {position: relative;z-index: 1;}#sk-container-id-2 div.sk-parallel {display: flex;align-items: stretch;justify-content: center;background-color: white;position: relative;}#sk-container-id-2 div.sk-item::before, #sk-container-id-2 div.sk-parallel-item::before {content: \"\";position: absolute;border-left: 1px solid gray;box-sizing: border-box;top: 0;bottom: 0;left: 50%;z-index: -1;}#sk-container-id-2 div.sk-parallel-item {display: flex;flex-direction: column;z-index: 1;position: relative;background-color: white;}#sk-container-id-2 div.sk-parallel-item:first-child::after {align-self: flex-end;width: 50%;}#sk-container-id-2 div.sk-parallel-item:last-child::after {align-self: flex-start;width: 50%;}#sk-container-id-2 div.sk-parallel-item:only-child::after {width: 0;}#sk-container-id-2 div.sk-dashed-wrapped {border: 1px dashed gray;margin: 0 0.4em 0.5em 0.4em;box-sizing: border-box;padding-bottom: 0.4em;background-color: white;}#sk-container-id-2 div.sk-label label {font-family: monospace;font-weight: bold;display: inline-block;line-height: 1.2em;}#sk-container-id-2 div.sk-label-container {text-align: center;}#sk-container-id-2 div.sk-container {/* jupyter's `normalize.less` sets `[hidden] { display: none; }` but bootstrap.min.css set `[hidden] { display: none !important; }` so we also need the `!important` here to be able to override the default hidden behavior on the sphinx rendered scikit-learn.org. See: https://github.com/scikit-learn/scikit-learn/issues/21755 */display: inline-block !important;position: relative;}#sk-container-id-2 div.sk-text-repr-fallback {display: none;}</style><div id=\"sk-container-id-2\" class=\"sk-top-container\"><div class=\"sk-text-repr-fallback\"><pre>ExplainableBoostingClassifier(interactions=2)</pre><b>In a Jupyter environment, please rerun this cell to show the HTML representation or trust the notebook. <br />On GitHub, the HTML representation is unable to render, please try loading this page with nbviewer.org.</b></div><div class=\"sk-container\" hidden><div class=\"sk-item\"><div class=\"sk-estimator sk-toggleable\"><input class=\"sk-toggleable__control sk-hidden--visually\" id=\"sk-estimator-id-2\" type=\"checkbox\" checked><label for=\"sk-estimator-id-2\" class=\"sk-toggleable__label sk-toggleable__label-arrow\">ExplainableBoostingClassifier</label><div class=\"sk-toggleable__content\"><pre>ExplainableBoostingClassifier(interactions=2)</pre></div></div></div></div></div>"
      ],
      "text/plain": [
       "ExplainableBoostingClassifier(interactions=2)"
      ]
     },
     "execution_count": 27,
     "metadata": {},
     "output_type": "execute_result"
    }
   ],
   "source": [
    "from interpret.glassbox import ExplainableBoostingClassifier\n",
    "from interpret import show\n",
    "\n",
    "ebm = ExplainableBoostingClassifier(interactions=2)\n",
    "ebm.fit(X_train, y_train)"
   ]
  },
  {
   "cell_type": "markdown",
   "metadata": {},
   "source": [
    "## Global explanations"
   ]
  },
  {
   "cell_type": "code",
   "execution_count": 28,
   "metadata": {},
   "outputs": [
    {
     "name": "stdout",
     "output_type": "stream",
     "text": [
      "Utilizando librería modificada de interpret\n",
      "['pregnancies', 'glucose', 'diastolic', 'triceps', 'insulin', 'bmi', 'dpf', 'age', 'pregnancies & age', 'glucose & insulin'] ['continuous', 'continuous', 'continuous', 'continuous', 'continuous', 'continuous', 'continuous', 'continuous', 'interaction', 'interaction']\n",
      "(0, 7)\n",
      "(1, 4)\n"
     ]
    },
    {
     "data": {
      "text/html": [
       "<!-- http://127.0.0.1:7152/1337783477776/ -->\n",
       "<iframe src=\"http://127.0.0.1:7152/1337783477776/\" width=100% height=800 frameBorder=\"0\"></iframe>"
      ]
     },
     "metadata": {},
     "output_type": "display_data"
    }
   ],
   "source": [
    "ebm_global = ebm.explain_global()\n",
    "show(ebm_global)"
   ]
  },
  {
   "cell_type": "code",
   "execution_count": 31,
   "metadata": {},
   "outputs": [
    {
     "data": {
      "text/plain": [
       "['pregnancies',\n",
       " 'glucose',\n",
       " 'diastolic',\n",
       " 'triceps',\n",
       " 'insulin',\n",
       " 'bmi',\n",
       " 'dpf',\n",
       " 'age',\n",
       " 'pregnancies & age',\n",
       " 'glucose & insulin']"
      ]
     },
     "execution_count": 31,
     "metadata": {},
     "output_type": "execute_result"
    }
   ],
   "source": [
    "ebm_global.feature_names"
   ]
  },
  {
   "cell_type": "code",
   "execution_count": 6,
   "metadata": {},
   "outputs": [
    {
     "data": {
      "text/plain": [
       "{'type': 'interaction',\n",
       " 'left_names': [0.0,\n",
       "  0.5,\n",
       "  1.5,\n",
       "  2.5,\n",
       "  3.5,\n",
       "  4.5,\n",
       "  5.5,\n",
       "  6.5,\n",
       "  7.5,\n",
       "  8.5,\n",
       "  9.5,\n",
       "  10.5,\n",
       "  11.5,\n",
       "  12.5,\n",
       "  13.5,\n",
       "  17.0],\n",
       " 'right_names': [21.0,\n",
       "  21.5,\n",
       "  22.5,\n",
       "  23.5,\n",
       "  24.5,\n",
       "  25.5,\n",
       "  26.5,\n",
       "  27.5,\n",
       "  28.5,\n",
       "  29.5,\n",
       "  30.5,\n",
       "  31.5,\n",
       "  32.5,\n",
       "  33.5,\n",
       "  34.5,\n",
       "  35.5,\n",
       "  36.5,\n",
       "  37.5,\n",
       "  38.5,\n",
       "  39.5,\n",
       "  40.5,\n",
       "  41.5,\n",
       "  42.5,\n",
       "  43.5,\n",
       "  44.5,\n",
       "  45.5,\n",
       "  46.5,\n",
       "  47.5,\n",
       "  48.5,\n",
       "  49.5,\n",
       "  50.5,\n",
       "  51.5,\n",
       "  52.5,\n",
       "  53.5,\n",
       "  54.5,\n",
       "  55.5,\n",
       "  56.5,\n",
       "  57.5,\n",
       "  58.5,\n",
       "  59.5,\n",
       "  60.5,\n",
       "  62.5,\n",
       "  63.5,\n",
       "  64.5,\n",
       "  65.5,\n",
       "  66.5,\n",
       "  67.5,\n",
       "  69.5,\n",
       "  81.0],\n",
       " 'scores': array([[ 5.51698827e-02,  7.10277541e-02,  1.45206609e-01,\n",
       "          1.85667834e-01,  2.13133585e-01,  2.21867646e-01,\n",
       "          2.42173643e-01,  2.57820766e-01,  3.04011436e-01,\n",
       "          5.60043665e-01,  5.81397153e-01,  6.20482982e-01,\n",
       "          6.58406765e-01,  6.58135080e-01,  6.61744554e-01,\n",
       "          6.46164038e-01,  6.23662299e-01,  5.87535846e-01,\n",
       "          3.61598701e-01,  3.59132909e-01,  3.39961717e-01,\n",
       "         -1.98610603e-01, -2.57594535e-01, -2.77159104e-01,\n",
       "         -2.62085309e-01, -2.66311525e-01, -2.53839130e-01,\n",
       "         -2.54919427e-01, -2.45341480e-01, -3.00130973e-02,\n",
       "         -3.05414148e-02,  5.97813534e-02, -3.76788474e-01,\n",
       "         -4.09280098e-01, -5.25699717e-01, -5.57438857e-01,\n",
       "         -5.80408850e-01, -6.03697179e-01, -5.14739918e-01,\n",
       "          1.80260069e-01,  2.20053862e-01, -2.75992119e-02,\n",
       "         -3.64933139e-02, -5.34523861e-02, -3.89824487e-02,\n",
       "         -4.16063541e-02, -5.05975546e-02, -2.89218062e-02],\n",
       "        [-4.93073313e-01, -4.59257207e-01, -2.19038992e-01,\n",
       "         -1.76503856e-01, -4.40500013e-02, -3.40232035e-02,\n",
       "         -8.47522179e-03,  7.72496513e-03,  6.58456694e-02,\n",
       "          3.25609518e-01,  3.47820360e-01,  3.85754796e-01,\n",
       "          4.27561601e-01,  4.27963248e-01,  4.41156443e-01,\n",
       "          4.28910712e-01,  4.10372156e-01,  4.18758812e-01,\n",
       "          4.16215643e-01,  4.20166898e-01,  4.09501905e-01,\n",
       "          4.29132178e-01,  4.53459592e-01,  4.52005926e-01,\n",
       "          4.69144549e-01,  4.78879129e-01,  4.91488099e-01,\n",
       "          4.99678207e-01,  5.12111385e-01,  7.25985061e-01,\n",
       "          7.32684559e-01,  8.25698899e-01,  3.96827690e-01,\n",
       "          3.68372227e-01,  2.53479765e-01,  2.44967745e-01,\n",
       "          2.29201116e-01,  2.11946945e-01,  2.99486600e-01,\n",
       "          1.00047064e+00,  1.02174996e+00,  7.78444567e-01,\n",
       "          7.66456547e-01,  7.51290057e-01,  7.69120443e-01,\n",
       "          7.67564073e-01,  7.52139138e-01,  7.72304041e-01],\n",
       "        [-5.63150622e-01, -4.03402286e-01, -7.11517582e-02,\n",
       "         -8.60652892e-02,  4.45148153e-02,  8.43935526e-03,\n",
       "          3.14892690e-02,  4.41352943e-02,  6.70496562e-02,\n",
       "          8.67798843e-02,  9.86666986e-02,  1.06963147e-01,\n",
       "          1.05104335e-01,  9.82370352e-02,  1.11623324e-01,\n",
       "          9.50827184e-02,  7.19953236e-02,  8.24340121e-02,\n",
       "          8.05115104e-02,  8.47251666e-02,  7.86029467e-02,\n",
       "          9.63795709e-02,  1.29601155e-01,  1.36219799e-01,\n",
       "          1.59085442e-01,  1.67653380e-01,  1.76380582e-01,\n",
       "          1.85168283e-01,  1.99227005e-01,  4.21467011e-01,\n",
       "          4.37801223e-01,  5.41498312e-01,  1.20429459e-01,\n",
       "          9.49323867e-02, -1.83913272e-02, -2.49702347e-02,\n",
       "         -3.25571065e-02, -3.69788445e-02,  1.01256876e-02,\n",
       "          7.05014842e-01,  7.15328904e-01,  4.77414121e-01,\n",
       "          4.66734588e-01,  4.53861484e-01,  4.77067632e-01,\n",
       "          4.81237632e-01,  4.64442134e-01,  4.85509164e-01],\n",
       "        [-4.85293124e-01, -3.20299115e-01,  1.26998163e-02,\n",
       "         -4.87540920e-02,  8.03002269e-02,  1.65497036e-02,\n",
       "          2.42335505e-02,  3.19182339e-02,  5.36733391e-02,\n",
       "          7.11414517e-02,  8.19647372e-02,  8.50607974e-02,\n",
       "          7.70607739e-02,  6.49049074e-02,  7.77707762e-02,\n",
       "          5.55362734e-02,  2.95200833e-02,  3.64001473e-02,\n",
       "          3.59667004e-02,  4.24597790e-02,  5.67319719e-02,\n",
       "          7.30289559e-02,  1.11203581e-01,  1.20471134e-01,\n",
       "          1.40688115e-01,  1.46283966e-01,  1.51906669e-01,\n",
       "          1.63023592e-01,  1.75670851e-01,  3.98260843e-01,\n",
       "          4.12691790e-01,  5.15862119e-01,  1.09356274e-01,\n",
       "          8.63313691e-02, -2.26900891e-02, -2.53416039e-02,\n",
       "         -2.87265458e-02, -3.33167511e-02,  1.32921536e-02,\n",
       "          6.86478394e-01,  6.80432729e-01,  4.38728534e-01,\n",
       "          4.31528142e-01,  4.26993362e-01,  4.46912104e-01,\n",
       "          4.59185505e-01,  4.54897819e-01,  4.81726627e-01],\n",
       "        [-5.28069849e-01, -3.61465813e-01, -1.96096754e-01,\n",
       "         -2.66889963e-01, -1.39390439e-01, -2.17381357e-01,\n",
       "         -2.12154380e-01, -2.04960150e-01, -2.21543811e-02,\n",
       "         -6.10789391e-03,  3.97777600e-03,  4.93739147e-03,\n",
       "         -4.64837537e-03, -1.63882074e-02, -2.04930614e-04,\n",
       "         -2.28268939e-02, -4.88971051e-02, -2.83712378e-02,\n",
       "         -2.88046847e-02, -1.38772808e-02,  3.52002302e-03,\n",
       "          1.97344587e-02,  6.12651721e-02,  7.26866036e-02,\n",
       "          9.33637846e-02,  9.94300203e-02,  1.03970621e-01,\n",
       "          1.17224192e-01,  1.30858191e-01,  3.58291116e-01,\n",
       "          3.76863158e-01,  4.94265966e-01,  4.83702723e-01,\n",
       "          4.77454619e-01,  3.70834239e-01,  3.73271039e-01,\n",
       "          3.70320223e-01,  3.68170585e-01,  4.17453039e-01,\n",
       "          1.08534160e+00,  1.06936809e+00,  8.77060798e-01,\n",
       "          8.70228458e-01,  8.64397009e-01,  8.82848174e-01,\n",
       "          8.98177936e-01,  9.09658587e-01,  9.57491284e-01],\n",
       "        [-2.76122237e-01, -1.09225521e-01,  2.82025768e-02,\n",
       "         -5.52270801e-02,  6.48592158e-02, -1.95185389e-01,\n",
       "         -1.90801522e-01, -1.84880232e-01,  8.39138780e-04,\n",
       "          8.54554947e-03,  1.95872407e-02,  2.04476226e-02,\n",
       "          1.01871545e-02, -1.10665620e-04,  1.60726111e-02,\n",
       "          1.09510458e-02, -1.13119527e-02,  7.33997991e-03,\n",
       "          7.99600845e-03,  1.83111303e-02,  3.38019466e-02,\n",
       "          4.73792630e-02,  8.78279617e-02,  9.25746333e-02,\n",
       "          8.93532910e-02,  8.46705944e-02,  4.75812857e-02,\n",
       "          5.17546776e-02,  6.50182793e-02,  2.92291051e-01,\n",
       "          3.09062723e-01,  4.21635066e-01,  4.14867352e-01,\n",
       "          4.09098794e-01,  2.97892463e-01,  2.83555797e-01,\n",
       "          2.46379284e-01,  2.28287162e-01,  2.07549955e-01,\n",
       "         -5.18568042e-01, -5.37280868e-01, -7.39391482e-01,\n",
       "         -7.51506016e-01, -7.67016566e-01, -7.66808664e-01,\n",
       "         -7.53800821e-01, -7.53597394e-01, -7.14986685e-01],\n",
       "        [-5.22303024e-01, -3.57827729e-01, -2.61489129e-01,\n",
       "         -3.49470683e-01, -2.26549477e-01, -4.86723561e-01,\n",
       "         -4.77929422e-01, -4.68775831e-01,  1.44965074e-02,\n",
       "          2.23650665e-02,  3.39773120e-02,  3.72413185e-02,\n",
       "          3.18948092e-02,  2.87056609e-02,  4.29482630e-02,\n",
       "          5.01541998e-02,  3.14531985e-02,  6.49598102e-02,\n",
       "          6.96421397e-02,  8.04606281e-02,  9.72888369e-02,\n",
       "          1.08409707e-01,  1.47245400e-01,  1.51145052e-01,\n",
       "          1.48745861e-01,  1.46902846e-01,  1.07636081e-01,\n",
       "          1.04921254e-01,  1.13844268e-01,  3.34661684e-01,\n",
       "          3.39986599e-01,  4.48238723e-01,  4.41180681e-01,\n",
       "          4.34390876e-01,  3.20380854e-01,  2.96073460e-01,\n",
       "          2.51422675e-01,  2.30417979e-01,  2.02004293e-01,\n",
       "         -5.42886358e-01, -5.67111279e-01, -7.29551196e-01,\n",
       "         -7.49355145e-01, -7.66585343e-01, -7.72739765e-01,\n",
       "         -7.68004593e-01, -7.75713979e-01, -7.44081734e-01],\n",
       "        [ 4.04096556e-01,  5.70733564e-01,  6.47427281e-01,\n",
       "          5.22386081e-01,  6.31644984e-01,  3.63588633e-01,\n",
       "          3.65565705e-01,  3.70072839e-01,  8.32149428e-01,\n",
       "          7.90800508e-01,  7.80403378e-01,  7.10373056e-01,\n",
       "          5.76486468e-01,  9.60623338e-02,  8.93168080e-02,\n",
       "          8.62258443e-02,  5.38368180e-02,  8.82274009e-02,\n",
       "          9.06184380e-02,  1.01423428e-01,  1.11960079e-01,\n",
       "          1.21072355e-01,  1.58879046e-01,  1.57835324e-01,\n",
       "          1.53175831e-01,  1.44580874e-01,  9.50766533e-02,\n",
       "          2.71159623e-02,  2.49646595e-02,  3.27630214e-02,\n",
       "          2.64885212e-02,  1.31592587e-01,  1.24755952e-01,\n",
       "          1.17543154e-01, -1.39556122e-03, -3.00999401e-02,\n",
       "         -1.57374236e-01, -1.96015520e-01, -2.36719641e-01,\n",
       "         -9.84821588e-01, -1.01446914e+00, -1.17977701e+00,\n",
       "         -1.20428064e+00, -1.22299699e+00, -1.23642748e+00,\n",
       "         -1.25815049e+00, -1.26943908e+00, -1.24179184e+00],\n",
       "        [ 6.33465809e-01,  8.01702910e-01,  8.47509949e-01,\n",
       "          7.02242630e-01,  7.94485992e-01,  5.10574389e-01,\n",
       "          5.08755058e-01,  5.00273092e-01,  9.44491518e-01,\n",
       "          8.97966695e-01,  8.78025827e-01,  7.99916145e-01,\n",
       "          6.50641805e-01,  1.64530508e-01,  1.57291509e-01,\n",
       "          1.61395788e-01,  1.47610107e-01,  1.87856276e-01,\n",
       "          1.85509768e-01,  1.95053698e-01,  2.04541554e-01,\n",
       "          2.13886865e-01,  2.50132485e-01,  2.49645611e-01,\n",
       "          2.44600265e-01,  2.33431420e-01,  1.82748335e-01,\n",
       "          1.11585449e-01,  1.09153344e-01,  1.15915536e-01,\n",
       "          1.13766335e-01,  2.11303670e-01,  2.04713444e-01,\n",
       "          1.89010354e-01,  6.71580335e-02,  3.34356325e-02,\n",
       "         -1.19976248e-01, -1.55586416e-01, -1.94270229e-01,\n",
       "         -9.81380318e-01, -1.02071639e+00, -1.19106277e+00,\n",
       "         -1.21876202e+00, -1.24096198e+00, -1.26922024e+00,\n",
       "         -1.30433074e+00, -1.32034849e+00, -1.29885016e+00],\n",
       "        [ 6.00663733e-01,  7.63578064e-01,  8.14923533e-01,\n",
       "          6.73312826e-01,  7.62489669e-01,  4.82003815e-01,\n",
       "          4.83790770e-01,  4.73236146e-01,  9.15045404e-01,\n",
       "          8.62839647e-01,  8.41579527e-01,  7.63760815e-01,\n",
       "          6.12556171e-01,  1.17737115e-01,  1.07716508e-01,\n",
       "          1.17296343e-01,  1.04328843e-01,  1.53915441e-01,\n",
       "          1.52244784e-01,  1.65690475e-01,  1.76794238e-01,\n",
       "          2.02010032e-01,  2.38541387e-01,  2.38764604e-01,\n",
       "          2.33012762e-01,  2.23904403e-01,  1.77966076e-01,\n",
       "          1.05778182e-01,  1.04960890e-01,  1.08517071e-01,\n",
       "          1.02188302e-01,  1.97823389e-01,  1.88721657e-01,\n",
       "          1.66738490e-01,  7.34962311e-02,  4.14853762e-02,\n",
       "         -1.21228619e-01, -1.50668750e-01, -1.92887841e-01,\n",
       "         -9.79862330e-01, -1.01771686e+00, -1.18969524e+00,\n",
       "         -1.21806428e+00, -1.23976643e+00, -1.26947033e+00,\n",
       "         -1.30728084e+00, -1.32977614e+00, -1.32113692e+00],\n",
       "        [-2.34670012e-01, -8.28876806e-02, -4.41076359e-02,\n",
       "         -1.91371647e-01, -1.07218790e-01, -3.89904395e-01,\n",
       "         -3.89324269e-01, -4.02408734e-01,  4.13052563e-02,\n",
       "          1.35667279e-03, -1.36196135e-02, -8.68073433e-02,\n",
       "         -2.26548908e-01, -7.09595038e-01, -7.14487303e-01,\n",
       "         -6.90507025e-01, -6.77119136e-01,  1.61629031e-01,\n",
       "          1.61510784e-01,  1.82561607e-01,  1.95485845e-01,\n",
       "          2.27100674e-01,  2.60806124e-01,  2.63294161e-01,\n",
       "          2.56569037e-01,  2.53096093e-01,  2.05691865e-01,\n",
       "          1.31764521e-01,  1.28706439e-01,  1.21360647e-01,\n",
       "          1.09456586e-01,  3.16954939e-02,  2.04818573e-02,\n",
       "         -4.51810742e-03,  8.89155456e-02,  5.99229090e-02,\n",
       "         -1.02740931e-01, -1.28474707e-01, -1.69167982e-01,\n",
       "         -9.50127384e-01, -9.90384231e-01, -1.07844290e+00,\n",
       "         -1.09899085e+00, -1.11464205e+00, -1.14283791e+00,\n",
       "         -1.17164889e+00, -1.18923507e+00, -1.18232097e+00],\n",
       "        [-4.04216108e-01, -2.54362318e-01, -2.01866055e-01,\n",
       "         -3.52646058e-01, -2.76662347e-01, -5.60196627e-01,\n",
       "         -5.59427374e-01, -5.73300679e-01, -1.31017350e-01,\n",
       "         -1.69832734e-01, -1.86499564e-01, -2.59014580e-01,\n",
       "         -3.94267468e-01, -8.78492952e-01, -8.88162530e-01,\n",
       "         -8.54649652e-01, -8.18841701e-01,  3.06515385e-02,\n",
       "          3.19127854e-02,  5.57285358e-02,  6.78681184e-02,\n",
       "          1.72668410e-01,  2.48597539e-01,  2.58100732e-01,\n",
       "          2.51909592e-01,  2.50783293e-01,  2.02472210e-01,\n",
       "          1.25037989e-01,  1.18156723e-01,  1.13109284e-01,\n",
       "          9.78184883e-02,  1.46764271e-02,  7.28251070e-03,\n",
       "         -1.83264930e-02,  7.41044060e-02,  5.15049651e-02,\n",
       "         -1.09426701e-01, -1.28892556e-01, -1.63751550e-01,\n",
       "         -9.36811654e-01, -9.74849032e-01, -1.05848808e+00,\n",
       "         -1.07664100e+00, -1.09148427e+00, -1.11648039e+00,\n",
       "         -1.13683224e+00, -1.14746354e+00, -1.14503939e+00],\n",
       "        [-3.92501139e-01, -2.45403585e-01, -1.88483957e-01,\n",
       "         -3.36783723e-01, -2.60730029e-01, -5.41144560e-01,\n",
       "         -5.40458406e-01, -5.45383700e-01, -1.04890794e-01,\n",
       "         -1.40021616e-01, -1.46648893e-01, -2.14710465e-01,\n",
       "         -3.42374118e-01, -8.24396211e-01, -8.30150255e-01,\n",
       "         -8.02437445e-01, -7.64233925e-01,  8.31177594e-02,\n",
       "          7.54318874e-02,  9.02273117e-02,  7.88452434e-02,\n",
       "          1.95103547e-01,  2.73929051e-01,  2.83172932e-01,\n",
       "          2.73618759e-01,  2.94737713e-01,  2.40901593e-01,\n",
       "          1.48477623e-01,  1.36340014e-01,  1.19918866e-01,\n",
       "          9.92822556e-02,  9.62372744e-03,  1.29519944e-03,\n",
       "         -1.86505770e-02,  7.92285545e-02,  6.06392171e-02,\n",
       "         -9.42668788e-02, -9.60734413e-02, -1.24245298e-01,\n",
       "         -8.90181009e-01, -9.27359091e-01, -1.00582495e+00,\n",
       "         -1.02412319e+00, -1.04078736e+00, -1.06088329e+00,\n",
       "         -1.07746212e+00, -1.08581458e+00, -1.08468635e+00],\n",
       "        [-2.23870326e-01, -7.68011389e-02, -1.01458154e-03,\n",
       "         -1.34506826e-01, -5.52319799e-02, -3.19074688e-01,\n",
       "         -3.18369608e-01, -3.11091040e-01,  1.39368228e-01,\n",
       "          1.12582681e-01,  1.08301103e-01,  4.02395315e-02,\n",
       "         -7.98356706e-02, -5.56386159e-01, -5.61564637e-01,\n",
       "         -5.36744638e-01, -4.92920109e-01,  3.52416170e-01,\n",
       "          3.31111726e-01,  3.38076666e-01,  3.16773214e-01,\n",
       "          4.30382354e-01,  4.99157050e-01,  4.83397387e-01,\n",
       "          1.54927544e-01,  1.68793562e-01,  1.09191575e-01,\n",
       "         -9.29082247e-03, -3.42056466e-02, -7.19910203e-02,\n",
       "         -9.59155993e-02, -2.15885595e-01, -2.27952812e-01,\n",
       "         -2.54996963e-01, -1.56269075e-01, -1.79427396e-01,\n",
       "         -3.34839789e-01, -3.34503557e-01, -3.57538000e-01,\n",
       "         -1.11786813e+00, -1.14660804e+00, -1.16716529e+00,\n",
       "         -1.18524846e+00, -1.19757960e+00, -1.21479971e+00,\n",
       "         -1.22963010e+00, -1.24178528e+00, -1.23989140e+00],\n",
       "        [-3.67828763e-02,  1.19128004e-01,  2.14566606e-01,\n",
       "          8.40514101e-02,  1.64697354e-01, -8.74410500e-02,\n",
       "         -7.68463456e-02, -6.53994950e-02,  3.98045773e-01,\n",
       "          3.73037423e-01,  3.78897591e-01,  3.17355274e-01,\n",
       "          1.98984957e-01, -2.55501982e-01, -2.55578623e-01,\n",
       "         -2.22048775e-01, -1.62195127e-01,  6.83731969e-01,\n",
       "          6.61143968e-01,  6.70520692e-01,  6.60656184e-01,\n",
       "          7.74642418e-01,  8.45322570e-01,  8.37529769e-01,\n",
       "          5.10695354e-01,  5.30270936e-01,  4.70668949e-01,\n",
       "          3.46172739e-01,  3.16624294e-01,  2.72583088e-01,\n",
       "          2.47753113e-01,  1.14954476e-01,  9.38577347e-02,\n",
       "          6.11040714e-02,  1.59400306e-01,  1.30825666e-01,\n",
       "         -2.83149412e-02, -3.45156740e-02, -5.70958616e-02,\n",
       "         -9.84181919e-01, -1.01323591e+00, -1.03271291e+00,\n",
       "         -1.05213139e+00, -1.06982536e+00, -1.08772659e+00,\n",
       "         -1.10349243e+00, -1.11890849e+00, -1.11836713e+00]]),\n",
       " 'scores_range': (-2.123351193718653, 4.204019072459177)}"
      ]
     },
     "execution_count": 6,
     "metadata": {},
     "output_type": "execute_result"
    }
   ],
   "source": [
    "ebm_global._internal_obj['specific'][8]"
   ]
  },
  {
   "cell_type": "markdown",
   "metadata": {},
   "source": [
    "EBM class use 'ebm.term_scores' to create the graph. Each term has a list of scores, each one representing a bin of the variable (or term). In the case of glucose, a low (0-120) value would mean a negative score, suggesting no-diabetes prediction; a high score (120-180) would likely mean that the person has diabetes."
   ]
  },
  {
   "cell_type": "markdown",
   "metadata": {},
   "source": [
    "The number of scores in the list is determined by the bins of the variable. And the number of bins depend on the distribution of the variable and the discretization algorithm used. For example, in the case of glucose would be the following bins:"
   ]
  },
  {
   "cell_type": "code",
   "execution_count": 7,
   "metadata": {},
   "outputs": [
    {
     "name": "stdout",
     "output_type": "stream",
     "text": [
      "Number of bins in glucose:  127\n"
     ]
    },
    {
     "data": {
      "text/plain": [
       "array([ 22. ,  50. ,  56.5,  62. ,  67.5,  69.5,  72. ,  73.5,  74.5,\n",
       "        75.5,  76.5,  77.5,  78.5,  79.5,  80.5,  81.5,  82.5,  83.5,\n",
       "        84.5,  85.5,  86.5,  87.5,  88.5,  89.5,  90.5,  91.5,  92.5,\n",
       "        93.5,  94.5,  95.5,  96.5,  97.5,  98.5,  99.5, 100.5, 101.5,\n",
       "       102.5, 103.5, 104.5, 105.5, 106.5, 107.5, 108.5, 109.5, 110.5,\n",
       "       111.5, 112.5, 113.5, 114.5, 115.5, 116.5, 117.5, 118.5, 119.5,\n",
       "       120.5, 121.5, 122.5, 123.5, 124.5, 125.5, 126.5, 127.5, 128.5,\n",
       "       129.5, 130.5, 131.5, 132.5, 133.5, 134.5, 135.5, 136.5, 137.5,\n",
       "       138.5, 139.5, 140.5, 141.5, 142.5, 143.5, 144.5, 145.5, 146.5,\n",
       "       147.5, 148.5, 149.5, 150.5, 151.5, 152.5, 153.5, 154.5, 155.5,\n",
       "       156.5, 157.5, 158.5, 159.5, 160.5, 161.5, 162.5, 163.5, 164.5,\n",
       "       165.5, 166.5, 167.5, 168.5, 169.5, 170.5, 172. , 173.5, 174.5,\n",
       "       175.5, 176.5, 177.5, 178.5, 179.5, 180.5, 182. , 183.5, 185. ,\n",
       "       186.5, 187.5, 188.5, 189.5, 190.5, 192.5, 194.5, 195.5, 196.5,\n",
       "       197.5])"
      ]
     },
     "execution_count": 7,
     "metadata": {},
     "output_type": "execute_result"
    }
   ],
   "source": [
    "print(\"Number of bins in glucose: \", len(ebm.bins_[1][0]))\n",
    "ebm.bins_[1][0]"
   ]
  },
  {
   "cell_type": "markdown",
   "metadata": {},
   "source": [
    "And the constant value associated to each bin:"
   ]
  },
  {
   "cell_type": "code",
   "execution_count": 8,
   "metadata": {},
   "outputs": [
    {
     "data": {
      "text/plain": [
       "array([ 0.        , -0.63099025, -0.96340995, -1.07419818, -1.08696046,\n",
       "       -1.09622566, -1.10274483, -1.10289811, -1.10208151, -1.09683749,\n",
       "       -1.0895702 , -1.08023566, -1.06673348, -1.05791202, -1.05088763,\n",
       "       -1.04238371, -1.03588866, -1.02504243, -1.01327663, -1.00053769,\n",
       "       -0.99254221, -0.9866094 , -0.97700863, -0.96352772, -0.95094951,\n",
       "       -0.87290783, -0.85902529, -0.82093015, -0.80191835, -0.79039522,\n",
       "       -0.73511625, -0.74355387, -0.72844433, -0.72850191, -0.70666284,\n",
       "       -0.58605972, -0.55097082, -0.48845591, -0.47596127, -0.43548435,\n",
       "       -0.44000901, -0.42161198, -0.27850545, -0.26367686, -0.25517668,\n",
       "       -0.24383747, -0.22785207, -0.2121048 , -0.20165836, -0.19118097,\n",
       "       -0.17604766, -0.16344234, -0.15081739, -0.1416803 , -0.12985512,\n",
       "       -0.120627  , -0.09882757, -0.08985672, -0.09918228,  0.11258764,\n",
       "        0.11835203,  0.09493013,  0.10516306,  0.12794073,  0.14430878,\n",
       "        0.34647529,  0.36365193,  0.37696104,  0.39750485,  0.40918935,\n",
       "        0.36639142,  0.3695101 ,  0.35497404,  0.36766847,  0.38454378,\n",
       "        0.40583168,  0.39790888,  0.41164422,  0.42950206,  0.4850671 ,\n",
       "        0.51191812,  0.53054222,  0.55507049,  0.58788654,  0.61084542,\n",
       "        0.62389358,  0.65396191,  0.6649446 ,  0.57910355,  0.60274203,\n",
       "        0.91570305,  0.93100563,  0.95209007,  0.99120582,  1.00413101,\n",
       "        1.07662981,  1.10683388,  1.11938212,  1.13597697,  1.14399051,\n",
       "        0.83491397,  0.89090888,  1.50037134,  1.53702914,  1.56461679,\n",
       "        1.59935356,  1.61319557,  1.62610777,  1.65118089,  1.66602863,\n",
       "        1.67729222,  1.6944703 ,  1.70618903,  1.71356362,  1.73216808,\n",
       "        1.75044451,  1.76203993,  1.77807668,  1.78874493,  1.79651381,\n",
       "        1.80513375,  1.77923557,  1.78326104,  1.78250753,  1.78985924,\n",
       "        1.8050682 ,  1.81054641,  1.80695989,  1.82287881,  0.        ])"
      ]
     },
     "execution_count": 8,
     "metadata": {},
     "output_type": "execute_result"
    }
   ],
   "source": [
    "ebm.term_scores_[1]"
   ]
  },
  {
   "cell_type": "markdown",
   "metadata": {},
   "source": [
    "So this means that we can modify the value on each bin to visualize, for example, the weights of another model:"
   ]
  },
  {
   "cell_type": "markdown",
   "metadata": {},
   "source": [
    "#### 1. Constant score"
   ]
  },
  {
   "cell_type": "code",
   "execution_count": 9,
   "metadata": {},
   "outputs": [],
   "source": [
    "ebm.term_scores_[1] = np.ones(ebm.term_scores_[1].shape)"
   ]
  },
  {
   "cell_type": "code",
   "execution_count": 10,
   "metadata": {},
   "outputs": [
    {
     "data": {
      "text/plain": [
       "array([1., 1., 1., 1., 1., 1., 1., 1., 1., 1., 1., 1., 1., 1., 1., 1., 1.,\n",
       "       1., 1., 1., 1., 1., 1., 1., 1., 1., 1., 1., 1., 1., 1., 1., 1., 1.,\n",
       "       1., 1., 1., 1., 1., 1., 1., 1., 1., 1., 1., 1., 1., 1., 1., 1., 1.,\n",
       "       1., 1., 1., 1., 1., 1., 1., 1., 1., 1., 1., 1., 1., 1., 1., 1., 1.,\n",
       "       1., 1., 1., 1., 1., 1., 1., 1., 1., 1., 1., 1., 1., 1., 1., 1., 1.,\n",
       "       1., 1., 1., 1., 1., 1., 1., 1., 1., 1., 1., 1., 1., 1., 1., 1., 1.,\n",
       "       1., 1., 1., 1., 1., 1., 1., 1., 1., 1., 1., 1., 1., 1., 1., 1., 1.,\n",
       "       1., 1., 1., 1., 1., 1., 1., 1., 1., 1., 1.])"
      ]
     },
     "execution_count": 10,
     "metadata": {},
     "output_type": "execute_result"
    }
   ],
   "source": [
    "ebm.term_scores_[1]"
   ]
  },
  {
   "cell_type": "code",
   "execution_count": 11,
   "metadata": {},
   "outputs": [
    {
     "name": "stdout",
     "output_type": "stream",
     "text": [
      "Utilizando librería modificada de interpret\n",
      "['pregnancies', 'glucose', 'diastolic', 'triceps', 'insulin', 'bmi', 'dpf', 'age', 'pregnancies & age', 'glucose & insulin'] ['continuous', 'continuous', 'continuous', 'continuous', 'continuous', 'continuous', 'continuous', 'continuous', 'interaction', 'interaction']\n",
      "(0, 7)\n",
      "(1, 4)\n"
     ]
    },
    {
     "data": {
      "text/html": [
       "<!-- http://127.0.0.1:7152/1337761494640/ -->\n",
       "<iframe src=\"http://127.0.0.1:7152/1337761494640/\" width=100% height=800 frameBorder=\"0\"></iframe>"
      ]
     },
     "metadata": {},
     "output_type": "display_data"
    }
   ],
   "source": [
    "ebm_global = ebm.explain_global()\n",
    "show(ebm_global)"
   ]
  },
  {
   "cell_type": "markdown",
   "metadata": {},
   "source": [
    "#### 2. Random scores"
   ]
  },
  {
   "cell_type": "code",
   "execution_count": 12,
   "metadata": {},
   "outputs": [],
   "source": [
    "ebm.term_scores_[1] = np.random.rand(ebm.term_scores_[1].shape[0])"
   ]
  },
  {
   "cell_type": "code",
   "execution_count": 13,
   "metadata": {},
   "outputs": [
    {
     "data": {
      "text/plain": [
       "array([8.70568077e-01, 3.55690284e-01, 9.56556424e-01, 9.56750809e-02,\n",
       "       8.85537381e-01, 4.83368489e-01, 8.16648566e-01, 8.99150656e-01,\n",
       "       1.59516397e-01, 2.22432500e-01, 8.89604120e-01, 4.73315766e-01,\n",
       "       2.26831764e-01, 1.06620532e-01, 8.58652101e-01, 2.32744693e-01,\n",
       "       7.58096612e-01, 9.45419294e-02, 1.34723838e-01, 9.84058654e-01,\n",
       "       1.44613053e-01, 8.22543437e-01, 9.96449857e-01, 4.95049437e-01,\n",
       "       2.81476064e-01, 3.41231563e-01, 3.02105015e-01, 5.91006356e-01,\n",
       "       5.24299375e-02, 9.05279946e-01, 7.59318737e-02, 2.65826842e-01,\n",
       "       4.33664422e-01, 4.64339650e-01, 1.76484587e-01, 3.35101749e-01,\n",
       "       9.23649010e-01, 9.28556816e-01, 7.71314147e-01, 8.69149071e-01,\n",
       "       4.92077699e-01, 9.71869060e-01, 3.96834334e-01, 9.86955511e-01,\n",
       "       4.00683347e-02, 3.55635924e-01, 3.35126192e-01, 8.78315278e-01,\n",
       "       3.45034066e-01, 1.65673183e-01, 8.50237585e-02, 6.64880074e-01,\n",
       "       8.30334320e-01, 9.32904188e-02, 8.95379303e-01, 5.12473023e-01,\n",
       "       3.97811818e-02, 9.06795580e-01, 4.64694947e-01, 6.47588865e-01,\n",
       "       3.31019769e-01, 6.10692046e-01, 3.82750543e-01, 8.97181099e-01,\n",
       "       9.79422778e-01, 2.23184747e-01, 6.05784566e-01, 1.76798219e-01,\n",
       "       2.27910520e-01, 2.31853697e-01, 8.24450707e-01, 9.02175947e-01,\n",
       "       2.03962511e-01, 9.05609934e-01, 8.88798399e-01, 2.38035201e-01,\n",
       "       3.20115199e-01, 4.76929793e-01, 2.22046264e-01, 4.47520520e-01,\n",
       "       6.46804949e-01, 5.46610220e-01, 4.25118916e-01, 6.11380011e-01,\n",
       "       8.64359885e-01, 8.54038273e-01, 4.16210577e-01, 1.92718660e-01,\n",
       "       9.51079544e-01, 2.43324879e-01, 7.97016401e-01, 3.98763760e-02,\n",
       "       8.11979231e-01, 8.75990814e-01, 8.66200563e-01, 2.12961597e-01,\n",
       "       7.96764005e-01, 1.21907150e-02, 1.23352939e-01, 2.65062579e-04,\n",
       "       3.36080133e-01, 6.40856523e-02, 5.53740581e-01, 5.48726327e-01,\n",
       "       1.21853557e-01, 7.00012125e-01, 6.41525187e-01, 9.78928663e-01,\n",
       "       6.16916297e-01, 6.57722027e-01, 6.39273191e-02, 5.31872192e-01,\n",
       "       2.63155383e-01, 6.52981262e-01, 1.02864628e-01, 1.84476510e-02,\n",
       "       5.86722375e-01, 5.00016127e-01, 9.53355984e-02, 2.71160396e-01,\n",
       "       1.28354041e-01, 8.80215290e-01, 8.09449449e-01, 5.28005087e-01,\n",
       "       4.09787498e-01, 2.28849097e-01, 1.13914629e-01, 1.09672378e-01,\n",
       "       4.16928078e-01, 6.78887350e-01])"
      ]
     },
     "execution_count": 13,
     "metadata": {},
     "output_type": "execute_result"
    }
   ],
   "source": [
    "ebm.term_scores_[1]"
   ]
  },
  {
   "cell_type": "code",
   "execution_count": 14,
   "metadata": {},
   "outputs": [
    {
     "name": "stdout",
     "output_type": "stream",
     "text": [
      "Utilizando librería modificada de interpret\n",
      "['pregnancies', 'glucose', 'diastolic', 'triceps', 'insulin', 'bmi', 'dpf', 'age', 'pregnancies & age', 'glucose & insulin'] ['continuous', 'continuous', 'continuous', 'continuous', 'continuous', 'continuous', 'continuous', 'continuous', 'interaction', 'interaction']\n",
      "(0, 7)\n",
      "(1, 4)\n"
     ]
    },
    {
     "data": {
      "text/html": [
       "<!-- http://127.0.0.1:7152/1337761374656/ -->\n",
       "<iframe src=\"http://127.0.0.1:7152/1337761374656/\" width=100% height=800 frameBorder=\"0\"></iframe>"
      ]
     },
     "metadata": {},
     "output_type": "display_data"
    }
   ],
   "source": [
    "ebm_global = ebm.explain_global()\n",
    "show(ebm_global)"
   ]
  },
  {
   "cell_type": "markdown",
   "metadata": {},
   "source": [
    "So in this way we can use the same visualization for models like Naive Bayes."
   ]
  },
  {
   "cell_type": "markdown",
   "metadata": {},
   "source": [
    "We could also modify the histogram values using 'ebm.histogram_edges_' and 'ebm.histogram_weights_'."
   ]
  },
  {
   "cell_type": "code",
   "execution_count": 15,
   "metadata": {},
   "outputs": [
    {
     "data": {
      "text/plain": [
       "array([  0. ,  16.5,  33. ,  49.5,  66. ,  82.5,  99. , 115.5, 132. ,\n",
       "       148.5, 165. , 181.5, 198. ])"
      ]
     },
     "execution_count": 15,
     "metadata": {},
     "output_type": "execute_result"
    }
   ],
   "source": [
    "ebm.histogram_edges_[1]"
   ]
  },
  {
   "cell_type": "code",
   "execution_count": 16,
   "metadata": {},
   "outputs": [
    {
     "data": {
      "text/plain": [
       "array([  0.,   4.,   0.,   1.,   3.,  36., 103., 145., 125.,  83.,  49.,\n",
       "        38.,  27.,   0.])"
      ]
     },
     "execution_count": 16,
     "metadata": {},
     "output_type": "execute_result"
    }
   ],
   "source": [
    "ebm.histogram_weights_[1]"
   ]
  },
  {
   "cell_type": "markdown",
   "metadata": {},
   "source": [
    "## Local explanations"
   ]
  },
  {
   "cell_type": "code",
   "execution_count": 17,
   "metadata": {},
   "outputs": [
    {
     "data": {
      "text/html": [
       "<!-- http://127.0.0.1:7152/1337762774800/ -->\n",
       "<iframe src=\"http://127.0.0.1:7152/1337762774800/\" width=100% height=800 frameBorder=\"0\"></iframe>"
      ]
     },
     "metadata": {},
     "output_type": "display_data"
    }
   ],
   "source": [
    "ebm_local = ebm.explain_local(X_test, y_test)\n",
    "show(ebm_local)"
   ]
  },
  {
   "cell_type": "code",
   "execution_count": 18,
   "metadata": {},
   "outputs": [
    {
     "data": {
      "text/plain": [
       "{'label_names': [0, 1]}"
      ]
     },
     "execution_count": 18,
     "metadata": {},
     "output_type": "execute_result"
    }
   ],
   "source": [
    "ebm_local._internal_obj['specific'][0]['meta']"
   ]
  },
  {
   "cell_type": "code",
   "execution_count": 19,
   "metadata": {},
   "outputs": [
    {
     "data": {
      "text/plain": [
       "(19,)"
      ]
     },
     "execution_count": 19,
     "metadata": {},
     "output_type": "execute_result"
    }
   ],
   "source": [
    "ebm.term_scores_[0].shape"
   ]
  },
  {
   "cell_type": "code",
   "execution_count": 20,
   "metadata": {},
   "outputs": [
    {
     "data": {
      "text/plain": [
       "pregnancies      1.000\n",
       "glucose        199.000\n",
       "diastolic       76.000\n",
       "triceps         43.000\n",
       "insulin          0.000\n",
       "bmi             42.900\n",
       "dpf              1.394\n",
       "age             22.000\n",
       "Name: 0, dtype: float64"
      ]
     },
     "execution_count": 20,
     "metadata": {},
     "output_type": "execute_result"
    }
   ],
   "source": [
    "X_test.iloc[0]"
   ]
  },
  {
   "cell_type": "code",
   "execution_count": 21,
   "metadata": {},
   "outputs": [
    {
     "data": {
      "text/plain": [
       "array([[0.42244183, 0.57755817],\n",
       "       [0.7885196 , 0.2114804 ],\n",
       "       [0.71746486, 0.28253514],\n",
       "       [0.62410988, 0.37589012],\n",
       "       [0.61506221, 0.38493779],\n",
       "       [0.85750492, 0.14249508],\n",
       "       [0.21440704, 0.78559296],\n",
       "       [0.16255254, 0.83744746],\n",
       "       [0.72949432, 0.27050568],\n",
       "       [0.27852336, 0.72147664],\n",
       "       [0.37643302, 0.62356698],\n",
       "       [0.12782608, 0.87217392],\n",
       "       [0.69592263, 0.30407737],\n",
       "       [0.74118321, 0.25881679],\n",
       "       [0.35936758, 0.64063242],\n",
       "       [0.25385161, 0.74614839],\n",
       "       [0.21752848, 0.78247152],\n",
       "       [0.96188835, 0.03811165],\n",
       "       [0.42746964, 0.57253036],\n",
       "       [0.70581991, 0.29418009],\n",
       "       [0.40940844, 0.59059156],\n",
       "       [0.78812821, 0.21187179],\n",
       "       [0.45773771, 0.54226229],\n",
       "       [0.3542888 , 0.6457112 ],\n",
       "       [0.94344854, 0.05655146],\n",
       "       [0.7119272 , 0.2880728 ],\n",
       "       [0.74094322, 0.25905678],\n",
       "       [0.05671286, 0.94328714],\n",
       "       [0.80528256, 0.19471744],\n",
       "       [0.79408613, 0.20591387],\n",
       "       [0.46304635, 0.53695365],\n",
       "       [0.59983951, 0.40016049],\n",
       "       [0.58018301, 0.41981699],\n",
       "       [0.32254419, 0.67745581],\n",
       "       [0.93004796, 0.06995204],\n",
       "       [0.38265514, 0.61734486],\n",
       "       [0.22027734, 0.77972266],\n",
       "       [0.94008114, 0.05991886],\n",
       "       [0.58857839, 0.41142161],\n",
       "       [0.6137421 , 0.3862579 ],\n",
       "       [0.61117769, 0.38882231],\n",
       "       [0.79762994, 0.20237006],\n",
       "       [0.72155379, 0.27844621],\n",
       "       [0.47043968, 0.52956032],\n",
       "       [0.58974411, 0.41025589],\n",
       "       [0.83314578, 0.16685422],\n",
       "       [0.91667352, 0.08332648],\n",
       "       [0.72624509, 0.27375491],\n",
       "       [0.72787662, 0.27212338],\n",
       "       [0.59996036, 0.40003964],\n",
       "       [0.66549658, 0.33450342],\n",
       "       [0.70144108, 0.29855892],\n",
       "       [0.27174576, 0.72825424],\n",
       "       [0.37461949, 0.62538051],\n",
       "       [0.39354897, 0.60645103],\n",
       "       [0.95002952, 0.04997048],\n",
       "       [0.63010691, 0.36989309],\n",
       "       [0.53390532, 0.46609468],\n",
       "       [0.73198366, 0.26801634],\n",
       "       [0.76457143, 0.23542857],\n",
       "       [0.2649759 , 0.7350241 ],\n",
       "       [0.4566552 , 0.5433448 ],\n",
       "       [0.89649323, 0.10350677],\n",
       "       [0.28510602, 0.71489398],\n",
       "       [0.39355113, 0.60644887],\n",
       "       [0.3700132 , 0.6299868 ],\n",
       "       [0.2913929 , 0.7086071 ],\n",
       "       [0.63668966, 0.36331034],\n",
       "       [0.18589153, 0.81410847],\n",
       "       [0.57029001, 0.42970999],\n",
       "       [0.77493592, 0.22506408],\n",
       "       [0.56017074, 0.43982926],\n",
       "       [0.55077457, 0.44922543],\n",
       "       [0.21290741, 0.78709259],\n",
       "       [0.41975237, 0.58024763],\n",
       "       [0.56954994, 0.43045006],\n",
       "       [0.39325442, 0.60674558],\n",
       "       [0.39475337, 0.60524663],\n",
       "       [0.71380052, 0.28619948],\n",
       "       [0.52543277, 0.47456723],\n",
       "       [0.45485889, 0.54514111],\n",
       "       [0.52218342, 0.47781658],\n",
       "       [0.68436324, 0.31563676],\n",
       "       [0.97377856, 0.02622144],\n",
       "       [0.7452398 , 0.2547602 ],\n",
       "       [0.53805163, 0.46194837],\n",
       "       [0.85806469, 0.14193531],\n",
       "       [0.37743904, 0.62256096],\n",
       "       [0.2814759 , 0.7185241 ],\n",
       "       [0.60432543, 0.39567457],\n",
       "       [0.52224006, 0.47775994],\n",
       "       [0.50938605, 0.49061395],\n",
       "       [0.68659767, 0.31340233],\n",
       "       [0.9474599 , 0.0525401 ],\n",
       "       [0.2893717 , 0.7106283 ],\n",
       "       [0.82405339, 0.17594661],\n",
       "       [0.29836544, 0.70163456],\n",
       "       [0.54445989, 0.45554011],\n",
       "       [0.25203231, 0.74796769],\n",
       "       [0.51930288, 0.48069712],\n",
       "       [0.53950124, 0.46049876],\n",
       "       [0.95756363, 0.04243637],\n",
       "       [0.57878103, 0.42121897],\n",
       "       [0.93816621, 0.06183379],\n",
       "       [0.40200786, 0.59799214],\n",
       "       [0.15208558, 0.84791442],\n",
       "       [0.69597795, 0.30402205],\n",
       "       [0.75940455, 0.24059545],\n",
       "       [0.92351518, 0.07648482],\n",
       "       [0.3508724 , 0.6491276 ],\n",
       "       [0.84415345, 0.15584655],\n",
       "       [0.32315635, 0.67684365],\n",
       "       [0.41589333, 0.58410667],\n",
       "       [0.14738373, 0.85261627],\n",
       "       [0.60927374, 0.39072626],\n",
       "       [0.29747293, 0.70252707],\n",
       "       [0.77737834, 0.22262166],\n",
       "       [0.80535548, 0.19464452],\n",
       "       [0.81600384, 0.18399616],\n",
       "       [0.22437868, 0.77562132],\n",
       "       [0.31692298, 0.68307702],\n",
       "       [0.63073983, 0.36926017],\n",
       "       [0.75427384, 0.24572616],\n",
       "       [0.8131441 , 0.1868559 ],\n",
       "       [0.95364377, 0.04635623],\n",
       "       [0.91400829, 0.08599171],\n",
       "       [0.59768173, 0.40231827],\n",
       "       [0.35247172, 0.64752828],\n",
       "       [0.2590325 , 0.7409675 ],\n",
       "       [0.85853197, 0.14146803],\n",
       "       [0.48710438, 0.51289562],\n",
       "       [0.74038968, 0.25961032],\n",
       "       [0.73527852, 0.26472148],\n",
       "       [0.43098444, 0.56901556],\n",
       "       [0.39425978, 0.60574022],\n",
       "       [0.17439115, 0.82560885],\n",
       "       [0.63223287, 0.36776713],\n",
       "       [0.18785091, 0.81214909],\n",
       "       [0.48526089, 0.51473911],\n",
       "       [0.61856444, 0.38143556],\n",
       "       [0.7986095 , 0.2013905 ],\n",
       "       [0.47846079, 0.52153921],\n",
       "       [0.94860294, 0.05139706],\n",
       "       [0.4071692 , 0.5928308 ],\n",
       "       [0.43042665, 0.56957335],\n",
       "       [0.94636187, 0.05363813],\n",
       "       [0.83055562, 0.16944438],\n",
       "       [0.80778076, 0.19221924],\n",
       "       [0.80721887, 0.19278113],\n",
       "       [0.55485574, 0.44514426],\n",
       "       [0.8908179 , 0.1091821 ],\n",
       "       [0.63684446, 0.36315554],\n",
       "       [0.93084478, 0.06915522],\n",
       "       [0.75082614, 0.24917386]])"
      ]
     },
     "execution_count": 21,
     "metadata": {},
     "output_type": "execute_result"
    }
   ],
   "source": [
    "ebm.predict_proba(X_test)"
   ]
  },
  {
   "cell_type": "code",
   "execution_count": 22,
   "metadata": {},
   "outputs": [
    {
     "data": {
      "text/plain": [
       "array([ 0.3127574 , -1.31602496, -0.93192105, -0.50702956, -0.46864168,\n",
       "       -1.79471947,  1.29856255,  1.63935727, -0.99205851,  0.95179807,\n",
       "        0.50471604,  1.92031822, -0.8279563 , -1.05212739,  0.57811009,\n",
       "        1.07817458,  1.28012774, -3.2283784 ,  0.2921825 , -0.87516798,\n",
       "        0.36641139, -1.31367948,  0.16945346,  0.60023995, -2.81439084,\n",
       "       -0.90476242, -1.05087675,  2.81136971, -1.41964377, -1.34973394,\n",
       "        0.14808461, -0.40479645, -0.3235247 ,  0.74210416, -2.58742637,\n",
       "        0.47829362,  1.26405092, -2.75297496, -0.35809164, -0.46306955,\n",
       "       -0.45226527, -1.37154673, -0.95218202,  0.11837933, -0.36290764,\n",
       "       -1.60808811, -2.39798506, -0.97565433, -0.98387599, -0.40529996,\n",
       "       -0.68788639, -0.85416958,  0.9857833 ,  0.51244948,  0.43241846,\n",
       "       -2.94506067, -0.53267546, -0.13582972, -1.00471022, -1.17790788,\n",
       "        1.02026442,  0.17381547, -2.15885372,  0.91927315,  0.43240942,\n",
       "        0.53216016,  0.88862867, -0.56102493,  1.47693026, -0.2830345 ,\n",
       "       -1.23639519, -0.241855  , -0.20380074,  1.30748853,  0.32379   ,\n",
       "       -0.28001517,  0.43365278,  0.42737484, -0.91391448, -0.10181896,\n",
       "        0.18105744, -0.08879199, -0.77389677, -3.61460671, -1.07338332,\n",
       "       -0.1525014 , -1.79930806,  0.50043246,  0.93715243, -0.42352076,\n",
       "       -0.08901899, -0.0375486 , -0.78426073, -2.89220798,  0.89843747,\n",
       "       -1.54405474,  0.85509363, -0.17831051,  1.0878025 , -0.07724993,\n",
       "       -0.15833494, -3.11638634, -0.3177714 , -2.71947711,  0.39710596,\n",
       "        1.71833631, -0.82821773, -1.14941775, -2.49109497,  0.61520669,\n",
       "       -1.68946242,  0.73930403,  0.33965481,  1.75526998, -0.44426043,\n",
       "        0.8593607 , -1.25045339, -1.42010884, -1.48950419,  1.24032926,\n",
       "        0.76794882, -0.53539202, -1.12153775, -1.47057058, -3.02393459,\n",
       "       -2.36358872, -0.39581491,  0.60819208,  1.05100325, -1.80315016,\n",
       "        0.05159392, -1.04799492, -1.02157109,  0.2778358 ,  0.42944118,\n",
       "        1.55482032, -0.54180784,  1.46403531,  0.05897354, -0.48345947,\n",
       "       -1.37762629,  0.0862102 , -2.91540937,  0.37568023,  0.28011063,\n",
       "       -2.87036492, -1.58957018, -1.43565412, -1.43203935, -0.22030974,\n",
       "       -2.09912286, -0.56169424, -2.599739  , -1.10302322])"
      ]
     },
     "execution_count": 22,
     "metadata": {},
     "output_type": "execute_result"
    }
   ],
   "source": [
    "scores = ebm._predict_score(X_test)\n",
    "scores"
   ]
  },
  {
   "cell_type": "code",
   "execution_count": 23,
   "metadata": {},
   "outputs": [
    {
     "data": {
      "text/plain": [
       "{'type': 'univariate',\n",
       " 'names': ['pregnancies',\n",
       "  'glucose',\n",
       "  'diastolic',\n",
       "  'triceps',\n",
       "  'insulin',\n",
       "  'bmi',\n",
       "  'dpf',\n",
       "  'age',\n",
       "  'pregnancies & age',\n",
       "  'glucose & insulin'],\n",
       " 'scores': [-0.04484705147183339,\n",
       "  0.4733157655355116,\n",
       "  -0.01568311965900504,\n",
       "  -0.030176061300163523,\n",
       "  0.009020029244850623,\n",
       "  0.260328294298641,\n",
       "  0.03824722953561576,\n",
       "  -0.15562985228560677,\n",
       "  -0.13939043869948706,\n",
       "  -0.4173923536111542],\n",
       " 'values': [4.0, 76.0, 62.0, 0.0, 0.0, 34.0, 0.391, 25.0, '', ''],\n",
       " 'extra': {'names': ['Intercept'],\n",
       "  'scores': [-0.9097134870884667],\n",
       "  'values': [1]},\n",
       " 'perf': {'is_classification': True,\n",
       "  'actual': 0,\n",
       "  'predicted': 0,\n",
       "  'actual_score': 0.7174648614002594,\n",
       "  'predicted_score': 0.7174648614002594},\n",
       " 'meta': {'label_names': [0, 1]}}"
      ]
     },
     "execution_count": 23,
     "metadata": {},
     "output_type": "execute_result"
    }
   ],
   "source": [
    "ebm_local.data(2)"
   ]
  }
 ],
 "metadata": {
  "kernelspec": {
   "display_name": "Python 3",
   "language": "python",
   "name": "python3"
  },
  "language_info": {
   "codemirror_mode": {
    "name": "ipython",
    "version": 3
   },
   "file_extension": ".py",
   "mimetype": "text/x-python",
   "name": "python",
   "nbconvert_exporter": "python",
   "pygments_lexer": "ipython3",
   "version": "3.9.6"
  }
 },
 "nbformat": 4,
 "nbformat_minor": 2
}
