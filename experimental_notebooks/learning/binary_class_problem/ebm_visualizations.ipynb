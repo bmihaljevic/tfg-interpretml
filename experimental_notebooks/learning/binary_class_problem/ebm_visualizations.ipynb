{
 "cells": [
  {
   "cell_type": "code",
   "execution_count": 1,
   "metadata": {},
   "outputs": [],
   "source": [
    "import sys\n",
    "import os\n",
    "\n",
    "# Obtener el directorio actual\n",
    "current_directory = os.getcwd()\n",
    "\n",
    "# Subir dos niveles al directorio raíz, donde se encuentra la carpeta 'interpretml'\n",
    "root_path = os.path.abspath(os.path.join(current_directory, '..', '..', '..'))\n",
    "\n",
    "sys.path.append(root_path)"
   ]
  },
  {
   "cell_type": "code",
   "execution_count": 2,
   "metadata": {},
   "outputs": [],
   "source": [
    "import pandas as pd\n",
    "import numpy as np\n",
    "import interpret"
   ]
  },
  {
   "cell_type": "markdown",
   "metadata": {},
   "source": [
    "Read the data"
   ]
  },
  {
   "cell_type": "code",
   "execution_count": 3,
   "metadata": {},
   "outputs": [],
   "source": [
    "X_train = pd.read_csv('data/X_train.csv')\n",
    "y_train = pd.read_csv('data/y_train.csv').to_numpy().ravel()\n",
    "\n",
    "X_test = pd.read_csv('data/X_test.csv')\n",
    "y_test = pd.read_csv('data/y_test.csv').to_numpy().ravel()"
   ]
  },
  {
   "cell_type": "code",
   "execution_count": 4,
   "metadata": {},
   "outputs": [
    {
     "data": {
      "text/html": [
       "<style>#sk-container-id-1 {color: black;}#sk-container-id-1 pre{padding: 0;}#sk-container-id-1 div.sk-toggleable {background-color: white;}#sk-container-id-1 label.sk-toggleable__label {cursor: pointer;display: block;width: 100%;margin-bottom: 0;padding: 0.3em;box-sizing: border-box;text-align: center;}#sk-container-id-1 label.sk-toggleable__label-arrow:before {content: \"▸\";float: left;margin-right: 0.25em;color: #696969;}#sk-container-id-1 label.sk-toggleable__label-arrow:hover:before {color: black;}#sk-container-id-1 div.sk-estimator:hover label.sk-toggleable__label-arrow:before {color: black;}#sk-container-id-1 div.sk-toggleable__content {max-height: 0;max-width: 0;overflow: hidden;text-align: left;background-color: #f0f8ff;}#sk-container-id-1 div.sk-toggleable__content pre {margin: 0.2em;color: black;border-radius: 0.25em;background-color: #f0f8ff;}#sk-container-id-1 input.sk-toggleable__control:checked~div.sk-toggleable__content {max-height: 200px;max-width: 100%;overflow: auto;}#sk-container-id-1 input.sk-toggleable__control:checked~label.sk-toggleable__label-arrow:before {content: \"▾\";}#sk-container-id-1 div.sk-estimator input.sk-toggleable__control:checked~label.sk-toggleable__label {background-color: #d4ebff;}#sk-container-id-1 div.sk-label input.sk-toggleable__control:checked~label.sk-toggleable__label {background-color: #d4ebff;}#sk-container-id-1 input.sk-hidden--visually {border: 0;clip: rect(1px 1px 1px 1px);clip: rect(1px, 1px, 1px, 1px);height: 1px;margin: -1px;overflow: hidden;padding: 0;position: absolute;width: 1px;}#sk-container-id-1 div.sk-estimator {font-family: monospace;background-color: #f0f8ff;border: 1px dotted black;border-radius: 0.25em;box-sizing: border-box;margin-bottom: 0.5em;}#sk-container-id-1 div.sk-estimator:hover {background-color: #d4ebff;}#sk-container-id-1 div.sk-parallel-item::after {content: \"\";width: 100%;border-bottom: 1px solid gray;flex-grow: 1;}#sk-container-id-1 div.sk-label:hover label.sk-toggleable__label {background-color: #d4ebff;}#sk-container-id-1 div.sk-serial::before {content: \"\";position: absolute;border-left: 1px solid gray;box-sizing: border-box;top: 0;bottom: 0;left: 50%;z-index: 0;}#sk-container-id-1 div.sk-serial {display: flex;flex-direction: column;align-items: center;background-color: white;padding-right: 0.2em;padding-left: 0.2em;position: relative;}#sk-container-id-1 div.sk-item {position: relative;z-index: 1;}#sk-container-id-1 div.sk-parallel {display: flex;align-items: stretch;justify-content: center;background-color: white;position: relative;}#sk-container-id-1 div.sk-item::before, #sk-container-id-1 div.sk-parallel-item::before {content: \"\";position: absolute;border-left: 1px solid gray;box-sizing: border-box;top: 0;bottom: 0;left: 50%;z-index: -1;}#sk-container-id-1 div.sk-parallel-item {display: flex;flex-direction: column;z-index: 1;position: relative;background-color: white;}#sk-container-id-1 div.sk-parallel-item:first-child::after {align-self: flex-end;width: 50%;}#sk-container-id-1 div.sk-parallel-item:last-child::after {align-self: flex-start;width: 50%;}#sk-container-id-1 div.sk-parallel-item:only-child::after {width: 0;}#sk-container-id-1 div.sk-dashed-wrapped {border: 1px dashed gray;margin: 0 0.4em 0.5em 0.4em;box-sizing: border-box;padding-bottom: 0.4em;background-color: white;}#sk-container-id-1 div.sk-label label {font-family: monospace;font-weight: bold;display: inline-block;line-height: 1.2em;}#sk-container-id-1 div.sk-label-container {text-align: center;}#sk-container-id-1 div.sk-container {/* jupyter's `normalize.less` sets `[hidden] { display: none; }` but bootstrap.min.css set `[hidden] { display: none !important; }` so we also need the `!important` here to be able to override the default hidden behavior on the sphinx rendered scikit-learn.org. See: https://github.com/scikit-learn/scikit-learn/issues/21755 */display: inline-block !important;position: relative;}#sk-container-id-1 div.sk-text-repr-fallback {display: none;}</style><div id=\"sk-container-id-1\" class=\"sk-top-container\"><div class=\"sk-text-repr-fallback\"><pre>ExplainableBoostingClassifier(interactions=0)</pre><b>In a Jupyter environment, please rerun this cell to show the HTML representation or trust the notebook. <br />On GitHub, the HTML representation is unable to render, please try loading this page with nbviewer.org.</b></div><div class=\"sk-container\" hidden><div class=\"sk-item\"><div class=\"sk-estimator sk-toggleable\"><input class=\"sk-toggleable__control sk-hidden--visually\" id=\"sk-estimator-id-1\" type=\"checkbox\" checked><label for=\"sk-estimator-id-1\" class=\"sk-toggleable__label sk-toggleable__label-arrow\">ExplainableBoostingClassifier</label><div class=\"sk-toggleable__content\"><pre>ExplainableBoostingClassifier(interactions=0)</pre></div></div></div></div></div>"
      ],
      "text/plain": [
       "ExplainableBoostingClassifier(interactions=0)"
      ]
     },
     "execution_count": 4,
     "metadata": {},
     "output_type": "execute_result"
    }
   ],
   "source": [
    "from interpret.glassbox import ExplainableBoostingClassifier\n",
    "from interpret import show\n",
    "\n",
    "ebm = ExplainableBoostingClassifier(interactions=0)\n",
    "ebm.fit(X_train, y_train)"
   ]
  },
  {
   "cell_type": "markdown",
   "metadata": {},
   "source": [
    "## Global explanations"
   ]
  },
  {
   "cell_type": "code",
   "execution_count": 5,
   "metadata": {},
   "outputs": [
    {
     "name": "stdout",
     "output_type": "stream",
     "text": [
      "Utilizando librería modificada de interpret\n"
     ]
    },
    {
     "data": {
      "text/html": [
       "<!-- http://127.0.0.1:7236/2226594361248/ -->\n",
       "<iframe src=\"http://127.0.0.1:7236/2226594361248/\" width=100% height=800 frameBorder=\"0\"></iframe>"
      ]
     },
     "metadata": {},
     "output_type": "display_data"
    }
   ],
   "source": [
    "ebm_global = ebm.explain_global()\n",
    "show(ebm_global)"
   ]
  },
  {
   "cell_type": "markdown",
   "metadata": {},
   "source": [
    "EBM class use 'ebm.term_scores' to create the graph. Each term has a list of scores, each one representing a bin of the variable (or term). In the case of glucose, a low (0-120) value would mean a negative score, suggesting no-diabetes prediction; a high score (120-180) would likely mean that the person has diabetes."
   ]
  },
  {
   "cell_type": "markdown",
   "metadata": {},
   "source": [
    "The number of scores in the list is determined by the bins of the variable. And the number of bins depend on the distribution of the variable and the discretization algorithm used. For example, in the case of glucose would be the following bins:"
   ]
  },
  {
   "cell_type": "code",
   "execution_count": 6,
   "metadata": {},
   "outputs": [
    {
     "name": "stdout",
     "output_type": "stream",
     "text": [
      "Number of bins in glucose:  127\n"
     ]
    },
    {
     "data": {
      "text/plain": [
       "array([ 22. ,  50. ,  56.5,  62. ,  67.5,  69.5,  72. ,  73.5,  74.5,\n",
       "        75.5,  76.5,  77.5,  78.5,  79.5,  80.5,  81.5,  82.5,  83.5,\n",
       "        84.5,  85.5,  86.5,  87.5,  88.5,  89.5,  90.5,  91.5,  92.5,\n",
       "        93.5,  94.5,  95.5,  96.5,  97.5,  98.5,  99.5, 100.5, 101.5,\n",
       "       102.5, 103.5, 104.5, 105.5, 106.5, 107.5, 108.5, 109.5, 110.5,\n",
       "       111.5, 112.5, 113.5, 114.5, 115.5, 116.5, 117.5, 118.5, 119.5,\n",
       "       120.5, 121.5, 122.5, 123.5, 124.5, 125.5, 126.5, 127.5, 128.5,\n",
       "       129.5, 130.5, 131.5, 132.5, 133.5, 134.5, 135.5, 136.5, 137.5,\n",
       "       138.5, 139.5, 140.5, 141.5, 142.5, 143.5, 144.5, 145.5, 146.5,\n",
       "       147.5, 148.5, 149.5, 150.5, 151.5, 152.5, 153.5, 154.5, 155.5,\n",
       "       156.5, 157.5, 158.5, 159.5, 160.5, 161.5, 162.5, 163.5, 164.5,\n",
       "       165.5, 166.5, 167.5, 168.5, 169.5, 170.5, 172. , 173.5, 174.5,\n",
       "       175.5, 176.5, 177.5, 178.5, 179.5, 180.5, 182. , 183.5, 185. ,\n",
       "       186.5, 187.5, 188.5, 189.5, 190.5, 192.5, 194.5, 195.5, 196.5,\n",
       "       197.5])"
      ]
     },
     "execution_count": 6,
     "metadata": {},
     "output_type": "execute_result"
    }
   ],
   "source": [
    "print(\"Number of bins in glucose: \", len(ebm.bins_[1][0]))\n",
    "ebm.bins_[1][0]"
   ]
  },
  {
   "cell_type": "markdown",
   "metadata": {},
   "source": [
    "And the constant value associated to each bin:"
   ]
  },
  {
   "cell_type": "code",
   "execution_count": 7,
   "metadata": {},
   "outputs": [
    {
     "data": {
      "text/plain": [
       "array([ 0.        , -0.63099025, -0.96340995, -1.07419818, -1.08696046,\n",
       "       -1.09622566, -1.10274483, -1.10289811, -1.10208151, -1.09683749,\n",
       "       -1.0895702 , -1.08023566, -1.06673348, -1.05791202, -1.05088763,\n",
       "       -1.04238371, -1.03588866, -1.02504243, -1.01327663, -1.00053769,\n",
       "       -0.99254221, -0.9866094 , -0.97700863, -0.96352772, -0.95094951,\n",
       "       -0.87290783, -0.85902529, -0.82093015, -0.80191835, -0.79039522,\n",
       "       -0.73511625, -0.74355387, -0.72844433, -0.72850191, -0.70666284,\n",
       "       -0.58605972, -0.55097082, -0.48845591, -0.47596127, -0.43548435,\n",
       "       -0.44000901, -0.42161198, -0.27850545, -0.26367686, -0.25517668,\n",
       "       -0.24383747, -0.22785207, -0.2121048 , -0.20165836, -0.19118097,\n",
       "       -0.17604766, -0.16344234, -0.15081739, -0.1416803 , -0.12985512,\n",
       "       -0.120627  , -0.09882757, -0.08985672, -0.09918228,  0.11258764,\n",
       "        0.11835203,  0.09493013,  0.10516306,  0.12794073,  0.14430878,\n",
       "        0.34647529,  0.36365193,  0.37696104,  0.39750485,  0.40918935,\n",
       "        0.36639142,  0.3695101 ,  0.35497404,  0.36766847,  0.38454378,\n",
       "        0.40583168,  0.39790888,  0.41164422,  0.42950206,  0.4850671 ,\n",
       "        0.51191812,  0.53054222,  0.55507049,  0.58788654,  0.61084542,\n",
       "        0.62389358,  0.65396191,  0.6649446 ,  0.57910355,  0.60274203,\n",
       "        0.91570305,  0.93100563,  0.95209007,  0.99120582,  1.00413101,\n",
       "        1.07662981,  1.10683388,  1.11938212,  1.13597697,  1.14399051,\n",
       "        0.83491397,  0.89090888,  1.50037134,  1.53702914,  1.56461679,\n",
       "        1.59935356,  1.61319557,  1.62610777,  1.65118089,  1.66602863,\n",
       "        1.67729222,  1.6944703 ,  1.70618903,  1.71356362,  1.73216808,\n",
       "        1.75044451,  1.76203993,  1.77807668,  1.78874493,  1.79651381,\n",
       "        1.80513375,  1.77923557,  1.78326104,  1.78250753,  1.78985924,\n",
       "        1.8050682 ,  1.81054641,  1.80695989,  1.82287881,  0.        ])"
      ]
     },
     "execution_count": 7,
     "metadata": {},
     "output_type": "execute_result"
    }
   ],
   "source": [
    "ebm.term_scores_[1]"
   ]
  },
  {
   "cell_type": "markdown",
   "metadata": {},
   "source": [
    "So this means that we can modify the value on each bin to visualize, for example, the weights of another model:"
   ]
  },
  {
   "cell_type": "markdown",
   "metadata": {},
   "source": [
    "#### 1. Constant score"
   ]
  },
  {
   "cell_type": "code",
   "execution_count": 8,
   "metadata": {},
   "outputs": [],
   "source": [
    "ebm.term_scores_[1] = np.ones(ebm.term_scores_[1].shape)"
   ]
  },
  {
   "cell_type": "code",
   "execution_count": 9,
   "metadata": {},
   "outputs": [
    {
     "data": {
      "text/plain": [
       "array([1., 1., 1., 1., 1., 1., 1., 1., 1., 1., 1., 1., 1., 1., 1., 1., 1.,\n",
       "       1., 1., 1., 1., 1., 1., 1., 1., 1., 1., 1., 1., 1., 1., 1., 1., 1.,\n",
       "       1., 1., 1., 1., 1., 1., 1., 1., 1., 1., 1., 1., 1., 1., 1., 1., 1.,\n",
       "       1., 1., 1., 1., 1., 1., 1., 1., 1., 1., 1., 1., 1., 1., 1., 1., 1.,\n",
       "       1., 1., 1., 1., 1., 1., 1., 1., 1., 1., 1., 1., 1., 1., 1., 1., 1.,\n",
       "       1., 1., 1., 1., 1., 1., 1., 1., 1., 1., 1., 1., 1., 1., 1., 1., 1.,\n",
       "       1., 1., 1., 1., 1., 1., 1., 1., 1., 1., 1., 1., 1., 1., 1., 1., 1.,\n",
       "       1., 1., 1., 1., 1., 1., 1., 1., 1., 1., 1.])"
      ]
     },
     "execution_count": 9,
     "metadata": {},
     "output_type": "execute_result"
    }
   ],
   "source": [
    "ebm.term_scores_[1]"
   ]
  },
  {
   "cell_type": "code",
   "execution_count": 10,
   "metadata": {},
   "outputs": [
    {
     "name": "stdout",
     "output_type": "stream",
     "text": [
      "Utilizando librería modificada de interpret\n"
     ]
    },
    {
     "data": {
      "text/html": [
       "<!-- http://127.0.0.1:7236/2226302970800/ -->\n",
       "<iframe src=\"http://127.0.0.1:7236/2226302970800/\" width=100% height=800 frameBorder=\"0\"></iframe>"
      ]
     },
     "metadata": {},
     "output_type": "display_data"
    }
   ],
   "source": [
    "ebm_global = ebm.explain_global()\n",
    "show(ebm_global)"
   ]
  },
  {
   "cell_type": "markdown",
   "metadata": {},
   "source": [
    "#### 2. Random scores"
   ]
  },
  {
   "cell_type": "code",
   "execution_count": 11,
   "metadata": {},
   "outputs": [],
   "source": [
    "ebm.term_scores_[1] = np.random.rand(ebm.term_scores_[1].shape[0])"
   ]
  },
  {
   "cell_type": "code",
   "execution_count": 12,
   "metadata": {},
   "outputs": [
    {
     "data": {
      "text/plain": [
       "array([0.89076024, 0.26661181, 0.38744651, 0.43646035, 0.09808433,\n",
       "       0.56091075, 0.09920473, 0.760184  , 0.81520209, 0.31175502,\n",
       "       0.50510213, 0.09196604, 0.78142136, 0.08659637, 0.50347335,\n",
       "       0.24777468, 0.11610056, 0.09330982, 0.5206416 , 0.2019584 ,\n",
       "       0.56458919, 0.74875248, 0.83844632, 0.38131979, 0.78041638,\n",
       "       0.23656961, 0.23390135, 0.59206529, 0.93377811, 0.58105217,\n",
       "       0.20890192, 0.58429617, 0.47406062, 0.87429507, 0.18703863,\n",
       "       0.86162079, 0.56945686, 0.75643313, 0.43022903, 0.07045608,\n",
       "       0.46691104, 0.25574369, 0.77240449, 0.95004483, 0.39687787,\n",
       "       0.48325727, 0.40519759, 0.34662781, 0.40851072, 0.88810162,\n",
       "       0.83286627, 0.00849826, 0.79754369, 0.66046202, 0.94829876,\n",
       "       0.51161484, 0.27944955, 0.92803422, 0.76581373, 0.17092045,\n",
       "       0.40685024, 0.2459774 , 0.91731103, 0.34812258, 0.37302619,\n",
       "       0.07895002, 0.92420698, 0.05774163, 0.71220204, 0.13343576,\n",
       "       0.918374  , 0.29729541, 0.05060507, 0.00219712, 0.92054682,\n",
       "       0.77431062, 0.40942145, 0.06731103, 0.50879047, 0.17218614,\n",
       "       0.670958  , 0.00439925, 0.38795688, 0.11864911, 0.56072402,\n",
       "       0.98883197, 0.60544191, 0.98598411, 0.07648524, 0.66999162,\n",
       "       0.24985956, 0.68141333, 0.02029446, 0.63817854, 0.79764332,\n",
       "       0.87724445, 0.44147435, 0.35536691, 0.03175505, 0.67998016,\n",
       "       0.92817083, 0.84592617, 0.01255216, 0.28283465, 0.70778339,\n",
       "       0.86078226, 0.85769843, 0.39460639, 0.77839289, 0.77183093,\n",
       "       0.09317471, 0.57261157, 0.41406712, 0.67806411, 0.42981713,\n",
       "       0.37174468, 0.91118977, 0.05170363, 0.23444085, 0.04735882,\n",
       "       0.48552815, 0.14477492, 0.45481848, 0.2215487 , 0.32976674,\n",
       "       0.8653218 , 0.30192131, 0.65591447, 0.30801615, 0.76799965])"
      ]
     },
     "execution_count": 12,
     "metadata": {},
     "output_type": "execute_result"
    }
   ],
   "source": [
    "ebm.term_scores_[1]"
   ]
  },
  {
   "cell_type": "code",
   "execution_count": 13,
   "metadata": {},
   "outputs": [
    {
     "name": "stdout",
     "output_type": "stream",
     "text": [
      "Utilizando librería modificada de interpret\n"
     ]
    },
    {
     "data": {
      "text/html": [
       "<!-- http://127.0.0.1:7236/2226303738064/ -->\n",
       "<iframe src=\"http://127.0.0.1:7236/2226303738064/\" width=100% height=800 frameBorder=\"0\"></iframe>"
      ]
     },
     "metadata": {},
     "output_type": "display_data"
    }
   ],
   "source": [
    "ebm_global = ebm.explain_global()\n",
    "show(ebm_global)"
   ]
  },
  {
   "cell_type": "markdown",
   "metadata": {},
   "source": [
    "So in this way we can use the same visualization for models like Naive Bayes."
   ]
  },
  {
   "cell_type": "markdown",
   "metadata": {},
   "source": [
    "We could also modify the histogram values using 'ebm.histogram_edges_' and 'ebm.histogram_weights_'."
   ]
  },
  {
   "cell_type": "code",
   "execution_count": 14,
   "metadata": {},
   "outputs": [
    {
     "data": {
      "text/plain": [
       "array([  0. ,  16.5,  33. ,  49.5,  66. ,  82.5,  99. , 115.5, 132. ,\n",
       "       148.5, 165. , 181.5, 198. ])"
      ]
     },
     "execution_count": 14,
     "metadata": {},
     "output_type": "execute_result"
    }
   ],
   "source": [
    "ebm.histogram_edges_[1]"
   ]
  },
  {
   "cell_type": "code",
   "execution_count": 15,
   "metadata": {},
   "outputs": [
    {
     "data": {
      "text/plain": [
       "array([  0.,   4.,   0.,   1.,   3.,  36., 103., 145., 125.,  83.,  49.,\n",
       "        38.,  27.,   0.])"
      ]
     },
     "execution_count": 15,
     "metadata": {},
     "output_type": "execute_result"
    }
   ],
   "source": [
    "ebm.histogram_weights_[1]"
   ]
  },
  {
   "cell_type": "markdown",
   "metadata": {},
   "source": [
    "## Local explanations"
   ]
  },
  {
   "cell_type": "code",
   "execution_count": 16,
   "metadata": {},
   "outputs": [
    {
     "data": {
      "text/html": [
       "<!-- http://127.0.0.1:7236/2226303764752/ -->\n",
       "<iframe src=\"http://127.0.0.1:7236/2226303764752/\" width=100% height=800 frameBorder=\"0\"></iframe>"
      ]
     },
     "metadata": {},
     "output_type": "display_data"
    }
   ],
   "source": [
    "ebm_local = ebm.explain_local(X_test, y_test)\n",
    "show(ebm_local)"
   ]
  },
  {
   "cell_type": "code",
   "execution_count": 17,
   "metadata": {},
   "outputs": [
    {
     "data": {
      "text/plain": [
       "(19,)"
      ]
     },
     "execution_count": 17,
     "metadata": {},
     "output_type": "execute_result"
    }
   ],
   "source": [
    "ebm.term_scores_[0].shape"
   ]
  },
  {
   "cell_type": "code",
   "execution_count": 18,
   "metadata": {},
   "outputs": [
    {
     "data": {
      "text/plain": [
       "pregnancies      1.000\n",
       "glucose        199.000\n",
       "diastolic       76.000\n",
       "triceps         43.000\n",
       "insulin          0.000\n",
       "bmi             42.900\n",
       "dpf              1.394\n",
       "age             22.000\n",
       "Name: 0, dtype: float64"
      ]
     },
     "execution_count": 18,
     "metadata": {},
     "output_type": "execute_result"
    }
   ],
   "source": [
    "X_test.iloc[0]"
   ]
  },
  {
   "cell_type": "code",
   "execution_count": 19,
   "metadata": {},
   "outputs": [
    {
     "data": {
      "text/plain": [
       "array([[0.46070349, 0.53929651],\n",
       "       [0.61141309, 0.38858691],\n",
       "       [0.65775455, 0.34224545],\n",
       "       [0.56476901, 0.43523099],\n",
       "       [0.7280277 , 0.2719723 ],\n",
       "       [0.82644411, 0.17355589],\n",
       "       [0.18925344, 0.81074656],\n",
       "       [0.37522708, 0.62477292],\n",
       "       [0.53466616, 0.46533384],\n",
       "       [0.37854719, 0.62145281],\n",
       "       [0.38586781, 0.61413219],\n",
       "       [0.34689231, 0.65310769],\n",
       "       [0.60337503, 0.39662497],\n",
       "       [0.70927719, 0.29072281],\n",
       "       [0.33860202, 0.66139798],\n",
       "       [0.39336784, 0.60663216],\n",
       "       [0.31958106, 0.68041894],\n",
       "       [0.82662619, 0.17337381],\n",
       "       [0.69511714, 0.30488286],\n",
       "       [0.60118618, 0.39881382],\n",
       "       [0.47180294, 0.52819706],\n",
       "       [0.55372745, 0.44627255],\n",
       "       [0.41522472, 0.58477528],\n",
       "       [0.52640846, 0.47359154],\n",
       "       [0.87366166, 0.12633834],\n",
       "       [0.73105016, 0.26894984],\n",
       "       [0.8868678 , 0.1131322 ],\n",
       "       [0.18494177, 0.81505823],\n",
       "       [0.87305344, 0.12694656],\n",
       "       [0.77475002, 0.22524998],\n",
       "       [0.6445079 , 0.3554921 ],\n",
       "       [0.57428292, 0.42571708],\n",
       "       [0.56961454, 0.43038546],\n",
       "       [0.27936806, 0.72063194],\n",
       "       [0.89848905, 0.10151095],\n",
       "       [0.55757726, 0.44242274],\n",
       "       [0.40963668, 0.59036332],\n",
       "       [0.86244694, 0.13755306],\n",
       "       [0.5031327 , 0.4968673 ],\n",
       "       [0.64665419, 0.35334581],\n",
       "       [0.53290365, 0.46709635],\n",
       "       [0.66435193, 0.33564807],\n",
       "       [0.65434413, 0.34565587],\n",
       "       [0.63356314, 0.36643686],\n",
       "       [0.46271816, 0.53728184],\n",
       "       [0.85727286, 0.14272714],\n",
       "       [0.8503348 , 0.1496652 ],\n",
       "       [0.83439929, 0.16560071],\n",
       "       [0.51172399, 0.48827601],\n",
       "       [0.55682444, 0.44317556],\n",
       "       [0.40934003, 0.59065997],\n",
       "       [0.5782511 , 0.4217489 ],\n",
       "       [0.19501901, 0.80498099],\n",
       "       [0.44260213, 0.55739787],\n",
       "       [0.57144624, 0.42855376],\n",
       "       [0.91270481, 0.08729519],\n",
       "       [0.52124895, 0.47875105],\n",
       "       [0.32517587, 0.67482413],\n",
       "       [0.75991148, 0.24008852],\n",
       "       [0.62204308, 0.37795692],\n",
       "       [0.43132458, 0.56867542],\n",
       "       [0.45477178, 0.54522822],\n",
       "       [0.90457823, 0.09542177],\n",
       "       [0.55029668, 0.44970332],\n",
       "       [0.42031679, 0.57968321],\n",
       "       [0.40436727, 0.59563273],\n",
       "       [0.26930245, 0.73069755],\n",
       "       [0.65095713, 0.34904287],\n",
       "       [0.35534302, 0.64465698],\n",
       "       [0.32378036, 0.67621964],\n",
       "       [0.66769066, 0.33230934],\n",
       "       [0.56835871, 0.43164129],\n",
       "       [0.5287813 , 0.4712187 ],\n",
       "       [0.24946275, 0.75053725],\n",
       "       [0.41401078, 0.58598922],\n",
       "       [0.61423051, 0.38576949],\n",
       "       [0.48676836, 0.51323164],\n",
       "       [0.30970739, 0.69029261],\n",
       "       [0.50159163, 0.49840837],\n",
       "       [0.55703468, 0.44296532],\n",
       "       [0.34909014, 0.65090986],\n",
       "       [0.59988368, 0.40011632],\n",
       "       [0.58005471, 0.41994529],\n",
       "       [0.93188435, 0.06811565],\n",
       "       [0.64558315, 0.35441685],\n",
       "       [0.45083534, 0.54916466],\n",
       "       [0.81028403, 0.18971597],\n",
       "       [0.48380506, 0.51619494],\n",
       "       [0.35145779, 0.64854221],\n",
       "       [0.60469439, 0.39530561],\n",
       "       [0.7316277 , 0.2683723 ],\n",
       "       [0.67875224, 0.32124776],\n",
       "       [0.60971418, 0.39028582],\n",
       "       [0.91990222, 0.08009778],\n",
       "       [0.39640685, 0.60359315],\n",
       "       [0.75659455, 0.24340545],\n",
       "       [0.35378082, 0.64621918],\n",
       "       [0.33534499, 0.66465501],\n",
       "       [0.23871883, 0.76128117],\n",
       "       [0.37651767, 0.62348233],\n",
       "       [0.41496342, 0.58503658],\n",
       "       [0.89020908, 0.10979092],\n",
       "       [0.54703889, 0.45296111],\n",
       "       [0.91095157, 0.08904843],\n",
       "       [0.52990456, 0.47009544],\n",
       "       [0.26053681, 0.73946319],\n",
       "       [0.7490795 , 0.2509205 ],\n",
       "       [0.80402897, 0.19597103],\n",
       "       [0.90033668, 0.09966332],\n",
       "       [0.56019967, 0.43980033],\n",
       "       [0.71587278, 0.28412722],\n",
       "       [0.37369268, 0.62630732],\n",
       "       [0.40071821, 0.59928179],\n",
       "       [0.3102877 , 0.6897123 ],\n",
       "       [0.63007898, 0.36992102],\n",
       "       [0.47840974, 0.52159026],\n",
       "       [0.71442732, 0.28557268],\n",
       "       [0.81063892, 0.18936108],\n",
       "       [0.76942464, 0.23057536],\n",
       "       [0.1995787 , 0.8004213 ],\n",
       "       [0.44975319, 0.55024681],\n",
       "       [0.51920457, 0.48079543],\n",
       "       [0.50453302, 0.49546698],\n",
       "       [0.58431557, 0.41568443],\n",
       "       [0.90473456, 0.09526544],\n",
       "       [0.90066172, 0.09933828],\n",
       "       [0.38451076, 0.61548924],\n",
       "       [0.53272053, 0.46727947],\n",
       "       [0.47868517, 0.52131483],\n",
       "       [0.82569402, 0.17430598],\n",
       "       [0.44812802, 0.55187198],\n",
       "       [0.82634977, 0.17365023],\n",
       "       [0.76902962, 0.23097038],\n",
       "       [0.50099026, 0.49900974],\n",
       "       [0.34769484, 0.65230516],\n",
       "       [0.23123473, 0.76876527],\n",
       "       [0.55470187, 0.44529813],\n",
       "       [0.40729688, 0.59270312],\n",
       "       [0.47113593, 0.52886407],\n",
       "       [0.63478001, 0.36521999],\n",
       "       [0.70767631, 0.29232369],\n",
       "       [0.40489715, 0.59510285],\n",
       "       [0.91773252, 0.08226748],\n",
       "       [0.36146131, 0.63853869],\n",
       "       [0.30707578, 0.69292422],\n",
       "       [0.90188761, 0.09811239],\n",
       "       [0.77489071, 0.22510929],\n",
       "       [0.73142143, 0.26857857],\n",
       "       [0.6844913 , 0.3155087 ],\n",
       "       [0.47316752, 0.52683248],\n",
       "       [0.70647794, 0.29352206],\n",
       "       [0.65231512, 0.34768488],\n",
       "       [0.93988847, 0.06011153],\n",
       "       [0.55680728, 0.44319272]])"
      ]
     },
     "execution_count": 19,
     "metadata": {},
     "output_type": "execute_result"
    }
   ],
   "source": [
    "ebm.predict_proba(X_test)"
   ]
  },
  {
   "cell_type": "code",
   "execution_count": 20,
   "metadata": {},
   "outputs": [
    {
     "data": {
      "text/plain": [
       "array([ 0.15751088, -0.45325597, -0.65330368, -0.26053993, -0.9846389 ,\n",
       "       -1.5606326 ,  1.45486845,  0.50985689, -0.13888748,  0.49571925,\n",
       "        0.46471535,  0.63272766, -0.41954779, -0.89187612,  0.66953032,\n",
       "        0.43317747,  0.75569775, -1.56190259, -0.82415273, -0.41041   ,\n",
       "        0.11290805, -0.21574272,  0.34240778, -0.10573224, -1.93372967,\n",
       "       -0.9999572 , -2.05913891,  1.48321857, -1.92823059, -1.2353296 ,\n",
       "       -0.59498405, -0.29934717, -0.28027864,  0.9475984 , -2.18054785,\n",
       "       -0.23133521,  0.36546752, -1.83576389, -0.01253095, -0.60436447,\n",
       "       -0.13180508, -0.68274883, -0.6381897 , -0.54753346,  0.14940465,\n",
       "       -1.79282157, -1.73722935, -1.61713254, -0.04690455, -0.22828402,\n",
       "        0.36669431, -0.31559809,  1.41772164,  0.23060806, -0.28775422,\n",
       "       -2.3471171 , -0.08504702,  0.73008592, -1.15219424, -0.49822914,\n",
       "        0.27644895,  0.18140873, -2.24916204, -0.20186949,  0.32147309,\n",
       "        0.38730069,  0.99816452, -0.62324902,  0.59563481,  0.73645256,\n",
       "       -0.69775871, -0.27515784, -0.11525262,  1.10147967,  0.34740939,\n",
       "       -0.46513026,  0.05293892,  0.80148765, -0.00636655, -0.229136  ,\n",
       "        0.62304098, -0.40498047, -0.32299798, -2.61600179, -0.59968023,\n",
       "        0.19729616, -1.45185677,  0.06480241,  0.61263746, -0.42506401,\n",
       "       -1.0028966 , -0.7480435 , -0.44611095, -2.44101922,  0.42045931,\n",
       "       -1.13409895,  0.60246118,  0.6841083 ,  1.15971636,  0.50435546,\n",
       "        0.34348402, -2.09287848, -0.18871361, -2.32530938, -0.11976117,\n",
       "        1.04318037, -1.09370899, -1.41166848, -2.20097111, -0.24197245,\n",
       "       -0.92408037,  0.51640742,  0.40247345,  0.79877464, -0.53255567,\n",
       "        0.08641479, -0.91698469, -1.45416707, -1.20506526,  1.38892958,\n",
       "        0.20166794, -0.07685609, -0.01813259, -0.3405148 , -2.25097449,\n",
       "       -2.20459877,  0.47044569, -0.13106945,  0.08531104, -1.55541204,\n",
       "        0.20823715, -1.55997504, -1.20284   , -0.00396104,  0.62918728,\n",
       "        1.20135233, -0.2196868 ,  0.3751513 ,  0.11558479, -0.55277861,\n",
       "       -0.88412509,  0.38510116, -2.4119301 ,  0.56902724,  0.81382607,\n",
       "       -2.2183762 , -1.23613596, -1.0018463 , -0.77448967,  0.10743312,\n",
       "       -0.87833918, -0.6292312 , -2.74955948, -0.22821448])"
      ]
     },
     "execution_count": 20,
     "metadata": {},
     "output_type": "execute_result"
    }
   ],
   "source": [
    "scores = ebm._predict_score(X_test)\n",
    "scores"
   ]
  },
  {
   "cell_type": "code",
   "execution_count": 21,
   "metadata": {},
   "outputs": [
    {
     "data": {
      "text/plain": [
       "{'type': 'univariate',\n",
       " 'names': ['pregnancies',\n",
       "  'glucose',\n",
       "  'diastolic',\n",
       "  'triceps',\n",
       "  'insulin',\n",
       "  'bmi',\n",
       "  'dpf',\n",
       "  'age'],\n",
       " 'scores': [-0.04484705147183339,\n",
       "  0.09196603754250832,\n",
       "  -0.01568311965900504,\n",
       "  -0.030176061300163523,\n",
       "  0.009020029244850623,\n",
       "  0.260328294298641,\n",
       "  0.03824722953561576,\n",
       "  -0.15562985228560677],\n",
       " 'values': [4.0, 76.0, 62.0, 0.0, 0.0, 34.0, 0.391, 25.0],\n",
       " 'extra': {'names': ['Intercept'],\n",
       "  'scores': [-0.8065291885261778],\n",
       "  'values': [1]},\n",
       " 'perf': {'is_classification': True,\n",
       "  'actual': 0,\n",
       "  'predicted': 0,\n",
       "  'actual_score': 0.6577545533558955,\n",
       "  'predicted_score': 0.6577545533558955},\n",
       " 'meta': {'label_names': [0, 1]}}"
      ]
     },
     "execution_count": 21,
     "metadata": {},
     "output_type": "execute_result"
    }
   ],
   "source": [
    "ebm_local.data(2)"
   ]
  }
 ],
 "metadata": {
  "kernelspec": {
   "display_name": "Python 3",
   "language": "python",
   "name": "python3"
  },
  "language_info": {
   "codemirror_mode": {
    "name": "ipython",
    "version": 3
   },
   "file_extension": ".py",
   "mimetype": "text/x-python",
   "name": "python",
   "nbconvert_exporter": "python",
   "pygments_lexer": "ipython3",
   "version": "3.9.6"
  }
 },
 "nbformat": 4,
 "nbformat_minor": 2
}
