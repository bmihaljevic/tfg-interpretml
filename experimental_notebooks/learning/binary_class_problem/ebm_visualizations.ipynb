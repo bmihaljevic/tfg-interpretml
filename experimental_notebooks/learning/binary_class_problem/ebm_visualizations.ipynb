{
 "cells": [
  {
   "cell_type": "code",
   "execution_count": 1,
   "metadata": {},
   "outputs": [],
   "source": [
    "import sys\n",
    "import os\n",
    "\n",
    "# Obtener el directorio actual\n",
    "current_directory = os.getcwd()\n",
    "\n",
    "# Subir dos niveles al directorio raíz, donde se encuentra la carpeta 'interpretml'\n",
    "root_path = os.path.abspath(os.path.join(current_directory, '..', '..', '..'))\n",
    "\n",
    "sys.path.append(root_path)"
   ]
  },
  {
   "cell_type": "code",
   "execution_count": 2,
   "metadata": {},
   "outputs": [],
   "source": [
    "import pandas as pd\n",
    "import numpy as np\n",
    "import interpret"
   ]
  },
  {
   "cell_type": "markdown",
   "metadata": {},
   "source": [
    "Read the data"
   ]
  },
  {
   "cell_type": "code",
   "execution_count": 3,
   "metadata": {},
   "outputs": [],
   "source": [
    "X_train = pd.read_csv('data/X_train.csv')\n",
    "y_train = pd.read_csv('data/y_train.csv').to_numpy().ravel()\n",
    "\n",
    "X_test = pd.read_csv('data/X_test.csv')\n",
    "y_test = pd.read_csv('data/y_test.csv').to_numpy().ravel()"
   ]
  },
  {
   "cell_type": "code",
   "execution_count": 4,
   "metadata": {},
   "outputs": [
    {
     "data": {
      "text/html": [
       "<style>#sk-container-id-1 {color: black;}#sk-container-id-1 pre{padding: 0;}#sk-container-id-1 div.sk-toggleable {background-color: white;}#sk-container-id-1 label.sk-toggleable__label {cursor: pointer;display: block;width: 100%;margin-bottom: 0;padding: 0.3em;box-sizing: border-box;text-align: center;}#sk-container-id-1 label.sk-toggleable__label-arrow:before {content: \"▸\";float: left;margin-right: 0.25em;color: #696969;}#sk-container-id-1 label.sk-toggleable__label-arrow:hover:before {color: black;}#sk-container-id-1 div.sk-estimator:hover label.sk-toggleable__label-arrow:before {color: black;}#sk-container-id-1 div.sk-toggleable__content {max-height: 0;max-width: 0;overflow: hidden;text-align: left;background-color: #f0f8ff;}#sk-container-id-1 div.sk-toggleable__content pre {margin: 0.2em;color: black;border-radius: 0.25em;background-color: #f0f8ff;}#sk-container-id-1 input.sk-toggleable__control:checked~div.sk-toggleable__content {max-height: 200px;max-width: 100%;overflow: auto;}#sk-container-id-1 input.sk-toggleable__control:checked~label.sk-toggleable__label-arrow:before {content: \"▾\";}#sk-container-id-1 div.sk-estimator input.sk-toggleable__control:checked~label.sk-toggleable__label {background-color: #d4ebff;}#sk-container-id-1 div.sk-label input.sk-toggleable__control:checked~label.sk-toggleable__label {background-color: #d4ebff;}#sk-container-id-1 input.sk-hidden--visually {border: 0;clip: rect(1px 1px 1px 1px);clip: rect(1px, 1px, 1px, 1px);height: 1px;margin: -1px;overflow: hidden;padding: 0;position: absolute;width: 1px;}#sk-container-id-1 div.sk-estimator {font-family: monospace;background-color: #f0f8ff;border: 1px dotted black;border-radius: 0.25em;box-sizing: border-box;margin-bottom: 0.5em;}#sk-container-id-1 div.sk-estimator:hover {background-color: #d4ebff;}#sk-container-id-1 div.sk-parallel-item::after {content: \"\";width: 100%;border-bottom: 1px solid gray;flex-grow: 1;}#sk-container-id-1 div.sk-label:hover label.sk-toggleable__label {background-color: #d4ebff;}#sk-container-id-1 div.sk-serial::before {content: \"\";position: absolute;border-left: 1px solid gray;box-sizing: border-box;top: 0;bottom: 0;left: 50%;z-index: 0;}#sk-container-id-1 div.sk-serial {display: flex;flex-direction: column;align-items: center;background-color: white;padding-right: 0.2em;padding-left: 0.2em;position: relative;}#sk-container-id-1 div.sk-item {position: relative;z-index: 1;}#sk-container-id-1 div.sk-parallel {display: flex;align-items: stretch;justify-content: center;background-color: white;position: relative;}#sk-container-id-1 div.sk-item::before, #sk-container-id-1 div.sk-parallel-item::before {content: \"\";position: absolute;border-left: 1px solid gray;box-sizing: border-box;top: 0;bottom: 0;left: 50%;z-index: -1;}#sk-container-id-1 div.sk-parallel-item {display: flex;flex-direction: column;z-index: 1;position: relative;background-color: white;}#sk-container-id-1 div.sk-parallel-item:first-child::after {align-self: flex-end;width: 50%;}#sk-container-id-1 div.sk-parallel-item:last-child::after {align-self: flex-start;width: 50%;}#sk-container-id-1 div.sk-parallel-item:only-child::after {width: 0;}#sk-container-id-1 div.sk-dashed-wrapped {border: 1px dashed gray;margin: 0 0.4em 0.5em 0.4em;box-sizing: border-box;padding-bottom: 0.4em;background-color: white;}#sk-container-id-1 div.sk-label label {font-family: monospace;font-weight: bold;display: inline-block;line-height: 1.2em;}#sk-container-id-1 div.sk-label-container {text-align: center;}#sk-container-id-1 div.sk-container {/* jupyter's `normalize.less` sets `[hidden] { display: none; }` but bootstrap.min.css set `[hidden] { display: none !important; }` so we also need the `!important` here to be able to override the default hidden behavior on the sphinx rendered scikit-learn.org. See: https://github.com/scikit-learn/scikit-learn/issues/21755 */display: inline-block !important;position: relative;}#sk-container-id-1 div.sk-text-repr-fallback {display: none;}</style><div id=\"sk-container-id-1\" class=\"sk-top-container\"><div class=\"sk-text-repr-fallback\"><pre>ExplainableBoostingClassifier(interactions=0)</pre><b>In a Jupyter environment, please rerun this cell to show the HTML representation or trust the notebook. <br />On GitHub, the HTML representation is unable to render, please try loading this page with nbviewer.org.</b></div><div class=\"sk-container\" hidden><div class=\"sk-item\"><div class=\"sk-estimator sk-toggleable\"><input class=\"sk-toggleable__control sk-hidden--visually\" id=\"sk-estimator-id-1\" type=\"checkbox\" checked><label for=\"sk-estimator-id-1\" class=\"sk-toggleable__label sk-toggleable__label-arrow\">ExplainableBoostingClassifier</label><div class=\"sk-toggleable__content\"><pre>ExplainableBoostingClassifier(interactions=0)</pre></div></div></div></div></div>"
      ],
      "text/plain": [
       "ExplainableBoostingClassifier(interactions=0)"
      ]
     },
     "execution_count": 4,
     "metadata": {},
     "output_type": "execute_result"
    }
   ],
   "source": [
    "from interpret.glassbox import ExplainableBoostingClassifier\n",
    "from interpret import show\n",
    "\n",
    "ebm = ExplainableBoostingClassifier(interactions=0)\n",
    "ebm.fit(X_train, y_train)"
   ]
  },
  {
   "cell_type": "markdown",
   "metadata": {},
   "source": [
    "## Global explanations"
   ]
  },
  {
   "cell_type": "code",
   "execution_count": 5,
   "metadata": {},
   "outputs": [
    {
     "name": "stdout",
     "output_type": "stream",
     "text": [
      "Utilizando librería modificada de interpret\n"
     ]
    },
    {
     "data": {
      "text/html": [
       "<!-- http://127.0.0.1:7816/2428796258768/ -->\n",
       "<iframe src=\"http://127.0.0.1:7816/2428796258768/\" width=100% height=800 frameBorder=\"0\"></iframe>"
      ]
     },
     "metadata": {},
     "output_type": "display_data"
    }
   ],
   "source": [
    "ebm_global = ebm.explain_global()\n",
    "show(ebm_global)"
   ]
  },
  {
   "cell_type": "markdown",
   "metadata": {},
   "source": [
    "EBM class use 'ebm.term_scores' to create the graph. Each term has a list of scores, each one representing a bin of the variable (or term). In the case of glucose, a low (0-120) value would mean a negative score, suggesting no-diabetes prediction; a high score (120-180) would likely mean that the person has diabetes."
   ]
  },
  {
   "cell_type": "markdown",
   "metadata": {},
   "source": [
    "The number of scores in the list is determined by the bins of the variable. And the number of bins depend on the distribution of the variable and the discretization algorithm used. For example, in the case of glucose would be the following bins:"
   ]
  },
  {
   "cell_type": "code",
   "execution_count": 6,
   "metadata": {},
   "outputs": [
    {
     "name": "stdout",
     "output_type": "stream",
     "text": [
      "Number of bins in glucose:  127\n"
     ]
    },
    {
     "data": {
      "text/plain": [
       "array([ 22. ,  50. ,  56.5,  62. ,  67.5,  69.5,  72. ,  73.5,  74.5,\n",
       "        75.5,  76.5,  77.5,  78.5,  79.5,  80.5,  81.5,  82.5,  83.5,\n",
       "        84.5,  85.5,  86.5,  87.5,  88.5,  89.5,  90.5,  91.5,  92.5,\n",
       "        93.5,  94.5,  95.5,  96.5,  97.5,  98.5,  99.5, 100.5, 101.5,\n",
       "       102.5, 103.5, 104.5, 105.5, 106.5, 107.5, 108.5, 109.5, 110.5,\n",
       "       111.5, 112.5, 113.5, 114.5, 115.5, 116.5, 117.5, 118.5, 119.5,\n",
       "       120.5, 121.5, 122.5, 123.5, 124.5, 125.5, 126.5, 127.5, 128.5,\n",
       "       129.5, 130.5, 131.5, 132.5, 133.5, 134.5, 135.5, 136.5, 137.5,\n",
       "       138.5, 139.5, 140.5, 141.5, 142.5, 143.5, 144.5, 145.5, 146.5,\n",
       "       147.5, 148.5, 149.5, 150.5, 151.5, 152.5, 153.5, 154.5, 155.5,\n",
       "       156.5, 157.5, 158.5, 159.5, 160.5, 161.5, 162.5, 163.5, 164.5,\n",
       "       165.5, 166.5, 167.5, 168.5, 169.5, 170.5, 172. , 173.5, 174.5,\n",
       "       175.5, 176.5, 177.5, 178.5, 179.5, 180.5, 182. , 183.5, 185. ,\n",
       "       186.5, 187.5, 188.5, 189.5, 190.5, 192.5, 194.5, 195.5, 196.5,\n",
       "       197.5])"
      ]
     },
     "execution_count": 6,
     "metadata": {},
     "output_type": "execute_result"
    }
   ],
   "source": [
    "print(\"Number of bins in glucose: \", len(ebm.bins_[1][0]))\n",
    "ebm.bins_[1][0]"
   ]
  },
  {
   "cell_type": "markdown",
   "metadata": {},
   "source": [
    "And the constant value associated to each bin:"
   ]
  },
  {
   "cell_type": "code",
   "execution_count": 7,
   "metadata": {},
   "outputs": [
    {
     "data": {
      "text/plain": [
       "array([ 0.        , -0.63099025, -0.96340995, -1.07419818, -1.08696046,\n",
       "       -1.09622566, -1.10274483, -1.10289811, -1.10208151, -1.09683749,\n",
       "       -1.0895702 , -1.08023566, -1.06673348, -1.05791202, -1.05088763,\n",
       "       -1.04238371, -1.03588866, -1.02504243, -1.01327663, -1.00053769,\n",
       "       -0.99254221, -0.9866094 , -0.97700863, -0.96352772, -0.95094951,\n",
       "       -0.87290783, -0.85902529, -0.82093015, -0.80191835, -0.79039522,\n",
       "       -0.73511625, -0.74355387, -0.72844433, -0.72850191, -0.70666284,\n",
       "       -0.58605972, -0.55097082, -0.48845591, -0.47596127, -0.43548435,\n",
       "       -0.44000901, -0.42161198, -0.27850545, -0.26367686, -0.25517668,\n",
       "       -0.24383747, -0.22785207, -0.2121048 , -0.20165836, -0.19118097,\n",
       "       -0.17604766, -0.16344234, -0.15081739, -0.1416803 , -0.12985512,\n",
       "       -0.120627  , -0.09882757, -0.08985672, -0.09918228,  0.11258764,\n",
       "        0.11835203,  0.09493013,  0.10516306,  0.12794073,  0.14430878,\n",
       "        0.34647529,  0.36365193,  0.37696104,  0.39750485,  0.40918935,\n",
       "        0.36639142,  0.3695101 ,  0.35497404,  0.36766847,  0.38454378,\n",
       "        0.40583168,  0.39790888,  0.41164422,  0.42950206,  0.4850671 ,\n",
       "        0.51191812,  0.53054222,  0.55507049,  0.58788654,  0.61084542,\n",
       "        0.62389358,  0.65396191,  0.6649446 ,  0.57910355,  0.60274203,\n",
       "        0.91570305,  0.93100563,  0.95209007,  0.99120582,  1.00413101,\n",
       "        1.07662981,  1.10683388,  1.11938212,  1.13597697,  1.14399051,\n",
       "        0.83491397,  0.89090888,  1.50037134,  1.53702914,  1.56461679,\n",
       "        1.59935356,  1.61319557,  1.62610777,  1.65118089,  1.66602863,\n",
       "        1.67729222,  1.6944703 ,  1.70618903,  1.71356362,  1.73216808,\n",
       "        1.75044451,  1.76203993,  1.77807668,  1.78874493,  1.79651381,\n",
       "        1.80513375,  1.77923557,  1.78326104,  1.78250753,  1.78985924,\n",
       "        1.8050682 ,  1.81054641,  1.80695989,  1.82287881,  0.        ])"
      ]
     },
     "execution_count": 7,
     "metadata": {},
     "output_type": "execute_result"
    }
   ],
   "source": [
    "ebm.term_scores_[1]"
   ]
  },
  {
   "cell_type": "markdown",
   "metadata": {},
   "source": [
    "So this means that we can modify the value on each bin to visualize, for example, the weights of another model:"
   ]
  },
  {
   "cell_type": "markdown",
   "metadata": {},
   "source": [
    "#### 1. Constant score"
   ]
  },
  {
   "cell_type": "code",
   "execution_count": 8,
   "metadata": {},
   "outputs": [],
   "source": [
    "ebm.term_scores_[1] = np.ones(ebm.term_scores_[1].shape)"
   ]
  },
  {
   "cell_type": "code",
   "execution_count": 9,
   "metadata": {},
   "outputs": [
    {
     "data": {
      "text/plain": [
       "array([1., 1., 1., 1., 1., 1., 1., 1., 1., 1., 1., 1., 1., 1., 1., 1., 1.,\n",
       "       1., 1., 1., 1., 1., 1., 1., 1., 1., 1., 1., 1., 1., 1., 1., 1., 1.,\n",
       "       1., 1., 1., 1., 1., 1., 1., 1., 1., 1., 1., 1., 1., 1., 1., 1., 1.,\n",
       "       1., 1., 1., 1., 1., 1., 1., 1., 1., 1., 1., 1., 1., 1., 1., 1., 1.,\n",
       "       1., 1., 1., 1., 1., 1., 1., 1., 1., 1., 1., 1., 1., 1., 1., 1., 1.,\n",
       "       1., 1., 1., 1., 1., 1., 1., 1., 1., 1., 1., 1., 1., 1., 1., 1., 1.,\n",
       "       1., 1., 1., 1., 1., 1., 1., 1., 1., 1., 1., 1., 1., 1., 1., 1., 1.,\n",
       "       1., 1., 1., 1., 1., 1., 1., 1., 1., 1., 1.])"
      ]
     },
     "execution_count": 9,
     "metadata": {},
     "output_type": "execute_result"
    }
   ],
   "source": [
    "ebm.term_scores_[1]"
   ]
  },
  {
   "cell_type": "code",
   "execution_count": 10,
   "metadata": {},
   "outputs": [
    {
     "name": "stdout",
     "output_type": "stream",
     "text": [
      "Utilizando librería modificada de interpret\n"
     ]
    },
    {
     "data": {
      "text/html": [
       "<!-- http://127.0.0.1:7816/2426954628304/ -->\n",
       "<iframe src=\"http://127.0.0.1:7816/2426954628304/\" width=100% height=800 frameBorder=\"0\"></iframe>"
      ]
     },
     "metadata": {},
     "output_type": "display_data"
    }
   ],
   "source": [
    "ebm_global = ebm.explain_global()\n",
    "show(ebm_global)"
   ]
  },
  {
   "cell_type": "markdown",
   "metadata": {},
   "source": [
    "#### 2. Random scores"
   ]
  },
  {
   "cell_type": "code",
   "execution_count": 11,
   "metadata": {},
   "outputs": [],
   "source": [
    "ebm.term_scores_[1] = np.random.rand(ebm.term_scores_[1].shape[0])"
   ]
  },
  {
   "cell_type": "code",
   "execution_count": 12,
   "metadata": {},
   "outputs": [
    {
     "data": {
      "text/plain": [
       "array([9.98645731e-01, 6.13323590e-01, 4.25733164e-01, 2.52192535e-01,\n",
       "       7.39769632e-01, 6.16252962e-01, 6.03938261e-01, 5.26987643e-01,\n",
       "       9.85731679e-01, 5.30057723e-01, 7.59101559e-01, 5.52280775e-01,\n",
       "       7.09009569e-01, 7.66561173e-01, 5.05512363e-04, 6.75456784e-01,\n",
       "       3.71809009e-01, 6.91865981e-01, 2.97693558e-02, 4.37018471e-01,\n",
       "       5.63341390e-01, 3.09027373e-01, 7.68676887e-02, 6.83983413e-01,\n",
       "       7.47897448e-01, 9.50811921e-02, 2.04644221e-01, 1.99329013e-01,\n",
       "       7.40992363e-01, 4.41920360e-01, 1.05830930e-01, 3.41212396e-01,\n",
       "       7.83833720e-01, 8.94191939e-01, 5.50573617e-01, 8.15798029e-01,\n",
       "       5.26412475e-01, 3.00595459e-01, 7.54902476e-01, 6.16281680e-01,\n",
       "       8.14523777e-01, 1.62874928e-01, 4.97889179e-01, 3.59984082e-01,\n",
       "       2.65127566e-03, 1.20965394e-01, 7.48154761e-01, 8.15573071e-01,\n",
       "       2.11336776e-01, 9.37857067e-01, 5.54249679e-01, 8.74290333e-01,\n",
       "       5.65846315e-01, 6.21093773e-01, 1.50681732e-01, 8.72383556e-01,\n",
       "       8.39735196e-01, 6.81212066e-01, 9.82543903e-01, 6.16767841e-01,\n",
       "       5.13136811e-01, 8.52759422e-01, 2.21055632e-01, 2.47427613e-01,\n",
       "       7.19664883e-01, 5.20484696e-01, 7.83814696e-01, 6.36785021e-01,\n",
       "       8.00786776e-01, 3.55123823e-01, 5.17627978e-01, 2.65564302e-02,\n",
       "       4.88051515e-01, 8.02054168e-01, 4.57217300e-01, 9.28430500e-01,\n",
       "       4.12755470e-01, 6.95733002e-01, 8.94713721e-01, 4.00307742e-01,\n",
       "       9.70194313e-01, 4.48821166e-01, 7.41011599e-01, 9.72289741e-01,\n",
       "       7.88544886e-01, 5.78090652e-01, 6.92789084e-01, 3.80111704e-01,\n",
       "       8.43116634e-01, 9.37024805e-01, 1.92159028e-01, 7.59904937e-01,\n",
       "       5.35735607e-01, 2.10468485e-02, 4.00328703e-01, 6.25254958e-01,\n",
       "       1.38402144e-01, 4.08762020e-01, 5.79737150e-01, 5.96691950e-01,\n",
       "       8.30846426e-01, 4.44617149e-01, 9.88145633e-01, 5.62265821e-01,\n",
       "       3.85227586e-01, 7.36212441e-01, 7.33836051e-01, 5.79856237e-01,\n",
       "       3.22706659e-01, 3.81227157e-01, 2.91687314e-01, 2.67564558e-01,\n",
       "       1.64363201e-01, 2.46855115e-01, 1.77126731e-01, 6.79056407e-01,\n",
       "       8.85785393e-01, 7.91744352e-01, 8.81326358e-01, 1.94513502e-01,\n",
       "       8.28489787e-01, 9.92729418e-01, 5.10200162e-02, 5.72423501e-01,\n",
       "       6.52261522e-01, 8.39300588e-01, 6.89467617e-01, 2.94739997e-01,\n",
       "       2.93884082e-01, 9.95977826e-01])"
      ]
     },
     "execution_count": 12,
     "metadata": {},
     "output_type": "execute_result"
    }
   ],
   "source": [
    "ebm.term_scores_[1]"
   ]
  },
  {
   "cell_type": "code",
   "execution_count": 13,
   "metadata": {},
   "outputs": [
    {
     "name": "stdout",
     "output_type": "stream",
     "text": [
      "Utilizando librería modificada de interpret\n"
     ]
    },
    {
     "data": {
      "text/html": [
       "<!-- http://127.0.0.1:7816/2426985459776/ -->\n",
       "<iframe src=\"http://127.0.0.1:7816/2426985459776/\" width=100% height=800 frameBorder=\"0\"></iframe>"
      ]
     },
     "metadata": {},
     "output_type": "display_data"
    }
   ],
   "source": [
    "ebm_global = ebm.explain_global()\n",
    "show(ebm_global)"
   ]
  },
  {
   "cell_type": "markdown",
   "metadata": {},
   "source": [
    "So in this way we can use the same visualization for models like Naive Bayes."
   ]
  },
  {
   "cell_type": "markdown",
   "metadata": {},
   "source": [
    "We could also modify the histogram values using 'ebm.histogram_edges_' and 'ebm.histogram_weights_'."
   ]
  },
  {
   "cell_type": "code",
   "execution_count": 14,
   "metadata": {},
   "outputs": [
    {
     "data": {
      "text/plain": [
       "array([  0. ,  16.5,  33. ,  49.5,  66. ,  82.5,  99. , 115.5, 132. ,\n",
       "       148.5, 165. , 181.5, 198. ])"
      ]
     },
     "execution_count": 14,
     "metadata": {},
     "output_type": "execute_result"
    }
   ],
   "source": [
    "ebm.histogram_edges_[1]"
   ]
  },
  {
   "cell_type": "code",
   "execution_count": 15,
   "metadata": {},
   "outputs": [
    {
     "data": {
      "text/plain": [
       "array([  0.,   4.,   0.,   1.,   3.,  36., 103., 145., 125.,  83.,  49.,\n",
       "        38.,  27.,   0.])"
      ]
     },
     "execution_count": 15,
     "metadata": {},
     "output_type": "execute_result"
    }
   ],
   "source": [
    "ebm.histogram_weights_[1]"
   ]
  },
  {
   "cell_type": "markdown",
   "metadata": {},
   "source": [
    "## Local explanations"
   ]
  },
  {
   "cell_type": "code",
   "execution_count": 16,
   "metadata": {},
   "outputs": [
    {
     "data": {
      "text/html": [
       "<!-- http://127.0.0.1:7816/2426988379584/ -->\n",
       "<iframe src=\"http://127.0.0.1:7816/2426988379584/\" width=100% height=800 frameBorder=\"0\"></iframe>"
      ]
     },
     "metadata": {},
     "output_type": "display_data"
    }
   ],
   "source": [
    "ebm_local = ebm.explain_local(X_test, y_test)\n",
    "show(ebm_local)"
   ]
  },
  {
   "cell_type": "code",
   "execution_count": 34,
   "metadata": {},
   "outputs": [
    {
     "data": {
      "text/plain": [
       "{'label_names': [0, 1]}"
      ]
     },
     "execution_count": 34,
     "metadata": {},
     "output_type": "execute_result"
    }
   ],
   "source": [
    "ebm_local._internal_obj['specific'][0]['meta']"
   ]
  },
  {
   "cell_type": "code",
   "execution_count": 17,
   "metadata": {},
   "outputs": [
    {
     "data": {
      "text/plain": [
       "(19,)"
      ]
     },
     "execution_count": 17,
     "metadata": {},
     "output_type": "execute_result"
    }
   ],
   "source": [
    "ebm.term_scores_[0].shape"
   ]
  },
  {
   "cell_type": "code",
   "execution_count": 18,
   "metadata": {},
   "outputs": [
    {
     "data": {
      "text/plain": [
       "pregnancies      1.000\n",
       "glucose        199.000\n",
       "diastolic       76.000\n",
       "triceps         43.000\n",
       "insulin          0.000\n",
       "bmi             42.900\n",
       "dpf              1.394\n",
       "age             22.000\n",
       "Name: 0, dtype: float64"
      ]
     },
     "execution_count": 18,
     "metadata": {},
     "output_type": "execute_result"
    }
   ],
   "source": [
    "X_test.iloc[0]"
   ]
  },
  {
   "cell_type": "code",
   "execution_count": 19,
   "metadata": {},
   "outputs": [
    {
     "data": {
      "text/plain": [
       "array([[0.46421658, 0.53578342],\n",
       "       [0.67431601, 0.32568399],\n",
       "       [0.54809805, 0.45190195],\n",
       "       [0.65967561, 0.34032439],\n",
       "       [0.65513352, 0.34486648],\n",
       "       [0.78666254, 0.21333746],\n",
       "       [0.2996435 , 0.7003565 ],\n",
       "       [0.32995922, 0.67004078],\n",
       "       [0.69744126, 0.30255874],\n",
       "       [0.30568031, 0.69431969],\n",
       "       [0.53803049, 0.46196951],\n",
       "       [0.31434524, 0.68565476],\n",
       "       [0.5914088 , 0.4085912 ],\n",
       "       [0.57280872, 0.42719128],\n",
       "       [0.32632092, 0.67367908],\n",
       "       [0.53914057, 0.46085943],\n",
       "       [0.41958219, 0.58041781],\n",
       "       [0.80081134, 0.19918866],\n",
       "       [0.56097238, 0.43902762],\n",
       "       [0.51171661, 0.48828339],\n",
       "       [0.41555938, 0.58444062],\n",
       "       [0.56343408, 0.43656592],\n",
       "       [0.60328483, 0.39671517],\n",
       "       [0.3691295 , 0.6308705 ],\n",
       "       [0.83534007, 0.16465993],\n",
       "       [0.63508857, 0.36491143],\n",
       "       [0.81955172, 0.18044828],\n",
       "       [0.09536241, 0.90463759],\n",
       "       [0.81142334, 0.18857666],\n",
       "       [0.83168569, 0.16831431],\n",
       "       [0.70385497, 0.29614503],\n",
       "       [0.6803074 , 0.3196926 ],\n",
       "       [0.67614602, 0.32385398],\n",
       "       [0.33164015, 0.66835985],\n",
       "       [0.95157788, 0.04842212],\n",
       "       [0.48797833, 0.51202167],\n",
       "       [0.47633556, 0.52366444],\n",
       "       [0.88770013, 0.11229987],\n",
       "       [0.69214104, 0.30785896],\n",
       "       [0.70204496, 0.29795504],\n",
       "       [0.71695803, 0.28304197],\n",
       "       [0.69513505, 0.30486495],\n",
       "       [0.56823527, 0.43176473],\n",
       "       [0.55602344, 0.44397656],\n",
       "       [0.55274548, 0.44725452],\n",
       "       [0.90453482, 0.09546518],\n",
       "       [0.91111211, 0.08888789],\n",
       "       [0.78082727, 0.21917273],\n",
       "       [0.60852853, 0.39147147],\n",
       "       [0.53046159, 0.46953841],\n",
       "       [0.38810636, 0.61189364],\n",
       "       [0.71211101, 0.28788899],\n",
       "       [0.18167074, 0.81832926],\n",
       "       [0.33893261, 0.66106739],\n",
       "       [0.57859572, 0.42140428],\n",
       "       [0.88083963, 0.11916037],\n",
       "       [0.52156033, 0.47843967],\n",
       "       [0.38901148, 0.61098852],\n",
       "       [0.71717797, 0.28282203],\n",
       "       [0.6849999 , 0.3150001 ],\n",
       "       [0.22234679, 0.77765321],\n",
       "       [0.36947646, 0.63052354],\n",
       "       [0.89500114, 0.10499886],\n",
       "       [0.35480424, 0.64519576],\n",
       "       [0.4265188 , 0.5734812 ],\n",
       "       [0.49346882, 0.50653118],\n",
       "       [0.28887788, 0.71112212],\n",
       "       [0.70476051, 0.29523949],\n",
       "       [0.37689086, 0.62310914],\n",
       "       [0.28761778, 0.71238222],\n",
       "       [0.78377788, 0.21622212],\n",
       "       [0.74512426, 0.25487574],\n",
       "       [0.63528969, 0.36471031],\n",
       "       [0.25424945, 0.74575055],\n",
       "       [0.44434483, 0.55565517],\n",
       "       [0.50692051, 0.49307949],\n",
       "       [0.36408618, 0.63591382],\n",
       "       [0.25568448, 0.74431552],\n",
       "       [0.62181022, 0.37818978],\n",
       "       [0.47985164, 0.52014836],\n",
       "       [0.35957293, 0.64042707],\n",
       "       [0.66278265, 0.33721735],\n",
       "       [0.66491832, 0.33508168],\n",
       "       [0.90939158, 0.09060842],\n",
       "       [0.66879747, 0.33120253],\n",
       "       [0.5487051 , 0.4512949 ],\n",
       "       [0.87160068, 0.12839932],\n",
       "       [0.40384348, 0.59615652],\n",
       "       [0.28496825, 0.71503175],\n",
       "       [0.63742282, 0.36257718],\n",
       "       [0.63576951, 0.36423049],\n",
       "       [0.59902513, 0.40097487],\n",
       "       [0.65549564, 0.34450436],\n",
       "       [0.89248178, 0.10751822],\n",
       "       [0.41649681, 0.58350319],\n",
       "       [0.68807644, 0.31192356],\n",
       "       [0.28654285, 0.71345715],\n",
       "       [0.480451  , 0.519549  ],\n",
       "       [0.18202711, 0.81797289],\n",
       "       [0.44380372, 0.55619628],\n",
       "       [0.40293771, 0.59706229],\n",
       "       [0.84932843, 0.15067157],\n",
       "       [0.63436884, 0.36563116],\n",
       "       [0.918966  , 0.081034  ],\n",
       "       [0.5548919 , 0.4451081 ],\n",
       "       [0.3886193 , 0.6113807 ],\n",
       "       [0.61938224, 0.38061776],\n",
       "       [0.72596024, 0.27403976],\n",
       "       [0.8626452 , 0.1373548 ],\n",
       "       [0.56644881, 0.43355119],\n",
       "       [0.6505407 , 0.3494593 ],\n",
       "       [0.27183099, 0.72816901],\n",
       "       [0.31251303, 0.68748697],\n",
       "       [0.33223813, 0.66776187],\n",
       "       [0.5859641 , 0.4140359 ],\n",
       "       [0.55395347, 0.44604653],\n",
       "       [0.81862293, 0.18137707],\n",
       "       [0.75614738, 0.24385262],\n",
       "       [0.70310091, 0.29689909],\n",
       "       [0.14808526, 0.85191474],\n",
       "       [0.33835955, 0.66164045],\n",
       "       [0.4383608 , 0.5616392 ],\n",
       "       [0.57364763, 0.42635237],\n",
       "       [0.44527737, 0.55472263],\n",
       "       [0.86588463, 0.13411537],\n",
       "       [0.91262271, 0.08737729],\n",
       "       [0.55621377, 0.44378623],\n",
       "       [0.32415924, 0.67584076],\n",
       "       [0.57821132, 0.42178868],\n",
       "       [0.87501156, 0.12498844],\n",
       "       [0.56342951, 0.43657049],\n",
       "       [0.77071666, 0.22928334],\n",
       "       [0.72053794, 0.27946206],\n",
       "       [0.45480152, 0.54519848],\n",
       "       [0.3798805 , 0.6201195 ],\n",
       "       [0.32179942, 0.67820058],\n",
       "       [0.62109584, 0.37890416],\n",
       "       [0.33185109, 0.66814891],\n",
       "       [0.47030528, 0.52969472],\n",
       "       [0.54785554, 0.45214446],\n",
       "       [0.83830955, 0.16169045],\n",
       "       [0.34250873, 0.65749127],\n",
       "       [0.88738633, 0.11261367],\n",
       "       [0.34878834, 0.65121166],\n",
       "       [0.29659161, 0.70340839],\n",
       "       [0.86469452, 0.13530548],\n",
       "       [0.71777922, 0.28222078],\n",
       "       [0.63972349, 0.36027651],\n",
       "       [0.61413248, 0.38586752],\n",
       "       [0.38816174, 0.61183826],\n",
       "       [0.70673663, 0.29326337],\n",
       "       [0.50020231, 0.49979769],\n",
       "       [0.86804326, 0.13195674],\n",
       "       [0.62310063, 0.37689937]])"
      ]
     },
     "execution_count": 19,
     "metadata": {},
     "output_type": "execute_result"
    }
   ],
   "source": [
    "ebm.predict_proba(X_test)"
   ]
  },
  {
   "cell_type": "code",
   "execution_count": 20,
   "metadata": {},
   "outputs": [
    {
     "data": {
      "text/plain": [
       "array([ 1.43378813e-01, -7.27771288e-01, -1.92988945e-01, -6.61848942e-01,\n",
       "       -6.41681722e-01, -1.30492414e+00,  8.48996043e-01,  7.08369492e-01,\n",
       "       -8.35142870e-01,  8.20392697e-01, -1.52416335e-01,  7.79882342e-01,\n",
       "       -3.69792346e-01, -2.93319962e-01,  7.24872525e-01, -1.56883274e-01,\n",
       "        3.24488760e-01, -1.39137300e+00, -2.45109342e-01, -4.68750102e-02,\n",
       "        3.41029653e-01, -2.55110965e-01, -4.19170856e-01,  5.35953065e-01,\n",
       "       -1.62395657e+00, -5.54109810e-01, -1.51331331e+00,  2.24984997e+00,\n",
       "       -1.45928533e+00, -1.59762148e+00, -8.65723027e-01, -7.55184840e-01,\n",
       "       -7.36116312e-01,  7.00776246e-01, -2.97816487e+00,  4.80959632e-02,\n",
       "        9.47285363e-02, -2.06746127e+00, -8.10147974e-01, -8.57054862e-01,\n",
       "       -9.29422107e-01, -8.24237247e-01, -2.74654715e-01, -2.25038675e-01,\n",
       "       -2.11769822e-01, -2.24865924e+00, -2.32729010e+00, -1.27049384e+00,\n",
       "       -4.41131142e-01, -1.21997447e-01,  4.55279050e-01, -9.05658836e-01,\n",
       "        1.50506882e+00,  6.68054506e-01, -3.17011350e-01, -2.00040532e+00,\n",
       "       -8.62948212e-02,  4.51469332e-01, -9.30506179e-01, -7.76845728e-01,\n",
       "        1.25204242e+00,  5.34463453e-01, -2.14287547e+00,  5.97987563e-01,\n",
       "        2.96068707e-01,  2.61262189e-02,  9.00840117e-01, -8.70071173e-01,\n",
       "        5.02766041e-01,  9.06982151e-01, -1.28781945e+00, -1.07277486e+00,\n",
       "       -5.54977726e-01,  1.07607529e+00,  2.23547015e-01, -2.76838104e-02,\n",
       "        5.57672453e-01,  1.06852084e+00, -4.97238795e-01,  8.06370970e-02,\n",
       "        5.77218217e-01, -6.75719449e-01, -6.85289863e-01, -2.30622869e+00,\n",
       "       -7.02751221e-01, -1.95440114e-01, -1.91518629e+00,  3.89475855e-01,\n",
       "        9.19949189e-01, -5.64195827e-01, -5.57049210e-01, -4.01404807e-01,\n",
       "       -6.43284897e-01, -2.11634578e+00,  3.37171100e-01, -7.91141773e-01,\n",
       "        9.12234286e-01,  7.82358975e-02,  1.50267354e+00,  2.25738879e-01,\n",
       "        3.93239460e-01, -1.72934349e+00, -5.51005493e-01, -2.42838037e+00,\n",
       "       -2.20456133e-01,  4.53119629e-01, -4.86926964e-01, -9.74222033e-01,\n",
       "       -1.83743612e+00, -2.67376827e-01, -6.21416742e-01,  9.85352688e-01,\n",
       "        7.88396695e-01,  6.98079676e-01, -3.47305823e-01, -2.16657415e-01,\n",
       "       -1.50704543e+00, -1.13167229e+00, -8.62108084e-01,  1.74969829e+00,\n",
       "        6.70613207e-01,  2.47817354e-01, -2.96749177e-01,  2.19770842e-01,\n",
       "       -1.86505124e+00, -2.34608718e+00, -2.25809708e-01,  7.34722630e-01,\n",
       "       -3.15434979e-01, -1.94601581e+00, -2.55092367e-01, -1.21236230e+00,\n",
       "       -9.47131550e-01,  1.81288814e-01,  4.90055461e-01,  7.45514662e-01,\n",
       "       -4.94202113e-01,  6.99824740e-01,  1.18918807e-01, -1.92009892e-01,\n",
       "       -1.64570373e+00,  6.52134353e-01, -2.06431736e+00,  6.24369449e-01,\n",
       "        8.63581519e-01, -1.85484122e+00, -9.33472338e-01, -5.74164201e-01,\n",
       "       -4.64716567e-01,  4.55045863e-01, -8.79586978e-01, -8.09231804e-04,\n",
       "       -1.88376741e+00, -5.02729794e-01])"
      ]
     },
     "execution_count": 20,
     "metadata": {},
     "output_type": "execute_result"
    }
   ],
   "source": [
    "scores = ebm._predict_score(X_test)\n",
    "scores"
   ]
  },
  {
   "cell_type": "code",
   "execution_count": 21,
   "metadata": {},
   "outputs": [
    {
     "data": {
      "text/plain": [
       "{'type': 'univariate',\n",
       " 'names': ['pregnancies',\n",
       "  'glucose',\n",
       "  'diastolic',\n",
       "  'triceps',\n",
       "  'insulin',\n",
       "  'bmi',\n",
       "  'dpf',\n",
       "  'age'],\n",
       " 'scores': [-0.04484705147183339,\n",
       "  0.5522807752172241,\n",
       "  -0.01568311965900504,\n",
       "  -0.030176061300163523,\n",
       "  0.009020029244850623,\n",
       "  0.260328294298641,\n",
       "  0.03824722953561576,\n",
       "  -0.15562985228560677],\n",
       " 'values': [4.0, 76.0, 62.0, 0.0, 0.0, 34.0, 0.391, 25.0],\n",
       " 'extra': {'names': ['Intercept'],\n",
       "  'scores': [-0.8065291885261778],\n",
       "  'values': [1]},\n",
       " 'perf': {'is_classification': True,\n",
       "  'actual': 0,\n",
       "  'predicted': 0,\n",
       "  'actual_score': 0.5480980455831383,\n",
       "  'predicted_score': 0.5480980455831383},\n",
       " 'meta': {'label_names': [0, 1]}}"
      ]
     },
     "execution_count": 21,
     "metadata": {},
     "output_type": "execute_result"
    }
   ],
   "source": [
    "ebm_local.data(2)"
   ]
  }
 ],
 "metadata": {
  "kernelspec": {
   "display_name": "Python 3",
   "language": "python",
   "name": "python3"
  },
  "language_info": {
   "codemirror_mode": {
    "name": "ipython",
    "version": 3
   },
   "file_extension": ".py",
   "mimetype": "text/x-python",
   "name": "python",
   "nbconvert_exporter": "python",
   "pygments_lexer": "ipython3",
   "version": "3.9.6"
  }
 },
 "nbformat": 4,
 "nbformat_minor": 2
}
