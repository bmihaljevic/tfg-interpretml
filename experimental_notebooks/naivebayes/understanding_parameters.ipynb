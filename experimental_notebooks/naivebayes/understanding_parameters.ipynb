{
 "cells": [
  {
   "cell_type": "code",
   "execution_count": 1,
   "metadata": {},
   "outputs": [],
   "source": [
    "from sklearn.naive_bayes import GaussianNB\n",
    "from sklearn.linear_model import LogisticRegression"
   ]
  },
  {
   "cell_type": "code",
   "execution_count": 2,
   "metadata": {},
   "outputs": [
    {
     "name": "stdout",
     "output_type": "stream",
     "text": [
      "[0 1]\n",
      "[0 1]\n"
     ]
    }
   ],
   "source": [
    "import numpy as np\n",
    "\n",
    "X = np.random.rand(100, 10)\n",
    "y = np.random.randint(0, 2, 100)\n",
    "\n",
    "gnb = GaussianNB()\n",
    "log = LogisticRegression()\n",
    "\n",
    "gnb.fit(X, y)\n",
    "log.fit(X, y)\n",
    "\n",
    "print(gnb.classes_)\n",
    "print(log.classes_)"
   ]
  },
  {
   "cell_type": "code",
   "execution_count": 3,
   "metadata": {},
   "outputs": [
    {
     "data": {
      "text/plain": [
       "array([[-0.96481036,  0.86110111, -0.44264731, -0.0439701 , -0.76202979,\n",
       "        -0.6301493 ,  0.99954298, -0.0367028 , -0.10103162,  0.03637855]])"
      ]
     },
     "execution_count": 3,
     "metadata": {},
     "output_type": "execute_result"
    }
   ],
   "source": [
    "log.coef_"
   ]
  },
  {
   "cell_type": "code",
   "execution_count": 5,
   "metadata": {},
   "outputs": [
    {
     "name": "stdout",
     "output_type": "stream",
     "text": [
      "[0 0 0 1 1]\n",
      "[[0.60544788 0.39455212]\n",
      " [0.56790193 0.43209807]\n",
      " [0.55575952 0.44424048]\n",
      " [0.28757774 0.71242226]\n",
      " [0.34740996 0.65259004]]\n"
     ]
    }
   ],
   "source": [
    "X_test = np.random.rand(5, 10)\n",
    "print(gnb.predict(X_test))\n",
    "print(gnb.predict_proba(X_test))"
   ]
  },
  {
   "cell_type": "code",
   "execution_count": 6,
   "metadata": {},
   "outputs": [
    {
     "name": "stdout",
     "output_type": "stream",
     "text": [
      "[0.39455212 0.43209807 0.44424048 0.71242226 0.65259004]\n"
     ]
    }
   ],
   "source": [
    "predictions = gnb.predict_proba(X_test)\n",
    "print(predictions[:, 1])"
   ]
  },
  {
   "cell_type": "code",
   "execution_count": 7,
   "metadata": {},
   "outputs": [
    {
     "data": {
      "text/plain": [
       "array([[-0.96481036,  0.86110111, -0.44264731, -0.0439701 , -0.76202979,\n",
       "        -0.6301493 ,  0.99954298, -0.0367028 , -0.10103162,  0.03637855]])"
      ]
     },
     "execution_count": 7,
     "metadata": {},
     "output_type": "execute_result"
    }
   ],
   "source": [
    "log.coef_"
   ]
  },
  {
   "cell_type": "code",
   "execution_count": 8,
   "metadata": {},
   "outputs": [
    {
     "data": {
      "text/plain": [
       "array([ 0.42821722,  0.27329616,  0.22396964, -0.90717759, -0.63044362])"
      ]
     },
     "execution_count": 8,
     "metadata": {},
     "output_type": "execute_result"
    }
   ],
   "source": [
    "np.array([np.log(predictions[:, 0] / predictions[:, 1])])[0]"
   ]
  },
  {
   "cell_type": "code",
   "execution_count": 10,
   "metadata": {},
   "outputs": [
    {
     "data": {
      "text/plain": [
       "array([[-0.67304041, -0.71366654],\n",
       "       [-1.0505152 , -0.43040992],\n",
       "       [-0.79677821, -0.59925426],\n",
       "       [-0.51519353, -0.90977443],\n",
       "       [-0.94746377, -0.4905707 ]])"
      ]
     },
     "execution_count": 10,
     "metadata": {},
     "output_type": "execute_result"
    }
   ],
   "source": [
    "log.predict_log_proba(X_test)"
   ]
  },
  {
   "cell_type": "code",
   "execution_count": 25,
   "metadata": {},
   "outputs": [
    {
     "name": "stdout",
     "output_type": "stream",
     "text": [
      "[[0.53004214 0.44708465 0.5772285  0.52274176 0.50390699 0.48649797\n",
      "  0.4945376  0.5646919  0.53262547 0.50914712]\n",
      " [0.49161854 0.52833682 0.52050275 0.52508526 0.52322409 0.5401375\n",
      "  0.53163477 0.50186335 0.47674483 0.50792644]]\n",
      "\n",
      "[[0.07804228 0.06829459 0.08458729 0.08543922 0.06494068 0.07125955\n",
      "  0.10554143 0.06881087 0.09282454 0.08537054]\n",
      " [0.07664163 0.08532702 0.06875575 0.08028363 0.07906187 0.0880499\n",
      "  0.076577   0.09410564 0.09039013 0.06184335]]\n",
      "\n",
      "[[0.56040104 0.23660422 0.40650353 0.48511491 0.94106846 0.19814536\n",
      "  0.81058626 0.8520721  0.86032942 0.33874954]\n",
      " [0.75245561 0.73329849 0.88055436 0.45245807 0.80542254 0.39450993\n",
      "  0.14975676 0.62918976 0.35922702 0.72850988]\n",
      " [0.18391521 0.11856866 0.96791553 0.43067903 0.57246134 0.82283847\n",
      "  0.29775022 0.40745662 0.94233128 0.9606324 ]\n",
      " [0.13111312 0.12932039 0.52685597 0.93938593 0.15294931 0.40669514\n",
      "  0.02245977 0.47788039 0.66478901 0.32163084]\n",
      " [0.3321408  0.36075061 0.00952203 0.22833911 0.04328579 0.91317336\n",
      "  0.17189882 0.5489189  0.42201514 0.84633525]]\n",
      "\n",
      "Conditional Probs\n",
      "\n",
      "[4.73936550e+00 4.35172258e-03 1.46033898e+00 4.33128142e+00\n",
      " 4.84496708e-06 6.04257022e-04 7.98952984e-03 1.02626700e-03\n",
      " 6.59508021e-04 2.53477731e-01]\n"
     ]
    }
   ],
   "source": [
    "X = np.random.rand(100, 10)\n",
    "y = np.random.randint(0, 2, 100)\n",
    "\n",
    "gnb = GaussianNB()\n",
    "\n",
    "gnb.fit(X, y)\n",
    "\n",
    "print(gnb.theta_)\n",
    "print()\n",
    "print(gnb.var_)\n",
    "print()\n",
    "\n",
    "X_test = np.random.rand(5, 10)\n",
    "print(X_test)\n",
    "\n",
    "print(\"\\nConditional Probs\\n\")\n",
    "\n",
    "def conditional_probability(x, mean, std):\n",
    "    return np.exp(-0.5 * ((x - mean) ** 2) / (std ** 2)) / (np.sqrt(2 * np.pi) * std)\n",
    "\n",
    "print(conditional_probability(X_test[0, :], gnb.theta_[0, 0], gnb.var_[0, 0]))"
   ]
  },
  {
   "cell_type": "code",
   "execution_count": 14,
   "metadata": {},
   "outputs": [
    {
     "data": {
      "text/plain": [
       "array([0.60979973, 0.67712346, 0.77626045, 0.62184202, 0.34563163,\n",
       "       0.01554476, 0.73060221, 0.5136381 , 0.35943055, 0.30229868])"
      ]
     },
     "execution_count": 14,
     "metadata": {},
     "output_type": "execute_result"
    }
   ],
   "source": [
    "X_test[0, :]"
   ]
  },
  {
   "cell_type": "code",
   "execution_count": null,
   "metadata": {},
   "outputs": [],
   "source": [
    "cp1 = np.exp(-0.5 * ((X_test[0, :] - gnb.theta_[0, :]) ** 2) / (gnb.var_[0, :] ** 2)) / (np.sqrt(2 * np.pi) * gnb.var_[0, :])\n",
    "cp2 = np.exp(-0.5 * ((X_test[0, :] - gnb.theta[1, :]) ** 2) / (gnb.var_[1, :] ** 2)) / (np.sqrt(2 * np.pi) * gnb.var_[1, :])"
   ]
  },
  {
   "cell_type": "code",
   "execution_count": 20,
   "metadata": {},
   "outputs": [
    {
     "data": {
      "text/plain": [
       "array([ 1.48526903,  1.46305556, -2.69991304,  1.03703566,  0.19633388,\n",
       "       -0.21622236,  0.701082  , -0.10587423,  1.2273245 ,  0.05313815])"
      ]
     },
     "execution_count": 20,
     "metadata": {},
     "output_type": "execute_result"
    }
   ],
   "source": [
    "np.log(cp1/cp2)"
   ]
  },
  {
   "cell_type": "code",
   "execution_count": 19,
   "metadata": {},
   "outputs": [
    {
     "data": {
      "text/plain": [
       "array([7.16803320e-01, 8.11519846e-02, 1.65313827e-01, 4.87075075e-01,\n",
       "       7.15134475e-01, 2.97661513e-08, 8.04867887e-02, 4.75319116e+00,\n",
       "       3.30659146e-01, 6.17385938e-01])"
      ]
     },
     "execution_count": 19,
     "metadata": {},
     "output_type": "execute_result"
    }
   ],
   "source": [
    "cp2"
   ]
  },
  {
   "cell_type": "code",
   "execution_count": 22,
   "metadata": {},
   "outputs": [
    {
     "data": {
      "text/plain": [
       "array([-0.96481036,  0.86110111, -0.44264731, -0.0439701 , -0.76202979,\n",
       "       -0.6301493 ,  0.99954298, -0.0367028 , -0.10103162,  0.03637855])"
      ]
     },
     "execution_count": 22,
     "metadata": {},
     "output_type": "execute_result"
    }
   ],
   "source": [
    "log.coef_[0]"
   ]
  },
  {
   "cell_type": "code",
   "execution_count": 29,
   "metadata": {},
   "outputs": [
    {
     "data": {
      "text/plain": [
       "(5, 10)"
      ]
     },
     "execution_count": 29,
     "metadata": {},
     "output_type": "execute_result"
    }
   ],
   "source": [
    "X_test.shape"
   ]
  },
  {
   "cell_type": "code",
   "execution_count": 47,
   "metadata": {},
   "outputs": [
    {
     "data": {
      "text/plain": [
       "(2, 10)"
      ]
     },
     "execution_count": 47,
     "metadata": {},
     "output_type": "execute_result"
    }
   ],
   "source": [
    "r = np.exp(-0.5 * ((X_test[0, :] - gnb.theta_) ** 2) / (gnb.var_ ** 2)) / (np.sqrt(2 * np.pi) * gnb.var_)\n",
    "r.shape"
   ]
  },
  {
   "cell_type": "code",
   "execution_count": 38,
   "metadata": {},
   "outputs": [
    {
     "data": {
      "text/plain": [
       "array([0.9843637 , 0.80743006, 0.69885443, 0.44485678, 0.73304143,\n",
       "       0.3847246 , 0.63523182, 0.82765939, 0.05280199, 0.36063146])"
      ]
     },
     "execution_count": 38,
     "metadata": {},
     "output_type": "execute_result"
    }
   ],
   "source": [
    "X_test[0, :]"
   ]
  },
  {
   "cell_type": "code",
   "execution_count": 40,
   "metadata": {},
   "outputs": [
    {
     "data": {
      "text/plain": [
       "array([[0.47162351, 0.52919582, 0.48608094, 0.47518494, 0.47146758,\n",
       "        0.54507869, 0.49007721, 0.48705901, 0.56537715, 0.52474568],\n",
       "       [0.48028192, 0.51399483, 0.4372207 , 0.53887687, 0.48488585,\n",
       "        0.49438719, 0.44540864, 0.53340339, 0.55207027, 0.50061743]])"
      ]
     },
     "execution_count": 40,
     "metadata": {},
     "output_type": "execute_result"
    }
   ],
   "source": [
    "gnb.theta_"
   ]
  },
  {
   "cell_type": "code",
   "execution_count": 39,
   "metadata": {},
   "outputs": [
    {
     "data": {
      "text/plain": [
       "array([[0.07393723, 0.08239409, 0.0814921 , 0.08597926, 0.10114798,\n",
       "        0.07717108, 0.07462266, 0.08000971, 0.0798159 , 0.08668274],\n",
       "       [0.08102462, 0.08387918, 0.07750704, 0.06797362, 0.08724462,\n",
       "        0.09533437, 0.07531337, 0.1051986 , 0.08702169, 0.07760439]])"
      ]
     },
     "execution_count": 39,
     "metadata": {},
     "output_type": "execute_result"
    }
   ],
   "source": [
    "gnb.var_"
   ]
  },
  {
   "cell_type": "code",
   "execution_count": 51,
   "metadata": {},
   "outputs": [
    {
     "name": "stdout",
     "output_type": "stream",
     "text": [
      "[[1.94584416e-10 1.61743750e-02 1.61981431e-01 4.36011564e+00\n",
      "  1.39234167e-01 5.96873079e-01 8.06144019e-01 5.78944296e-04\n",
      "  5.53738803e-09 7.66682781e-01]\n",
      " [1.93905660e-08 1.04658182e-02 1.72674565e-02 2.25487994e+00\n",
      "  8.00498175e-02 2.15941577e+00 2.21095247e-01 7.58460015e-02\n",
      "  3.26262600e-07 1.01032473e+00]]\n"
     ]
    },
    {
     "ename": "ValueError",
     "evalue": "could not broadcast input array from shape (2,10) into shape (10,)",
     "output_type": "error",
     "traceback": [
      "\u001b[1;31m---------------------------------------------------------------------------\u001b[0m",
      "\u001b[1;31mValueError\u001b[0m                                Traceback (most recent call last)",
      "Cell \u001b[1;32mIn [51], line 1\u001b[0m\n\u001b[1;32m----> 1\u001b[0m cp \u001b[38;5;241m=\u001b[39m \u001b[43mconditional_prob\u001b[49m\u001b[43m(\u001b[49m\u001b[43mX_test\u001b[49m\u001b[43m,\u001b[49m\u001b[43m \u001b[49m\u001b[43mgnb\u001b[49m\u001b[38;5;241;43m.\u001b[39;49m\u001b[43mtheta_\u001b[49m\u001b[43m,\u001b[49m\u001b[43m \u001b[49m\u001b[43mgnb\u001b[49m\u001b[38;5;241;43m.\u001b[39;49m\u001b[43mvar_\u001b[49m\u001b[43m)\u001b[49m\n\u001b[0;32m      2\u001b[0m cp\n",
      "Cell \u001b[1;32mIn [50], line 17\u001b[0m, in \u001b[0;36mconditional_prob\u001b[1;34m(X, mean, std)\u001b[0m\n\u001b[0;32m     15\u001b[0m cp \u001b[38;5;241m=\u001b[39m np\u001b[38;5;241m.\u001b[39mexp(\u001b[38;5;241m-\u001b[39m\u001b[38;5;241m0.5\u001b[39m \u001b[38;5;241m*\u001b[39m ((X[i, :] \u001b[38;5;241m-\u001b[39m mean) \u001b[38;5;241m*\u001b[39m\u001b[38;5;241m*\u001b[39m \u001b[38;5;241m2\u001b[39m) \u001b[38;5;241m/\u001b[39m (std \u001b[38;5;241m*\u001b[39m\u001b[38;5;241m*\u001b[39m \u001b[38;5;241m2\u001b[39m)) \u001b[38;5;241m/\u001b[39m (np\u001b[38;5;241m.\u001b[39msqrt(\u001b[38;5;241m2\u001b[39m \u001b[38;5;241m*\u001b[39m np\u001b[38;5;241m.\u001b[39mpi) \u001b[38;5;241m*\u001b[39m std)\n\u001b[0;32m     16\u001b[0m \u001b[38;5;28mprint\u001b[39m(cp)\n\u001b[1;32m---> 17\u001b[0m \u001b[43mcond_prob\u001b[49m\u001b[43m[\u001b[49m\u001b[43mi\u001b[49m\u001b[43m,\u001b[49m\u001b[43m \u001b[49m\u001b[43m:\u001b[49m\u001b[43m]\u001b[49m \u001b[38;5;241m=\u001b[39m cp\n",
      "\u001b[1;31mValueError\u001b[0m: could not broadcast input array from shape (2,10) into shape (10,)"
     ]
    }
   ],
   "source": [
    "cp = conditional_prob(X_test, gnb.theta_, gnb.var_)\n",
    "cp"
   ]
  }
 ],
 "metadata": {
  "kernelspec": {
   "display_name": "Python 3",
   "language": "python",
   "name": "python3"
  },
  "language_info": {
   "codemirror_mode": {
    "name": "ipython",
    "version": 3
   },
   "file_extension": ".py",
   "mimetype": "text/x-python",
   "name": "python",
   "nbconvert_exporter": "python",
   "pygments_lexer": "ipython3",
   "version": "3.9.6"
  }
 },
 "nbformat": 4,
 "nbformat_minor": 2
}
