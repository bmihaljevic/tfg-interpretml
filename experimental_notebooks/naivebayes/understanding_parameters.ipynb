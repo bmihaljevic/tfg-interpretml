{
 "cells": [
  {
   "cell_type": "code",
   "execution_count": 6,
   "metadata": {},
   "outputs": [],
   "source": [
    "from sklearn.naive_bayes import GaussianNB\n",
    "from sklearn.linear_model import LogisticRegression"
   ]
  },
  {
   "cell_type": "code",
   "execution_count": 3,
   "metadata": {},
   "outputs": [
    {
     "data": {
      "text/plain": [
       "'classifier'"
      ]
     },
     "execution_count": 3,
     "metadata": {},
     "output_type": "execute_result"
    }
   ],
   "source": [
    "gnb = GaussianNB()\n",
    "gnb._estimator_type"
   ]
  },
  {
   "cell_type": "code",
   "execution_count": null,
   "metadata": {},
   "outputs": [
    {
     "name": "stdout",
     "output_type": "stream",
     "text": [
      "[0 1]\n",
      "[0 1]\n"
     ]
    }
   ],
   "source": [
    "import numpy as np\n",
    "\n",
    "X = np.random.rand(100, 10)\n",
    "y = np.random.randint(0, 2, 100)\n",
    "\n",
    "gnb = GaussianNB()\n",
    "log = LogisticRegression()\n",
    "\n",
    "gnb.fit(X, y)\n",
    "log.fit(X, y)\n",
    "\n",
    "print(gnb.classes_)\n",
    "print(log.classes_)"
   ]
  },
  {
   "cell_type": "code",
   "execution_count": 43,
   "metadata": {},
   "outputs": [
    {
     "data": {
      "text/plain": [
       "array([[ 0.67429415, -0.2721339 ,  0.21561264, -0.30620245,  0.48517748,\n",
       "        -0.09931777, -0.07518169,  0.7667796 ,  0.95400202,  0.65502925]])"
      ]
     },
     "execution_count": 43,
     "metadata": {},
     "output_type": "execute_result"
    }
   ],
   "source": [
    "log.coef_"
   ]
  },
  {
   "cell_type": "code",
   "execution_count": 46,
   "metadata": {},
   "outputs": [
    {
     "name": "stdout",
     "output_type": "stream",
     "text": [
      "[0 1 1 1 0]\n",
      "[[0.55763233 0.44236767]\n",
      " [0.22394257 0.77605743]\n",
      " [0.39028636 0.60971364]\n",
      " [0.41620675 0.58379325]\n",
      " [0.56376865 0.43623135]]\n"
     ]
    }
   ],
   "source": [
    "X_test = np.random.rand(5, 10)\n",
    "print(gnb.predict(X_test))\n",
    "print(gnb.predict_proba(X_test))"
   ]
  },
  {
   "cell_type": "code",
   "execution_count": 47,
   "metadata": {},
   "outputs": [
    {
     "name": "stdout",
     "output_type": "stream",
     "text": [
      "[0.44236767 0.77605743 0.60971364 0.58379325 0.43623135]\n"
     ]
    }
   ],
   "source": [
    "predictions = gnb.predict_proba(X_test)\n",
    "print(predictions[:, 1])"
   ]
  },
  {
   "cell_type": "code",
   "execution_count": 52,
   "metadata": {},
   "outputs": [
    {
     "data": {
      "text/plain": [
       "array([[ 0.67429415, -0.2721339 ,  0.21561264, -0.30620245,  0.48517748,\n",
       "        -0.09931777, -0.07518169,  0.7667796 ,  0.95400202,  0.65502925]])"
      ]
     },
     "execution_count": 52,
     "metadata": {},
     "output_type": "execute_result"
    }
   ],
   "source": [
    "log.coef_"
   ]
  },
  {
   "cell_type": "code",
   "execution_count": 54,
   "metadata": {},
   "outputs": [
    {
     "data": {
      "text/plain": [
       "array([ 0.23155846, -1.24283688, -0.44610869, -0.33836478,  0.25647124])"
      ]
     },
     "execution_count": 54,
     "metadata": {},
     "output_type": "execute_result"
    }
   ],
   "source": [
    "np.array([np.log(predictions[:, 0] / predictions[:, 1])])[0]"
   ]
  },
  {
   "cell_type": "code",
   "execution_count": 56,
   "metadata": {},
   "outputs": [
    {
     "data": {
      "text/plain": [
       "array([[-0.56622337, -0.83855513],\n",
       "       [-0.84359374, -0.56240291],\n",
       "       [-0.83881636, -0.56602446],\n",
       "       [-0.78282833, -0.61085099],\n",
       "       [-0.57776391, -0.8236016 ]])"
      ]
     },
     "execution_count": 56,
     "metadata": {},
     "output_type": "execute_result"
    }
   ],
   "source": [
    "log.predict_log_proba(X_test)"
   ]
  },
  {
   "cell_type": "code",
   "execution_count": 71,
   "metadata": {},
   "outputs": [
    {
     "name": "stdout",
     "output_type": "stream",
     "text": [
      "[[0.50277861 0.41932677 0.46540686 0.54655665 0.5482016  0.49164485\n",
      "  0.47667622 0.51231089 0.42408312 0.49144001]\n",
      " [0.5101512  0.49917175 0.44336234 0.52715347 0.57629729 0.54081003\n",
      "  0.45306775 0.5429204  0.42744623 0.45770278]]\n",
      "[[0.07428148 0.0582953  0.07778554 0.07597123 0.09587576 0.09296941\n",
      "  0.09321253 0.07325799 0.07934904 0.08302035]\n",
      " [0.08169699 0.08470538 0.0910714  0.07452556 0.07118075 0.10749206\n",
      "  0.09649118 0.07447236 0.09229395 0.08876579]]\n",
      "\n",
      "Conditional Probs\n",
      "\n",
      "[1.17261334e-02 8.48369129e-09 1.42360060e-04 1.20110095e+00\n",
      " 2.40631500e-07 1.03300357e-04 1.58393371e-03 1.08649866e+00\n",
      " 1.19673433e-06 5.25936475e-02]\n"
     ]
    }
   ],
   "source": [
    "X = np.random.rand(100, 10)\n",
    "y = np.random.randint(0, 2, 100)\n",
    "\n",
    "gnb = GaussianNB()\n",
    "\n",
    "gnb.fit(X, y)\n",
    "\n",
    "print(gnb.theta_)\n",
    "print(gnb.var_)\n",
    "\n",
    "print(\"\\nConditional Probs\\n\")\n",
    "\n",
    "X_test = np.random.rand(5, 10)\n",
    "\n",
    "def conditional_probability(x, mean, std):\n",
    "    return np.exp(-0.5 * ((x - mean) ** 2) / (std ** 2)) / (np.sqrt(2 * np.pi) * std)\n",
    "\n",
    "print(conditional_probability(X_test[0, :], gnb.theta_[0, 0], gnb.var_[0, 0]))"
   ]
  }
 ],
 "metadata": {
  "kernelspec": {
   "display_name": "Python 3",
   "language": "python",
   "name": "python3"
  },
  "language_info": {
   "codemirror_mode": {
    "name": "ipython",
    "version": 3
   },
   "file_extension": ".py",
   "mimetype": "text/x-python",
   "name": "python",
   "nbconvert_exporter": "python",
   "pygments_lexer": "ipython3",
   "version": "3.9.6"
  }
 },
 "nbformat": 4,
 "nbformat_minor": 2
}
