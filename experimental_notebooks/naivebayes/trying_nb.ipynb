{
 "cells": [
  {
   "cell_type": "code",
   "execution_count": 1,
   "metadata": {},
   "outputs": [],
   "source": [
    "import sys\n",
    "import os\n",
    "\n",
    "# Obtener el directorio actual\n",
    "current_directory = os.getcwd()\n",
    "\n",
    "# Subir dos niveles al directorio raíz, donde se encuentra la carpeta 'interpretml'\n",
    "root_path = os.path.abspath(os.path.join(current_directory, '..', '..', '..'))\n",
    "\n",
    "sys.path.append(root_path)"
   ]
  },
  {
   "cell_type": "code",
   "execution_count": 2,
   "metadata": {},
   "outputs": [],
   "source": [
    "import pandas as pd\n",
    "import numpy as np\n",
    "import interpret\n",
    "from interpret import show"
   ]
  },
  {
   "cell_type": "code",
   "execution_count": 3,
   "metadata": {},
   "outputs": [],
   "source": [
    "iris = pd.read_csv('https://archive.ics.uci.edu/ml/machine-learning-databases/iris/iris.data', header=None)\n",
    "iris.columns = ['sepal_length', 'sepal_width', 'petal_length', 'petal_width', 'species']\n",
    "\n",
    "# Create a binary problem\n",
    "iris['species'] = np.where(iris['species'] == 'Iris-setosa', 1, 0)\n",
    "\n",
    "X = iris.drop('species', axis=1)\n",
    "y = iris['species']\n",
    "\n",
    "# Split\n",
    "from sklearn.model_selection import train_test_split\n",
    "X_train, X_test, y_train, y_test = train_test_split(X, y, test_size=0.2, random_state=42)"
   ]
  },
  {
   "cell_type": "code",
   "execution_count": 4,
   "metadata": {},
   "outputs": [
    {
     "data": {
      "text/plain": [
       "<interpret.glassbox._linear.LogisticRegression at 0x183d4767a60>"
      ]
     },
     "execution_count": 4,
     "metadata": {},
     "output_type": "execute_result"
    }
   ],
   "source": [
    "# import linear from interpret\n",
    "from interpret.glassbox._naivebayes import NaiveBayesClassifier\n",
    "from interpret.glassbox._linear import LogisticRegression\n",
    "\n",
    "nb = NaiveBayesClassifier()\n",
    "nb.fit(X_train, y_train)\n",
    "\n",
    "lr = LogisticRegression()\n",
    "lr.fit(X_train, y_train)"
   ]
  },
  {
   "cell_type": "code",
   "execution_count": 5,
   "metadata": {},
   "outputs": [
    {
     "name": "stdout",
     "output_type": "stream",
     "text": [
      "(30, 4)\n"
     ]
    },
    {
     "data": {
      "text/html": [
       "<div>\n",
       "<style scoped>\n",
       "    .dataframe tbody tr th:only-of-type {\n",
       "        vertical-align: middle;\n",
       "    }\n",
       "\n",
       "    .dataframe tbody tr th {\n",
       "        vertical-align: top;\n",
       "    }\n",
       "\n",
       "    .dataframe thead th {\n",
       "        text-align: right;\n",
       "    }\n",
       "</style>\n",
       "<table border=\"1\" class=\"dataframe\">\n",
       "  <thead>\n",
       "    <tr style=\"text-align: right;\">\n",
       "      <th></th>\n",
       "      <th>sepal_length</th>\n",
       "      <th>sepal_width</th>\n",
       "      <th>petal_length</th>\n",
       "      <th>petal_width</th>\n",
       "    </tr>\n",
       "  </thead>\n",
       "  <tbody>\n",
       "    <tr>\n",
       "      <th>145</th>\n",
       "      <td>6.7</td>\n",
       "      <td>3.0</td>\n",
       "      <td>5.2</td>\n",
       "      <td>2.3</td>\n",
       "    </tr>\n",
       "    <tr>\n",
       "      <th>128</th>\n",
       "      <td>6.4</td>\n",
       "      <td>2.8</td>\n",
       "      <td>5.6</td>\n",
       "      <td>2.1</td>\n",
       "    </tr>\n",
       "    <tr>\n",
       "      <th>9</th>\n",
       "      <td>4.9</td>\n",
       "      <td>3.1</td>\n",
       "      <td>1.5</td>\n",
       "      <td>0.1</td>\n",
       "    </tr>\n",
       "  </tbody>\n",
       "</table>\n",
       "</div>"
      ],
      "text/plain": [
       "     sepal_length  sepal_width  petal_length  petal_width\n",
       "145           6.7          3.0           5.2          2.3\n",
       "128           6.4          2.8           5.6          2.1\n",
       "9             4.9          3.1           1.5          0.1"
      ]
     },
     "execution_count": 5,
     "metadata": {},
     "output_type": "execute_result"
    }
   ],
   "source": [
    "print(X_test.shape)\n",
    "X_test.sample(3)"
   ]
  },
  {
   "cell_type": "code",
   "execution_count": 6,
   "metadata": {},
   "outputs": [
    {
     "data": {
      "text/plain": [
       "array([0, 1, 0, 0, 0, 1, 0, 0, 0, 0, 0, 1, 1, 1, 1, 0, 0, 0, 0, 0, 1, 0,\n",
       "       1, 0, 0, 0, 0, 0, 1, 1], dtype=int64)"
      ]
     },
     "execution_count": 6,
     "metadata": {},
     "output_type": "execute_result"
    }
   ],
   "source": [
    "nb.predict(X_test)"
   ]
  },
  {
   "cell_type": "code",
   "execution_count": 7,
   "metadata": {},
   "outputs": [
    {
     "name": "stdout",
     "output_type": "stream",
     "text": [
      "[[6.21875 2.86625 4.865   1.6525 ]\n",
      " [4.99    3.44    1.4525  0.2425 ]]\n",
      "[[0.44427344 0.10923594 0.663775   0.17599375]\n",
      " [0.1239     0.1549     0.03299375 0.01144375]]\n"
     ]
    }
   ],
   "source": [
    "print(nb._model().theta_)\n",
    "print(nb._model().var_)"
   ]
  },
  {
   "cell_type": "code",
   "execution_count": 8,
   "metadata": {},
   "outputs": [
    {
     "data": {
      "text/html": [
       "<!-- http://127.0.0.1:7001/1665441060032/ -->\n",
       "<iframe src=\"http://127.0.0.1:7001/1665441060032/\" width=100% height=800 frameBorder=\"0\"></iframe>"
      ]
     },
     "metadata": {},
     "output_type": "display_data"
    }
   ],
   "source": [
    "nb_local = nb.explain_local(X_test, y_test)\n",
    "show(nb_local)"
   ]
  },
  {
   "cell_type": "code",
   "execution_count": 9,
   "metadata": {},
   "outputs": [
    {
     "data": {
      "text/plain": [
       "array([0, 1, 0, 0, 0, 1, 0, 0, 0, 0, 0, 1, 1, 1, 1, 0, 0, 0, 0, 0, 1, 0,\n",
       "       1, 0, 0, 0, 0, 0, 1, 1], dtype=int64)"
      ]
     },
     "execution_count": 9,
     "metadata": {},
     "output_type": "execute_result"
    }
   ],
   "source": [
    "lr.predict(X_test)"
   ]
  },
  {
   "cell_type": "code",
   "execution_count": 10,
   "metadata": {},
   "outputs": [
    {
     "data": {
      "text/html": [
       "<!-- http://127.0.0.1:7001/1665698777408/ -->\n",
       "<iframe src=\"http://127.0.0.1:7001/1665698777408/\" width=100% height=800 frameBorder=\"0\"></iframe>"
      ]
     },
     "metadata": {},
     "output_type": "display_data"
    }
   ],
   "source": [
    "lr_local = lr.explain_local(X_test, y_test)\n",
    "show(lr_local)"
   ]
  },
  {
   "cell_type": "markdown",
   "metadata": {},
   "source": [
    "## Discretize features"
   ]
  },
  {
   "cell_type": "code",
   "execution_count": 11,
   "metadata": {},
   "outputs": [],
   "source": [
    "from interpret.glassbox._categoricalnaivebayes import NaiveBayesClassifier as CategoricalNaiveBayesClassifier"
   ]
  },
  {
   "cell_type": "code",
   "execution_count": 12,
   "metadata": {},
   "outputs": [],
   "source": [
    "from sklearn.preprocessing import KBinsDiscretizer\n",
    "\n",
    "kbd = KBinsDiscretizer(n_bins=5, encode='ordinal', strategy='uniform', subsample=200)\n",
    "X_train_discrete = pd.DataFrame(kbd.fit_transform(X_train), columns=X_train.columns)\n",
    "X_test_discrete = pd.DataFrame(kbd.transform(X_test), columns=X_test.columns)"
   ]
  },
  {
   "cell_type": "code",
   "execution_count": 13,
   "metadata": {},
   "outputs": [
    {
     "data": {
      "text/plain": [
       "<interpret.glassbox._categoricalnaivebayes.NaiveBayesClassifier at 0x183d36ebd00>"
      ]
     },
     "execution_count": 13,
     "metadata": {},
     "output_type": "execute_result"
    }
   ],
   "source": [
    "CNB = CategoricalNaiveBayesClassifier()\n",
    "CNB.fit(X_train_discrete, y_train)"
   ]
  },
  {
   "cell_type": "code",
   "execution_count": 14,
   "metadata": {},
   "outputs": [
    {
     "data": {
      "text/plain": [
       "[array([[ 2., 14., 33., 21., 10.],\n",
       "        [15., 23.,  2.,  0.,  0.]]),\n",
       " array([[ 9., 34., 35.,  2.,  0.],\n",
       "        [ 1.,  1., 20., 14.,  4.]]),\n",
       " array([[ 0.,  1., 25., 36., 18.],\n",
       "        [40.,  0.,  0.,  0.,  0.]]),\n",
       " array([[ 0.,  7., 33., 24., 16.],\n",
       "        [39.,  1.,  0.,  0.,  0.]])]"
      ]
     },
     "execution_count": 14,
     "metadata": {},
     "output_type": "execute_result"
    }
   ],
   "source": [
    "CNB.model.category_count_"
   ]
  },
  {
   "cell_type": "code",
   "execution_count": 15,
   "metadata": {},
   "outputs": [
    {
     "data": {
      "text/plain": [
       "1.0"
      ]
     },
     "execution_count": 15,
     "metadata": {},
     "output_type": "execute_result"
    }
   ],
   "source": [
    "(CNB.predict(X_test_discrete) == y_test).sum() / len(y_test)"
   ]
  },
  {
   "cell_type": "code",
   "execution_count": 16,
   "metadata": {},
   "outputs": [
    {
     "name": "stdout",
     "output_type": "stream",
     "text": [
      "Instance 0\n",
      "0.6931471805599453\n",
      "[0.4        0.41176471 0.43529412 0.4       ] [0.06666667 0.04444444 0.02222222 0.02222222]\n",
      "[1.79175947 2.22621211 2.97492915 2.89037176]\n",
      "\n",
      "Instance 1\n",
      "0.6931471805599453\n",
      "[0.4        0.03529412 0.01176471 0.01176471] [0.06666667 0.33333333 0.91111111 0.88888889]\n",
      "[ 1.79175947 -2.24542668 -4.34956083 -4.32486822]\n",
      "\n",
      "Instance 2\n",
      "0.6931471805599453\n",
      "[0.12941176 0.41176471 0.22352941 0.2       ] [0.02222222 0.04444444 0.02222222 0.02222222]\n",
      "[1.76190651 2.22621211 2.30845021 2.19722458]\n",
      "\n",
      "Instance 3\n",
      "0.6931471805599453\n",
      "[0.4        0.41176471 0.43529412 0.4       ] [0.06666667 0.04444444 0.02222222 0.02222222]\n",
      "[1.79175947 2.22621211 2.97492915 2.89037176]\n",
      "\n",
      "Instance 4\n",
      "0.6931471805599453\n",
      "[0.25882353 0.41176471 0.43529412 0.4       ] [0.02222222 0.04444444 0.02222222 0.02222222]\n",
      "[2.45505369 2.22621211 2.97492915 2.89037176]\n",
      "\n",
      "Instance 5\n",
      "0.6931471805599453\n",
      "[0.17647059 0.42352941 0.01176471 0.01176471] [0.53333333 0.46666667 0.91111111 0.88888889]\n",
      "[-1.1059924  -0.09699227 -4.34956083 -4.32486822]\n",
      "\n",
      "Instance 6\n",
      "0.6931471805599453\n",
      "[0.17647059 0.41176471 0.30588235 0.4       ] [0.53333333 0.04444444 0.02222222 0.02222222]\n",
      "[-1.1059924   2.22621211  2.62210777  2.89037176]\n",
      "\n",
      "Instance 7\n",
      "0.6931471805599453\n",
      "[0.25882353 0.42352941 0.43529412 0.2       ] [0.02222222 0.46666667 0.02222222 0.02222222]\n",
      "[ 2.45505369 -0.09699227  2.97492915  2.19722458]\n",
      "\n",
      "Instance 8\n",
      "0.6931471805599453\n",
      "[0.4        0.11764706 0.43529412 0.4       ] [0.06666667 0.04444444 0.02222222 0.02222222]\n",
      "[1.79175947 0.97344915 2.97492915 2.89037176]\n",
      "\n",
      "Instance 9\n",
      "0.6931471805599453\n",
      "[0.4        0.41176471 0.30588235 0.4       ] [0.06666667 0.04444444 0.02222222 0.02222222]\n",
      "[1.79175947 2.22621211 2.62210777 2.89037176]\n",
      "\n",
      "Instance 10\n",
      "0.6931471805599453\n",
      "[0.25882353 0.42352941 0.43529412 0.29411765] [0.02222222 0.46666667 0.02222222 0.02222222]\n",
      "[ 2.45505369 -0.09699227  2.97492915  2.58288706]\n",
      "\n",
      "Instance 11\n",
      "0.6931471805599453\n",
      "[0.03529412 0.42352941 0.01176471 0.01176471] [0.35555556 0.46666667 0.91111111 0.88888889]\n",
      "[-2.3099652  -0.09699227 -4.34956083 -4.32486822]\n",
      "\n",
      "Instance 12\n",
      "0.6931471805599453\n",
      "[0.17647059 0.03529412 0.01176471 0.01176471] [0.53333333 0.33333333 0.91111111 0.88888889]\n",
      "[-1.1059924  -2.24542668 -4.34956083 -4.32486822]\n",
      "\n",
      "Instance 13\n",
      "0.6931471805599453\n",
      "[0.03529412 0.42352941 0.01176471 0.01176471] [0.35555556 0.46666667 0.91111111 0.88888889]\n",
      "[-2.3099652  -0.09699227 -4.34956083 -4.32486822]\n",
      "\n",
      "Instance 14\n",
      "0.6931471805599453\n",
      "[0.17647059 0.03529412 0.01176471 0.01176471] [0.53333333 0.33333333 0.91111111 0.88888889]\n",
      "[-1.1059924  -2.24542668 -4.34956083 -4.32486822]\n",
      "\n",
      "Instance 15\n",
      "0.6931471805599453\n",
      "[0.4        0.42352941 0.43529412 0.29411765] [0.06666667 0.46666667 0.02222222 0.02222222]\n",
      "[ 1.79175947 -0.09699227  2.97492915  2.58288706]\n",
      "\n",
      "Instance 16\n",
      "0.6931471805599453\n",
      "[0.25882353 0.42352941 0.22352941 0.2       ] [0.02222222 0.46666667 0.02222222 0.02222222]\n",
      "[ 2.45505369 -0.09699227  2.30845021  2.19722458]\n",
      "\n",
      "Instance 17\n",
      "0.6931471805599453\n",
      "[0.17647059 0.41176471 0.30588235 0.4       ] [0.53333333 0.04444444 0.02222222 0.02222222]\n",
      "[-1.1059924   2.22621211  2.62210777  2.89037176]\n",
      "\n",
      "Instance 18\n",
      "0.6931471805599453\n",
      "[0.4        0.41176471 0.43529412 0.4       ] [0.06666667 0.04444444 0.02222222 0.02222222]\n",
      "[1.79175947 2.22621211 2.97492915 2.89037176]\n",
      "\n",
      "Instance 19\n",
      "0.6931471805599453\n",
      "[0.25882353 0.41176471 0.22352941 0.2       ] [0.02222222 0.04444444 0.02222222 0.02222222]\n",
      "[2.45505369 2.22621211 2.30845021 2.19722458]\n",
      "\n",
      "Instance 20\n",
      "0.6931471805599453\n",
      "[0.03529412 0.42352941 0.01176471 0.01176471] [0.35555556 0.46666667 0.91111111 0.88888889]\n",
      "[-2.3099652  -0.09699227 -4.34956083 -4.32486822]\n",
      "\n",
      "Instance 21\n",
      "0.6931471805599453\n",
      "[0.4        0.42352941 0.43529412 0.29411765] [0.06666667 0.46666667 0.02222222 0.02222222]\n",
      "[ 1.79175947 -0.09699227  2.97492915  2.58288706]\n",
      "\n",
      "Instance 22\n",
      "0.6931471805599453\n",
      "[0.17647059 0.42352941 0.01176471 0.01176471] [0.53333333 0.46666667 0.91111111 0.88888889]\n",
      "[-1.1059924  -0.09699227 -4.34956083 -4.32486822]\n",
      "\n",
      "Instance 23\n",
      "0.6931471805599453\n",
      "[0.25882353 0.41176471 0.22352941 0.2       ] [0.02222222 0.04444444 0.02222222 0.02222222]\n",
      "[2.45505369 2.22621211 2.30845021 2.19722458]\n",
      "\n",
      "Instance 24\n",
      "0.6931471805599453\n",
      "[0.12941176 0.03529412 0.22352941 0.29411765] [0.02222222 0.33333333 0.02222222 0.02222222]\n",
      "[ 1.76190651 -2.24542668  2.30845021  2.58288706]\n",
      "\n",
      "Instance 25\n",
      "0.6931471805599453\n",
      "[0.25882353 0.42352941 0.43529412 0.2       ] [0.02222222 0.46666667 0.02222222 0.02222222]\n",
      "[ 2.45505369 -0.09699227  2.97492915  2.19722458]\n",
      "\n",
      "Instance 26\n",
      "0.6931471805599453\n",
      "[0.25882353 0.41176471 0.22352941 0.29411765] [0.02222222 0.04444444 0.02222222 0.02222222]\n",
      "[2.45505369 2.22621211 2.30845021 2.58288706]\n",
      "\n",
      "Instance 27\n",
      "0.6931471805599453\n",
      "[0.25882353 0.42352941 0.22352941 0.2       ] [0.02222222 0.46666667 0.02222222 0.02222222]\n",
      "[ 2.45505369 -0.09699227  2.30845021  2.19722458]\n",
      "\n",
      "Instance 28\n",
      "0.6931471805599453\n",
      "[0.03529412 0.42352941 0.01176471 0.01176471] [0.35555556 0.46666667 0.91111111 0.88888889]\n",
      "[-2.3099652  -0.09699227 -4.34956083 -4.32486822]\n",
      "\n",
      "Instance 29\n",
      "0.6931471805599453\n",
      "[0.03529412 0.42352941 0.01176471 0.01176471] [0.35555556 0.46666667 0.91111111 0.88888889]\n",
      "[-2.3099652  -0.09699227 -4.34956083 -4.32486822]\n",
      "\n"
     ]
    },
    {
     "data": {
      "text/html": [
       "<!-- http://127.0.0.1:7001/1665699592512/ -->\n",
       "<iframe src=\"http://127.0.0.1:7001/1665699592512/\" width=100% height=800 frameBorder=\"0\"></iframe>"
      ]
     },
     "metadata": {},
     "output_type": "display_data"
    }
   ],
   "source": [
    "CNBlocal = CNB.explain_local(X_test_discrete, y_test)\n",
    "show(CNBlocal)"
   ]
  }
 ],
 "metadata": {
  "kernelspec": {
   "display_name": "Python 3",
   "language": "python",
   "name": "python3"
  },
  "language_info": {
   "codemirror_mode": {
    "name": "ipython",
    "version": 3
   },
   "file_extension": ".py",
   "mimetype": "text/x-python",
   "name": "python",
   "nbconvert_exporter": "python",
   "pygments_lexer": "ipython3",
   "version": "3.9.6"
  }
 },
 "nbformat": 4,
 "nbformat_minor": 2
}
