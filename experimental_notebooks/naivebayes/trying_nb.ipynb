{
 "cells": [
  {
   "cell_type": "code",
   "execution_count": 1,
   "metadata": {},
   "outputs": [],
   "source": [
    "import sys\n",
    "import os\n",
    "\n",
    "# Obtener el directorio actual\n",
    "current_directory = os.getcwd()\n",
    "\n",
    "# Subir dos niveles al directorio raíz, donde se encuentra la carpeta 'interpretml'\n",
    "root_path = os.path.abspath(os.path.join(current_directory, '..', '..', '..'))\n",
    "\n",
    "sys.path.append(root_path)"
   ]
  },
  {
   "cell_type": "code",
   "execution_count": 2,
   "metadata": {},
   "outputs": [],
   "source": [
    "import pandas as pd\n",
    "import numpy as np\n",
    "import interpret\n",
    "from interpret import show"
   ]
  },
  {
   "cell_type": "code",
   "execution_count": 3,
   "metadata": {},
   "outputs": [],
   "source": [
    "iris = pd.read_csv('https://archive.ics.uci.edu/ml/machine-learning-databases/iris/iris.data', header=None)\n",
    "iris.columns = ['sepal_length', 'sepal_width', 'petal_length', 'petal_width', 'species']\n",
    "\n",
    "# Create a binary problem\n",
    "iris['species'] = np.where(iris['species'] == 'Iris-setosa', 1, 0)\n",
    "\n",
    "X = iris.drop('species', axis=1)\n",
    "y = iris['species']\n",
    "\n",
    "# Split\n",
    "from sklearn.model_selection import train_test_split\n",
    "X_train, X_test, y_train, y_test = train_test_split(X, y, test_size=0.2, random_state=42)"
   ]
  },
  {
   "cell_type": "code",
   "execution_count": 4,
   "metadata": {},
   "outputs": [
    {
     "data": {
      "text/plain": [
       "<interpret.glassbox._linear.LogisticRegression at 0x25d84425730>"
      ]
     },
     "execution_count": 4,
     "metadata": {},
     "output_type": "execute_result"
    }
   ],
   "source": [
    "# import linear from interpret\n",
    "from interpret.glassbox._naivebayes import NaiveBayesClassifier\n",
    "from interpret.glassbox._linear import LogisticRegression\n",
    "\n",
    "nb = NaiveBayesClassifier()\n",
    "nb.fit(X_train, y_train)\n",
    "\n",
    "lr = LogisticRegression()\n",
    "lr.fit(X_train, y_train)"
   ]
  },
  {
   "cell_type": "code",
   "execution_count": 5,
   "metadata": {},
   "outputs": [
    {
     "name": "stdout",
     "output_type": "stream",
     "text": [
      "(30, 4)\n"
     ]
    },
    {
     "data": {
      "text/html": [
       "<div>\n",
       "<style scoped>\n",
       "    .dataframe tbody tr th:only-of-type {\n",
       "        vertical-align: middle;\n",
       "    }\n",
       "\n",
       "    .dataframe tbody tr th {\n",
       "        vertical-align: top;\n",
       "    }\n",
       "\n",
       "    .dataframe thead th {\n",
       "        text-align: right;\n",
       "    }\n",
       "</style>\n",
       "<table border=\"1\" class=\"dataframe\">\n",
       "  <thead>\n",
       "    <tr style=\"text-align: right;\">\n",
       "      <th></th>\n",
       "      <th>sepal_length</th>\n",
       "      <th>sepal_width</th>\n",
       "      <th>petal_length</th>\n",
       "      <th>petal_width</th>\n",
       "    </tr>\n",
       "  </thead>\n",
       "  <tbody>\n",
       "    <tr>\n",
       "      <th>132</th>\n",
       "      <td>6.4</td>\n",
       "      <td>2.8</td>\n",
       "      <td>5.6</td>\n",
       "      <td>2.2</td>\n",
       "    </tr>\n",
       "    <tr>\n",
       "      <th>76</th>\n",
       "      <td>6.8</td>\n",
       "      <td>2.8</td>\n",
       "      <td>4.8</td>\n",
       "      <td>1.4</td>\n",
       "    </tr>\n",
       "    <tr>\n",
       "      <th>78</th>\n",
       "      <td>6.0</td>\n",
       "      <td>2.9</td>\n",
       "      <td>4.5</td>\n",
       "      <td>1.5</td>\n",
       "    </tr>\n",
       "  </tbody>\n",
       "</table>\n",
       "</div>"
      ],
      "text/plain": [
       "     sepal_length  sepal_width  petal_length  petal_width\n",
       "132           6.4          2.8           5.6          2.2\n",
       "76            6.8          2.8           4.8          1.4\n",
       "78            6.0          2.9           4.5          1.5"
      ]
     },
     "execution_count": 5,
     "metadata": {},
     "output_type": "execute_result"
    }
   ],
   "source": [
    "print(X_test.shape)\n",
    "X_test.sample(3)"
   ]
  },
  {
   "cell_type": "code",
   "execution_count": 6,
   "metadata": {},
   "outputs": [
    {
     "data": {
      "text/plain": [
       "array([0, 1, 0, 0, 0, 1, 0, 0, 0, 0, 0, 1, 1, 1, 1, 0, 0, 0, 0, 0, 1, 0,\n",
       "       1, 0, 0, 0, 0, 0, 1, 1], dtype=int64)"
      ]
     },
     "execution_count": 6,
     "metadata": {},
     "output_type": "execute_result"
    }
   ],
   "source": [
    "nb.predict(X_test)"
   ]
  },
  {
   "cell_type": "code",
   "execution_count": 7,
   "metadata": {},
   "outputs": [
    {
     "name": "stdout",
     "output_type": "stream",
     "text": [
      "[[6.21875 2.86625 4.865   1.6525 ]\n",
      " [4.99    3.44    1.4525  0.2425 ]]\n",
      "[[0.44427344 0.10923594 0.663775   0.17599375]\n",
      " [0.1239     0.1549     0.03299375 0.01144375]]\n"
     ]
    }
   ],
   "source": [
    "print(nb._model().theta_)\n",
    "print(nb._model().var_)"
   ]
  },
  {
   "cell_type": "code",
   "execution_count": 8,
   "metadata": {},
   "outputs": [
    {
     "data": {
      "text/html": [
       "<!-- http://127.0.0.1:7001/2600674152656/ -->\n",
       "<iframe src=\"http://127.0.0.1:7001/2600674152656/\" width=100% height=800 frameBorder=\"0\"></iframe>"
      ]
     },
     "metadata": {},
     "output_type": "display_data"
    }
   ],
   "source": [
    "nb_local = nb.explain_local(X_test, y_test)\n",
    "show(nb_local)"
   ]
  },
  {
   "cell_type": "code",
   "execution_count": 9,
   "metadata": {},
   "outputs": [
    {
     "data": {
      "text/plain": [
       "array([0, 1, 0, 0, 0, 1, 0, 0, 0, 0, 0, 1, 1, 1, 1, 0, 0, 0, 0, 0, 1, 0,\n",
       "       1, 0, 0, 0, 0, 0, 1, 1], dtype=int64)"
      ]
     },
     "execution_count": 9,
     "metadata": {},
     "output_type": "execute_result"
    }
   ],
   "source": [
    "lr.predict(X_test)"
   ]
  },
  {
   "cell_type": "code",
   "execution_count": 10,
   "metadata": {},
   "outputs": [
    {
     "data": {
      "text/html": [
       "<!-- http://127.0.0.1:7001/2600653257168/ -->\n",
       "<iframe src=\"http://127.0.0.1:7001/2600653257168/\" width=100% height=800 frameBorder=\"0\"></iframe>"
      ]
     },
     "metadata": {},
     "output_type": "display_data"
    }
   ],
   "source": [
    "lr_local = lr.explain_local(X_test, y_test)\n",
    "show(lr_local)"
   ]
  },
  {
   "cell_type": "markdown",
   "metadata": {},
   "source": [
    "## Discretize features"
   ]
  },
  {
   "cell_type": "code",
   "execution_count": 11,
   "metadata": {},
   "outputs": [],
   "source": [
    "from interpret.glassbox._categoricalnaivebayes import NaiveBayesClassifier as CategoricalNaiveBayesClassifier"
   ]
  },
  {
   "cell_type": "code",
   "execution_count": 12,
   "metadata": {},
   "outputs": [],
   "source": [
    "from sklearn.preprocessing import KBinsDiscretizer\n",
    "\n",
    "kbd = KBinsDiscretizer(n_bins=5, encode='ordinal', strategy='uniform', subsample=200)\n",
    "X_train_discrete = pd.DataFrame(kbd.fit_transform(X_train), columns=X_train.columns)\n",
    "X_test_discrete = pd.DataFrame(kbd.transform(X_test), columns=X_test.columns)"
   ]
  },
  {
   "cell_type": "code",
   "execution_count": 13,
   "metadata": {},
   "outputs": [
    {
     "data": {
      "text/plain": [
       "<interpret.glassbox._categoricalnaivebayes.NaiveBayesClassifier at 0x25d8325a9d0>"
      ]
     },
     "execution_count": 13,
     "metadata": {},
     "output_type": "execute_result"
    }
   ],
   "source": [
    "CNB = CategoricalNaiveBayesClassifier()\n",
    "CNB.fit(X_train_discrete, y_train)"
   ]
  },
  {
   "cell_type": "code",
   "execution_count": 14,
   "metadata": {},
   "outputs": [
    {
     "data": {
      "text/plain": [
       "[array([[ 2., 14., 33., 21., 10.],\n",
       "        [15., 23.,  2.,  0.,  0.]]),\n",
       " array([[ 9., 34., 35.,  2.,  0.],\n",
       "        [ 1.,  1., 20., 14.,  4.]]),\n",
       " array([[ 0.,  1., 25., 36., 18.],\n",
       "        [40.,  0.,  0.,  0.,  0.]]),\n",
       " array([[ 0.,  7., 33., 24., 16.],\n",
       "        [39.,  1.,  0.,  0.,  0.]])]"
      ]
     },
     "execution_count": 14,
     "metadata": {},
     "output_type": "execute_result"
    }
   ],
   "source": [
    "CNB.model.category_count_"
   ]
  },
  {
   "cell_type": "code",
   "execution_count": 15,
   "metadata": {},
   "outputs": [
    {
     "data": {
      "text/plain": [
       "1.0"
      ]
     },
     "execution_count": 15,
     "metadata": {},
     "output_type": "execute_result"
    }
   ],
   "source": [
    "(CNB.predict(X_test_discrete) == y_test).sum() / len(y_test)"
   ]
  },
  {
   "cell_type": "code",
   "execution_count": 16,
   "metadata": {},
   "outputs": [
    {
     "name": "stdout",
     "output_type": "stream",
     "text": [
      "2.0\n"
     ]
    },
    {
     "ename": "IndexError",
     "evalue": "only integers, slices (`:`), ellipsis (`...`), numpy.newaxis (`None`) and integer or boolean arrays are valid indices",
     "output_type": "error",
     "traceback": [
      "\u001b[1;31m---------------------------------------------------------------------------\u001b[0m",
      "\u001b[1;31mIndexError\u001b[0m                                Traceback (most recent call last)",
      "Cell \u001b[1;32mIn [16], line 1\u001b[0m\n\u001b[1;32m----> 1\u001b[0m CNBlocal \u001b[38;5;241m=\u001b[39m \u001b[43mCNB\u001b[49m\u001b[38;5;241;43m.\u001b[39;49m\u001b[43mexplain_local\u001b[49m\u001b[43m(\u001b[49m\u001b[43mX_test_discrete\u001b[49m\u001b[43m,\u001b[49m\u001b[43m \u001b[49m\u001b[43my_test\u001b[49m\u001b[43m)\u001b[49m\n\u001b[0;32m      2\u001b[0m show(CNBlocal)\n",
      "File \u001b[1;32mc:\\users\\javip\\desktop\\universidad\\cdia\\curso4\\otros\\becacolaboracion\\repo\\tfg-interpretml\\interpret\\python\\interpret-core\\interpret\\glassbox\\_categoricalnaivebayes.py:199\u001b[0m, in \u001b[0;36mBaseNaiveBayes.explain_local\u001b[1;34m(self, X, y, name)\u001b[0m\n\u001b[0;32m    197\u001b[0m perf_dicts \u001b[38;5;241m=\u001b[39m gen_perf_dicts(predictions, y, is_classification, classes)\n\u001b[0;32m    198\u001b[0m \u001b[38;5;28;01mfor\u001b[39;00m i, instance \u001b[38;5;129;01min\u001b[39;00m \u001b[38;5;28menumerate\u001b[39m(X):\n\u001b[1;32m--> 199\u001b[0m     c0_cp, c1_cp \u001b[38;5;241m=\u001b[39m \u001b[43mconditional_probabilities\u001b[49m\u001b[43m(\u001b[49m\u001b[43mmodel\u001b[49m\u001b[43m,\u001b[49m\u001b[43m \u001b[49m\u001b[43minstance\u001b[49m\u001b[43m,\u001b[49m\u001b[43m \u001b[49m\u001b[38;5;241;43m1\u001b[39;49m\u001b[43m)\u001b[49m\n\u001b[0;32m    200\u001b[0m     scores \u001b[38;5;241m=\u001b[39m np\u001b[38;5;241m.\u001b[39mlog(c0_cp \u001b[38;5;241m/\u001b[39m c1_cp)\n\u001b[0;32m    201\u001b[0m     \u001b[38;5;28mprint\u001b[39m(\u001b[38;5;124m\"\u001b[39m\u001b[38;5;124mInstance\u001b[39m\u001b[38;5;124m\"\u001b[39m, i)\n",
      "File \u001b[1;32mc:\\users\\javip\\desktop\\universidad\\cdia\\curso4\\otros\\becacolaboracion\\repo\\tfg-interpretml\\interpret\\python\\interpret-core\\interpret\\glassbox\\_categoricalnaivebayes.py:185\u001b[0m, in \u001b[0;36mBaseNaiveBayes.explain_local.<locals>.conditional_probabilities\u001b[1;34m(model, X, alpha)\u001b[0m\n\u001b[0;32m    183\u001b[0m \u001b[38;5;28;01mfor\u001b[39;00m j \u001b[38;5;129;01min\u001b[39;00m \u001b[38;5;28mrange\u001b[39m(X\u001b[38;5;241m.\u001b[39mshape[\u001b[38;5;241m0\u001b[39m]):\n\u001b[0;32m    184\u001b[0m     \u001b[38;5;28mprint\u001b[39m(X[j])\n\u001b[1;32m--> 185\u001b[0m     cp_0[j] \u001b[38;5;241m=\u001b[39m (\u001b[43mmodel\u001b[49m\u001b[38;5;241;43m.\u001b[39;49m\u001b[43mcategory_count_\u001b[49m\u001b[43m[\u001b[49m\u001b[43mj\u001b[49m\u001b[43m]\u001b[49m\u001b[43m[\u001b[49m\u001b[38;5;241;43m0\u001b[39;49m\u001b[43m]\u001b[49m\u001b[43m[\u001b[49m\u001b[43mX\u001b[49m\u001b[43m[\u001b[49m\u001b[43mj\u001b[49m\u001b[43m]\u001b[49m\u001b[43m]\u001b[49m \u001b[38;5;241m+\u001b[39m alpha) \u001b[38;5;241m/\u001b[39m (model\u001b[38;5;241m.\u001b[39mclass_count_[\u001b[38;5;241m0\u001b[39m] \u001b[38;5;241m+\u001b[39m alpha \u001b[38;5;241m*\u001b[39m model\u001b[38;5;241m.\u001b[39mcategory_count_[j]\u001b[38;5;241m.\u001b[39mshape[\u001b[38;5;241m1\u001b[39m])\n\u001b[0;32m    186\u001b[0m     cp_1[j] \u001b[38;5;241m=\u001b[39m (model\u001b[38;5;241m.\u001b[39mcategory_count_[j][\u001b[38;5;241m1\u001b[39m][X[j]] \u001b[38;5;241m+\u001b[39m alpha) \u001b[38;5;241m/\u001b[39m (model\u001b[38;5;241m.\u001b[39mclass_count_[\u001b[38;5;241m1\u001b[39m] \u001b[38;5;241m+\u001b[39m alpha \u001b[38;5;241m*\u001b[39m model\u001b[38;5;241m.\u001b[39mcategory_count_[j]\u001b[38;5;241m.\u001b[39mshape[\u001b[38;5;241m1\u001b[39m])\n\u001b[0;32m    187\u001b[0m \u001b[38;5;28;01mreturn\u001b[39;00m cp_0, cp_1\n",
      "\u001b[1;31mIndexError\u001b[0m: only integers, slices (`:`), ellipsis (`...`), numpy.newaxis (`None`) and integer or boolean arrays are valid indices"
     ]
    }
   ],
   "source": [
    "CNBlocal = CNB.explain_local(X_test_discrete, y_test)\n",
    "show(CNBlocal)"
   ]
  }
 ],
 "metadata": {
  "kernelspec": {
   "display_name": "Python 3",
   "language": "python",
   "name": "python3"
  },
  "language_info": {
   "codemirror_mode": {
    "name": "ipython",
    "version": 3
   },
   "file_extension": ".py",
   "mimetype": "text/x-python",
   "name": "python",
   "nbconvert_exporter": "python",
   "pygments_lexer": "ipython3",
   "version": "3.9.6"
  }
 },
 "nbformat": 4,
 "nbformat_minor": 2
}
