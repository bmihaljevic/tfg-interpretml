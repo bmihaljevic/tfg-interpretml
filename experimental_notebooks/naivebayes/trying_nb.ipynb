{
 "cells": [
  {
   "cell_type": "code",
   "execution_count": 1,
   "metadata": {},
   "outputs": [],
   "source": [
    "import sys\n",
    "import os\n",
    "\n",
    "# Obtener el directorio actual\n",
    "current_directory = os.getcwd()\n",
    "\n",
    "# Subir dos niveles al directorio raíz, donde se encuentra la carpeta 'interpretml'\n",
    "root_path = os.path.abspath(os.path.join(current_directory, '..', '..', '..'))\n",
    "\n",
    "sys.path.append(root_path)"
   ]
  },
  {
   "cell_type": "code",
   "execution_count": 2,
   "metadata": {},
   "outputs": [],
   "source": [
    "import pandas as pd\n",
    "import numpy as np\n",
    "import interpret\n",
    "from interpret import show"
   ]
  },
  {
   "cell_type": "code",
   "execution_count": 3,
   "metadata": {},
   "outputs": [],
   "source": [
    "iris = pd.read_csv('https://archive.ics.uci.edu/ml/machine-learning-databases/iris/iris.data', header=None)\n",
    "iris.columns = ['sepal_length', 'sepal_width', 'petal_length', 'petal_width', 'species']\n",
    "\n",
    "# Create a binary problem\n",
    "iris['species'] = np.where(iris['species'] == 'Iris-setosa', 1, 0)\n",
    "\n",
    "X = iris.drop('species', axis=1)\n",
    "y = iris['species']\n",
    "\n",
    "# Split\n",
    "from sklearn.model_selection import train_test_split\n",
    "X_train, X_test, y_train, y_test = train_test_split(X, y, test_size=0.2, random_state=42)"
   ]
  },
  {
   "cell_type": "code",
   "execution_count": 4,
   "metadata": {},
   "outputs": [
    {
     "data": {
      "text/plain": [
       "<interpret.glassbox._linear.LogisticRegression at 0x1df89f167c0>"
      ]
     },
     "execution_count": 4,
     "metadata": {},
     "output_type": "execute_result"
    }
   ],
   "source": [
    "# import linear from interpret\n",
    "from interpret.glassbox._naivebayes import NaiveBayesClassifier\n",
    "from interpret.glassbox._linear import LogisticRegression\n",
    "\n",
    "nb = NaiveBayesClassifier()\n",
    "nb.fit(X_train, y_train)\n",
    "\n",
    "lr = LogisticRegression()\n",
    "lr.fit(X_train, y_train)"
   ]
  },
  {
   "cell_type": "code",
   "execution_count": 5,
   "metadata": {},
   "outputs": [
    {
     "name": "stdout",
     "output_type": "stream",
     "text": [
      "(30, 4)\n"
     ]
    },
    {
     "data": {
      "text/html": [
       "<div>\n",
       "<style scoped>\n",
       "    .dataframe tbody tr th:only-of-type {\n",
       "        vertical-align: middle;\n",
       "    }\n",
       "\n",
       "    .dataframe tbody tr th {\n",
       "        vertical-align: top;\n",
       "    }\n",
       "\n",
       "    .dataframe thead th {\n",
       "        text-align: right;\n",
       "    }\n",
       "</style>\n",
       "<table border=\"1\" class=\"dataframe\">\n",
       "  <thead>\n",
       "    <tr style=\"text-align: right;\">\n",
       "      <th></th>\n",
       "      <th>sepal_length</th>\n",
       "      <th>sepal_width</th>\n",
       "      <th>petal_length</th>\n",
       "      <th>petal_width</th>\n",
       "    </tr>\n",
       "  </thead>\n",
       "  <tbody>\n",
       "    <tr>\n",
       "      <th>68</th>\n",
       "      <td>6.2</td>\n",
       "      <td>2.2</td>\n",
       "      <td>4.5</td>\n",
       "      <td>1.5</td>\n",
       "    </tr>\n",
       "    <tr>\n",
       "      <th>143</th>\n",
       "      <td>6.8</td>\n",
       "      <td>3.2</td>\n",
       "      <td>5.9</td>\n",
       "      <td>2.3</td>\n",
       "    </tr>\n",
       "    <tr>\n",
       "      <th>55</th>\n",
       "      <td>5.7</td>\n",
       "      <td>2.8</td>\n",
       "      <td>4.5</td>\n",
       "      <td>1.3</td>\n",
       "    </tr>\n",
       "  </tbody>\n",
       "</table>\n",
       "</div>"
      ],
      "text/plain": [
       "     sepal_length  sepal_width  petal_length  petal_width\n",
       "68            6.2          2.2           4.5          1.5\n",
       "143           6.8          3.2           5.9          2.3\n",
       "55            5.7          2.8           4.5          1.3"
      ]
     },
     "execution_count": 5,
     "metadata": {},
     "output_type": "execute_result"
    }
   ],
   "source": [
    "print(X_test.shape)\n",
    "X_test.sample(3)"
   ]
  },
  {
   "cell_type": "code",
   "execution_count": 6,
   "metadata": {},
   "outputs": [
    {
     "data": {
      "text/plain": [
       "array([0, 1, 0, 0, 0, 1, 0, 0, 0, 0, 0, 1, 1, 1, 1, 0, 0, 0, 0, 0, 1, 0,\n",
       "       1, 0, 0, 0, 0, 0, 1, 1], dtype=int64)"
      ]
     },
     "execution_count": 6,
     "metadata": {},
     "output_type": "execute_result"
    }
   ],
   "source": [
    "nb.predict(X_test)"
   ]
  },
  {
   "cell_type": "code",
   "execution_count": 7,
   "metadata": {},
   "outputs": [
    {
     "name": "stdout",
     "output_type": "stream",
     "text": [
      "[[6.21875 2.86625 4.865   1.6525 ]\n",
      " [4.99    3.44    1.4525  0.2425 ]]\n",
      "[[0.44427344 0.10923594 0.663775   0.17599375]\n",
      " [0.1239     0.1549     0.03299375 0.01144375]]\n"
     ]
    }
   ],
   "source": [
    "print(nb._model().theta_)\n",
    "print(nb._model().var_)"
   ]
  },
  {
   "cell_type": "code",
   "execution_count": 8,
   "metadata": {},
   "outputs": [
    {
     "name": "stdout",
     "output_type": "stream",
     "text": [
      "Instance 0\n",
      "[0.58910469 1.18304806 0.47972598 0.53152785] [7.85226588e-03 2.70199671e-01 8.54819833e-70 1.49645907e-17]\n",
      "[  4.31780177   1.47668828 158.30069575  38.1088452 ]\n",
      "\n",
      "Instance 1\n",
      "[4.42136424e-01 2.23111549e-02 2.58741652e-04 5.26212514e-03] [0.1482137  0.66712011 0.86803717 3.22767017]\n",
      "[ 1.09296331 -3.39788333 -8.11815973 -6.41898088]\n",
      "\n",
      "Instance 2\n",
      "[0.05066118 0.87258711 0.02163416 0.28898043] [1.52440049e-013 1.03928805e-001 1.08398870e-195 1.75343593e-080]\n",
      "[ 26.52940964   2.1277564  445.0899638  182.40383387]\n",
      "\n",
      "Instance 3\n",
      "[0.56714814 1.2007787  0.44291095 0.89015793] [1.84733798e-02 3.95460971e-01 1.65173134e-61 3.68179533e-30]\n",
      "[  3.42428977   1.11067345 139.14148009  67.65779591]\n",
      "\n",
      "Instance 4\n",
      "[0.40921675 1.18304806 0.48810972 0.79340832] [2.05437168e-06 2.70199671e-01 3.90299703e-74 1.40787766e-25]\n",
      "[ 12.2020302    1.47668828 168.31233709  56.99112668]\n",
      "\n",
      "Instance 5\n",
      "[2.81473551e-01 3.27645228e-01 9.67434854e-05 1.10299914e-02] [0.57512496 1.00841985 2.12248571 1.26160337]\n",
      "[-0.71454886 -1.12420848 -9.99603547 -4.73952065]\n",
      "\n",
      "Instance 6\n",
      "[0.38900822 1.2007787  0.1466906  0.66811272] [2.52482720e-01 3.95460971e-01 9.76293612e-31 2.24681157e-21]\n",
      "[ 0.43225767  1.11067345 67.18211503 47.14147644]\n",
      "\n",
      "Instance 7\n",
      "[0.35501465 0.93996512 0.4697138  0.28898043] [4.57837680e-07 6.97959128e-01 6.02827806e-88 1.75343593e-80]\n",
      "[ 13.5611549    0.29768223 200.07539507 182.40383387]\n",
      "\n",
      "Instance 8\n",
      "[0.59829181 0.15824571 0.44291095 0.89015793] [3.07887188e-03 7.08586910e-03 1.65173134e-61 3.68179533e-30]\n",
      "[  5.26951535   3.10604642 139.14148009  67.65779591]\n",
      "\n",
      "Instance 9\n",
      "[0.49133581 1.06361469 0.24280567 0.53152785] [8.02588700e-02 1.73072839e-01 8.26096008e-40 1.49645907e-17]\n",
      "[ 1.81187055  1.81571593 88.57636906 38.1088452 ]\n",
      "\n",
      "Instance 10\n",
      "[0.54754835 0.72493641 0.4697138  0.67478926] [1.14358747e-04 8.41661657e-01 6.02827806e-88 9.14071407e-59]\n",
      "[ 8.47386563e+00 -1.49294157e-01  2.00075395e+02  1.33246427e+02]\n",
      "\n",
      "Instance 11\n",
      "[6.21247622e-02 1.11215699e+00 5.78342658e-05 1.00995744e-03] [0.979728   0.54260695 2.10646401 1.53571681]\n",
      "[ -2.75813032   0.71767143 -10.50293984  -7.32684433]\n",
      "\n",
      "Instance 12\n",
      "[3.34646186e-01 1.92008125e-01 3.40569637e-05 2.37175854e-03] [0.39675549 1.00193068 1.54395274 3.44629074]\n",
      "[ -0.17024639  -1.65214641 -10.72182188  -7.28142211]\n",
      "\n",
      "Instance 13\n",
      "[8.45406046e-02 9.39965125e-01 9.67434854e-05 1.00995744e-03] [1.09692855 0.69795913 2.12248571 1.53571681]\n",
      "[-2.56303738  0.29768223 -9.99603547 -7.32684433]\n",
      "\n",
      "Instance 14\n",
      "[1.46332370e-01 2.23111549e-02 9.67434854e-05 5.26212514e-03] [1.07936402 0.66712011 2.12248571 3.22767017]\n",
      "[-1.99824673 -3.39788333 -9.99603547 -6.41898088]\n",
      "\n",
      "Instance 15\n",
      "[0.59409822 0.51018844 0.47972598 0.94354079] [1.11361795e-03 9.51498280e-01 8.54819833e-70 4.01837833e-35]\n",
      "[  6.27943052  -0.62325773 158.30069575  79.14148416]\n",
      "\n",
      "Instance 16\n",
      "[0.54754835 1.11215699 0.25345788 0.40579969] [1.14358747e-004 5.42606951e-001 8.85161859e-125 7.28489873e-073]\n",
      "[  8.47386563   0.71767143 284.26997868 165.20101262]\n",
      "\n",
      "Instance 17\n",
      "[0.38900822 0.65324454 0.24280567 0.39950812] [2.52482720e-01 5.85067348e-02 8.26096008e-40 4.15967587e-14]\n",
      "[ 0.43225767  2.41280968 88.57636906 29.89323296]\n",
      "\n",
      "Instance 18\n",
      "[0.44213642 1.18304806 0.44291095 0.66811272] [1.48213703e-01 2.70199671e-01 1.65173134e-61 2.24681157e-21]\n",
      "[  1.09296331   1.47668828 139.14148009  47.14147644]\n",
      "\n",
      "Instance 19\n",
      "[0.57680372 1.18304806 0.32596465 0.40579969] [3.71559879e-004 2.70199671e-001 1.34565041e-113 7.28489873e-073]\n",
      "[  7.34754728   1.47668828 258.7742717  165.20101262]\n",
      "\n",
      "Instance 20\n",
      "[4.46363570e-02 7.24936413e-01 1.59409954e-04 2.37175854e-03] [0.80719912 0.84166166 1.57945116 3.44629074]\n",
      "[-2.89502168 -0.14929416 -9.20110877 -7.28142211]\n",
      "\n",
      "Instance 21\n",
      "[0.58910469 1.11215699 0.489214   0.89395945] [7.85226588e-03 5.42606951e-01 1.31611108e-78 3.47954581e-46]\n",
      "[  4.31780177   0.71767143 178.61200075 104.55991764]\n",
      "\n",
      "Instance 22\n",
      "[1.12483953e-01 3.27645228e-01 1.59409954e-04 1.10299914e-02] [1.13291975 1.00841985 1.57945116 1.26160337]\n",
      "[-2.30974285 -1.12420848 -9.20110877 -4.73952065]\n",
      "\n",
      "Instance 23\n",
      "[0.57680372 1.18304806 0.32596465 0.53836682] [3.71559879e-004 2.70199671e-001 1.34565041e-113 1.26314612e-065]\n",
      "[  7.34754728   1.47668828 258.7742717  148.81521038]\n",
      "\n",
      "Instance 24\n",
      "[0.02486158 0.02231115 0.08300124 0.67478926] [1.63371318e-015 6.67120107e-001 1.74658884e-161 9.14071407e-059]\n",
      "[ 30.35348921  -3.39788333 367.66963558 133.24642713]\n",
      "\n",
      "Instance 25\n",
      "[0.46119559 1.11215699 0.44997289 0.28898043] [8.50343685e-06 5.42606951e-01 8.18841194e-93 1.75343593e-80]\n",
      "[ 10.90110709   0.71767143 211.23912574 182.40383387]\n",
      "\n",
      "Instance 26\n",
      "[0.46119559 0.65324454 0.25345788 0.89395945] [8.50343685e-006 5.85067348e-002 8.85161859e-125 3.47954581e-046]\n",
      "[ 10.90110709   2.41280968 284.26997868 104.55991764]\n",
      "\n",
      "Instance 27\n",
      "[0.40921675 0.72493641 0.21850393 0.28898043] [2.05437168e-006 8.41661657e-001 1.44086720e-130 1.75343593e-080]\n",
      "[ 1.22020302e+01 -1.49294157e-01  2.97449866e+02  1.82403834e+02]\n",
      "\n",
      "Instance 28\n",
      "[6.21247622e-02 1.11215699e+00 5.78342658e-05 5.26212514e-03] [0.979728   0.54260695 2.10646401 3.22767017]\n",
      "[ -2.75813032   0.71767143 -10.50293984  -6.41898088]\n",
      "\n",
      "Instance 29\n",
      "[6.21247622e-02 9.39965125e-01 1.59409954e-04 2.37175854e-03] [0.979728   0.69795913 1.57945116 3.44629074]\n",
      "[-2.75813032  0.29768223 -9.20110877 -7.28142211]\n",
      "\n"
     ]
    },
    {
     "data": {
      "text/html": [
       "<!-- http://127.0.0.1:7545/2059603632816/ -->\n",
       "<iframe src=\"http://127.0.0.1:7545/2059603632816/\" width=100% height=800 frameBorder=\"0\"></iframe>"
      ]
     },
     "metadata": {},
     "output_type": "display_data"
    }
   ],
   "source": [
    "nb_local = nb.explain_local(X_test, y_test)\n",
    "show(nb_local)"
   ]
  },
  {
   "cell_type": "code",
   "execution_count": 9,
   "metadata": {},
   "outputs": [
    {
     "data": {
      "text/plain": [
       "array([0, 1, 0, 0, 0, 1, 0, 0, 0, 0, 0, 1, 1, 1, 1, 0, 0, 0, 0, 0, 1, 0,\n",
       "       1, 0, 0, 0, 0, 0, 1, 1], dtype=int64)"
      ]
     },
     "execution_count": 9,
     "metadata": {},
     "output_type": "execute_result"
    }
   ],
   "source": [
    "lr.predict(X_test)"
   ]
  },
  {
   "cell_type": "code",
   "execution_count": 10,
   "metadata": {},
   "outputs": [
    {
     "data": {
      "text/html": [
       "<!-- http://127.0.0.1:7545/2059896444192/ -->\n",
       "<iframe src=\"http://127.0.0.1:7545/2059896444192/\" width=100% height=800 frameBorder=\"0\"></iframe>"
      ]
     },
     "metadata": {},
     "output_type": "display_data"
    }
   ],
   "source": [
    "lr_local = lr.explain_local(X_test, y_test)\n",
    "show(lr_local)"
   ]
  }
 ],
 "metadata": {
  "kernelspec": {
   "display_name": "Python 3",
   "language": "python",
   "name": "python3"
  },
  "language_info": {
   "codemirror_mode": {
    "name": "ipython",
    "version": 3
   },
   "file_extension": ".py",
   "mimetype": "text/x-python",
   "name": "python",
   "nbconvert_exporter": "python",
   "pygments_lexer": "ipython3",
   "version": "3.9.6"
  }
 },
 "nbformat": 4,
 "nbformat_minor": 2
}
