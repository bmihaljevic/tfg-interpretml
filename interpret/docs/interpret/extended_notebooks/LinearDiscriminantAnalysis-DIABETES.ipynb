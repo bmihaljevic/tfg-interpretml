{
 "cells": [
  {
   "cell_type": "markdown",
   "metadata": {},
   "source": [
    "## 0. Imports"
   ]
  },
  {
   "cell_type": "code",
   "execution_count": 2,
   "metadata": {},
   "outputs": [
    {
     "name": "stderr",
     "output_type": "stream",
     "text": [
      "c:\\Users\\javip\\anaconda3\\envs\\testing-interpret\\lib\\site-packages\\interpret_extension\\glassbox\\_nam\\trainer\\trainer.py:11: TqdmWarning: IProgress not found. Please update jupyter and ipywidgets. See https://ipywidgets.readthedocs.io/en/stable/user_install.html\n",
      "  from tqdm.autonotebook import tqdm\n"
     ]
    }
   ],
   "source": [
    "import pandas as pd\n",
    "import numpy as np\n",
    "\n",
    "from interpret_extension import show\n",
    "from interpret_extension.glassbox import LinearDiscriminantAnalysisClassifier\n",
    "\n",
    "from sklearn.model_selection import train_test_split"
   ]
  },
  {
   "cell_type": "markdown",
   "metadata": {},
   "source": [
    "## 1. Loading Diabetes Dataset"
   ]
  },
  {
   "cell_type": "markdown",
   "metadata": {},
   "source": [
    "We will use a diabetes dataset, which consists in several columns and one target feature: if the patient has diabetes or not."
   ]
  },
  {
   "cell_type": "code",
   "execution_count": 3,
   "metadata": {},
   "outputs": [],
   "source": [
    "X_train = pd.read_csv('data/diabetes/X_train.csv')\n",
    "y_train = pd.read_csv('data/diabetes/y_train.csv').to_numpy().ravel()\n",
    "\n",
    "X_test = pd.read_csv('data/diabetes/X_test.csv')\n",
    "y_test = pd.read_csv('data/diabetes/y_test.csv').to_numpy().ravel()"
   ]
  },
  {
   "cell_type": "code",
   "execution_count": 4,
   "metadata": {},
   "outputs": [
    {
     "name": "stdout",
     "output_type": "stream",
     "text": [
      "['pregnancies', 'glucose', 'diastolic', 'triceps', 'insulin', 'bmi', 'dpf', 'age']\n"
     ]
    }
   ],
   "source": [
    "print(X_train.columns.to_list())"
   ]
  },
  {
   "cell_type": "code",
   "execution_count": 5,
   "metadata": {},
   "outputs": [
    {
     "data": {
      "application/vnd.microsoft.datawrangler.viewer.v0+json": {
       "columns": [
        {
         "name": "index",
         "rawType": "int64",
         "type": "integer"
        },
        {
         "name": "pregnancies",
         "rawType": "int64",
         "type": "integer"
        },
        {
         "name": "glucose",
         "rawType": "int64",
         "type": "integer"
        },
        {
         "name": "diastolic",
         "rawType": "int64",
         "type": "integer"
        },
        {
         "name": "triceps",
         "rawType": "int64",
         "type": "integer"
        },
        {
         "name": "insulin",
         "rawType": "int64",
         "type": "integer"
        },
        {
         "name": "bmi",
         "rawType": "float64",
         "type": "float"
        },
        {
         "name": "dpf",
         "rawType": "float64",
         "type": "float"
        },
        {
         "name": "age",
         "rawType": "int64",
         "type": "integer"
        }
       ],
       "ref": "d8997b6e-10c3-411f-b188-760d206d6721",
       "rows": [
        [
         "0",
         "7",
         "150",
         "78",
         "29",
         "126",
         "35.2",
         "0.6920000000000001",
         "54"
        ],
        [
         "1",
         "4",
         "97",
         "60",
         "23",
         "0",
         "28.2",
         "0.4429999999999999",
         "22"
        ],
        [
         "2",
         "0",
         "165",
         "90",
         "33",
         "680",
         "52.3",
         "0.427",
         "23"
        ]
       ],
       "shape": {
        "columns": 8,
        "rows": 3
       }
      },
      "text/html": [
       "<div>\n",
       "<style scoped>\n",
       "    .dataframe tbody tr th:only-of-type {\n",
       "        vertical-align: middle;\n",
       "    }\n",
       "\n",
       "    .dataframe tbody tr th {\n",
       "        vertical-align: top;\n",
       "    }\n",
       "\n",
       "    .dataframe thead th {\n",
       "        text-align: right;\n",
       "    }\n",
       "</style>\n",
       "<table border=\"1\" class=\"dataframe\">\n",
       "  <thead>\n",
       "    <tr style=\"text-align: right;\">\n",
       "      <th></th>\n",
       "      <th>pregnancies</th>\n",
       "      <th>glucose</th>\n",
       "      <th>diastolic</th>\n",
       "      <th>triceps</th>\n",
       "      <th>insulin</th>\n",
       "      <th>bmi</th>\n",
       "      <th>dpf</th>\n",
       "      <th>age</th>\n",
       "    </tr>\n",
       "  </thead>\n",
       "  <tbody>\n",
       "    <tr>\n",
       "      <th>0</th>\n",
       "      <td>7</td>\n",
       "      <td>150</td>\n",
       "      <td>78</td>\n",
       "      <td>29</td>\n",
       "      <td>126</td>\n",
       "      <td>35.2</td>\n",
       "      <td>0.692</td>\n",
       "      <td>54</td>\n",
       "    </tr>\n",
       "    <tr>\n",
       "      <th>1</th>\n",
       "      <td>4</td>\n",
       "      <td>97</td>\n",
       "      <td>60</td>\n",
       "      <td>23</td>\n",
       "      <td>0</td>\n",
       "      <td>28.2</td>\n",
       "      <td>0.443</td>\n",
       "      <td>22</td>\n",
       "    </tr>\n",
       "    <tr>\n",
       "      <th>2</th>\n",
       "      <td>0</td>\n",
       "      <td>165</td>\n",
       "      <td>90</td>\n",
       "      <td>33</td>\n",
       "      <td>680</td>\n",
       "      <td>52.3</td>\n",
       "      <td>0.427</td>\n",
       "      <td>23</td>\n",
       "    </tr>\n",
       "  </tbody>\n",
       "</table>\n",
       "</div>"
      ],
      "text/plain": [
       "   pregnancies  glucose  diastolic  triceps  insulin   bmi    dpf  age\n",
       "0            7      150         78       29      126  35.2  0.692   54\n",
       "1            4       97         60       23        0  28.2  0.443   22\n",
       "2            0      165         90       33      680  52.3  0.427   23"
      ]
     },
     "execution_count": 5,
     "metadata": {},
     "output_type": "execute_result"
    }
   ],
   "source": [
    "X_train.head(3)"
   ]
  },
  {
   "cell_type": "code",
   "execution_count": 6,
   "metadata": {},
   "outputs": [
    {
     "name": "stdout",
     "output_type": "stream",
     "text": [
      "Percentage of positive class in training data:  0.35993485342019543\n",
      "Percentage of positive class in test data:  0.3051948051948052\n",
      "\n",
      "Percentage of negative class in training data:  0.6400651465798045\n",
      "Percentage of negative class in test data:  0.6948051948051948\n"
     ]
    }
   ],
   "source": [
    "print(\"Percentage of positive class in training data: \", y_train[y_train == 1].shape[0] / y_train.shape[0])\n",
    "print(\"Percentage of positive class in test data: \", y_test[y_test == 1].shape[0] / y_test.shape[0])\n",
    "print()\n",
    "print(\"Percentage of negative class in training data: \", y_train[y_train == 0].shape[0] / y_train.shape[0])\n",
    "print(\"Percentage of negative class in test data: \", y_test[y_test == 0].shape[0] / y_test.shape[0])"
   ]
  },
  {
   "cell_type": "markdown",
   "metadata": {},
   "source": [
    "## 2. Linear Discriminant Analysis Model"
   ]
  },
  {
   "cell_type": "markdown",
   "metadata": {},
   "source": [
    "Let's now use LDA model. As we know, a linear model that can classify data generating a linear decision boundary."
   ]
  },
  {
   "cell_type": "code",
   "execution_count": 7,
   "metadata": {},
   "outputs": [],
   "source": [
    "LDA_model = LinearDiscriminantAnalysisClassifier()"
   ]
  },
  {
   "cell_type": "markdown",
   "metadata": {},
   "source": [
    "Let's fit the model:"
   ]
  },
  {
   "cell_type": "code",
   "execution_count": 8,
   "metadata": {},
   "outputs": [
    {
     "data": {
      "text/plain": [
       "<interpret_extension.glassbox._lineardiscriminantanalysis.LinearDiscriminantAnalysisClassifier at 0x1e652175ba0>"
      ]
     },
     "execution_count": 8,
     "metadata": {},
     "output_type": "execute_result"
    }
   ],
   "source": [
    "LDA_model.fit(X_train, y_train)"
   ]
  },
  {
   "cell_type": "markdown",
   "metadata": {},
   "source": [
    "How will be the predictions?"
   ]
  },
  {
   "cell_type": "code",
   "execution_count": 9,
   "metadata": {},
   "outputs": [
    {
     "data": {
      "text/plain": [
       "array([1, 0, 0, 1, 0, 0, 1, 1, 0, 0, 1, 1, 0, 0, 0, 0, 1, 0, 0, 0, 1, 0,\n",
       "       0, 0, 0, 0, 0, 1, 0, 0, 0, 0, 0, 0, 0, 1, 0, 0, 0, 1, 0, 0, 0, 1,\n",
       "       1, 0, 0, 0, 0, 0, 0, 0, 1, 0, 0, 0, 0, 1, 0, 0, 1, 0, 0, 1, 1, 1,\n",
       "       1, 0, 0, 0, 0, 0, 0, 1, 1, 0, 0, 1, 0, 0, 0, 0, 0, 0, 0, 0, 0, 0,\n",
       "       1, 0, 0, 0, 0, 0, 1, 0, 0, 0, 1, 0, 0, 0, 0, 0, 1, 0, 0, 0, 0, 1,\n",
       "       0, 0, 1, 0, 1, 1, 0, 1, 0, 1, 0, 0, 0, 0, 0, 0, 0, 0, 1, 0, 0, 0,\n",
       "       0, 1, 0, 0, 0, 0, 1, 0, 0, 1, 0, 0, 0, 0, 0, 0, 0, 0, 0, 1, 0, 0],\n",
       "      dtype=int64)"
      ]
     },
     "execution_count": 9,
     "metadata": {},
     "output_type": "execute_result"
    }
   ],
   "source": [
    "pred = LDA_model.predict(X_test)\n",
    "pred"
   ]
  },
  {
   "cell_type": "code",
   "execution_count": 10,
   "metadata": {},
   "outputs": [
    {
     "name": "stdout",
     "output_type": "stream",
     "text": [
      "0.8246753246753247\n"
     ]
    }
   ],
   "source": [
    "print(LDA_model.score(X_test, y_test))"
   ]
  },
  {
   "cell_type": "markdown",
   "metadata": {},
   "source": [
    "Some interesting LDA params used to make the predictions:"
   ]
  },
  {
   "cell_type": "code",
   "execution_count": 11,
   "metadata": {},
   "outputs": [
    {
     "data": {
      "text/plain": [
       "array([[ 0.09608044,  0.03592395, -0.01526292,  0.00453258, -0.00141029,\n",
       "         0.08375644,  0.87400423,  0.02189811]])"
      ]
     },
     "execution_count": 11,
     "metadata": {},
     "output_type": "execute_result"
    }
   ],
   "source": [
    "LDA_model.model.coef_"
   ]
  },
  {
   "cell_type": "code",
   "execution_count": 12,
   "metadata": {},
   "outputs": [
    {
     "data": {
      "text/plain": [
       "array([[ 1.13937785e+01,  4.21547955e+00,  8.75370600e+00,\n",
       "        -5.61901610e+00, -4.20172600e+01, -1.52124753e+00,\n",
       "        -9.03720624e-02,  2.03758931e+01],\n",
       "       [ 4.21547955e+00,  7.97120558e+02,  7.52904773e+01,\n",
       "         8.58687596e+00,  1.01453625e+03,  2.39489054e+01,\n",
       "         4.59618776e-01,  6.42299508e+01],\n",
       "       [ 8.75370600e+00,  7.52904773e+01,  3.80346024e+02,\n",
       "         6.54956475e+01,  1.71994941e+02,  3.81081863e+01,\n",
       "         2.79448483e-01,  5.06088545e+01],\n",
       "       [-5.61901610e+00,  8.58687596e+00,  6.54956475e+01,\n",
       "         2.55260496e+02,  7.83641631e+02,  4.80669453e+01,\n",
       "         9.62168692e-01, -3.41700315e+01],\n",
       "       [-4.20172600e+01,  1.01453625e+03,  1.71994941e+02,\n",
       "         7.83641631e+02,  1.35837078e+04,  1.44504920e+02,\n",
       "         6.62685541e+00, -1.30023701e+02],\n",
       "       [-1.52124753e+00,  2.39489054e+01,  3.81081863e+01,\n",
       "         4.80669453e+01,  1.44504920e+02,  5.67603172e+01,\n",
       "         2.51281299e-01, -5.96180973e+00],\n",
       "       [-9.03720624e-02,  4.59618776e-01,  2.79448483e-01,\n",
       "         9.62168692e-01,  6.62685541e+00,  2.51281299e-01,\n",
       "         1.07886473e-01, -4.53390310e-02],\n",
       "       [ 2.03758931e+01,  6.42299508e+01,  5.06088545e+01,\n",
       "        -3.41700315e+01, -1.30023701e+02, -5.96180973e+00,\n",
       "        -4.53390310e-02,  1.35919912e+02]])"
      ]
     },
     "execution_count": 12,
     "metadata": {},
     "output_type": "execute_result"
    }
   ],
   "source": [
    "LDA_model.model.covariance_"
   ]
  },
  {
   "cell_type": "markdown",
   "metadata": {},
   "source": [
    "Now let's see the InterpretML visualizations:"
   ]
  },
  {
   "cell_type": "code",
   "execution_count": 13,
   "metadata": {},
   "outputs": [
    {
     "data": {
      "text/html": [
       "<!-- http://127.0.0.1:7725/2088731363408/ -->\n",
       "<iframe src=\"http://127.0.0.1:7725/2088731363408/\" width=100% height=800 frameBorder=\"0\"></iframe>"
      ]
     },
     "metadata": {},
     "output_type": "display_data"
    }
   ],
   "source": [
    "LDA_global_explanation = LDA_model.explain_global()\n",
    "show(LDA_global_explanation)"
   ]
  },
  {
   "cell_type": "code",
   "execution_count": 14,
   "metadata": {},
   "outputs": [
    {
     "data": {
      "text/html": [
       "<!-- http://127.0.0.1:7725/2088812929296/ -->\n",
       "<iframe src=\"http://127.0.0.1:7725/2088812929296/\" width=100% height=800 frameBorder=\"0\"></iframe>"
      ]
     },
     "metadata": {},
     "output_type": "display_data"
    }
   ],
   "source": [
    "LDA_local_explanation = LDA_model.explain_local(X_test, y_test)\n",
    "show(LDA_local_explanation)"
   ]
  }
 ],
 "metadata": {
  "kernelspec": {
   "display_name": "testing-interpret",
   "language": "python",
   "name": "python3"
  },
  "language_info": {
   "codemirror_mode": {
    "name": "ipython",
    "version": 3
   },
   "file_extension": ".py",
   "mimetype": "text/x-python",
   "name": "python",
   "nbconvert_exporter": "python",
   "pygments_lexer": "ipython3",
   "version": "3.10.16"
  }
 },
 "nbformat": 4,
 "nbformat_minor": 2
}
